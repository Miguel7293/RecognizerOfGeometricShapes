{
 "cells": [
  {
   "cell_type": "code",
   "execution_count": 1,
   "id": "0668abd3",
   "metadata": {},
   "outputs": [
    {
     "name": "stderr",
     "output_type": "stream",
     "text": [
      "WARNING:absl:Compiled the loaded model, but the compiled metrics have yet to be built. `model.compile_metrics` will be empty until you train or evaluate the model.\n"
     ]
    },
    {
     "name": "stdout",
     "output_type": "stream",
     "text": [
      "Modelo cargado desde: D:\\Descargas 2.0\\SEMESTREVII\\InteraccionHumanoComputador\\PrimeraTarea\\AnalisiOfSolidAndPlane\\data\\models\\modelo_formas.h5\n",
      "Clases originales: {'circle': 0, 'cone': 1, 'cube': 2, 'cuboid': 3, 'cylinder': 4, 'ellipse': 5, 'hexagon': 6, 'octagon': 7, 'pentagon': 8, 'prism': 9, 'pyramid': 10, 'rectangle': 11, 'rhombus': 12, 'sphere': 13, 'square': 14, 'triangle': 15}\n",
      "Clases seleccionadas: {'circle': 0, 'cone': 1, 'cube': 2, 'cuboid': 3, 'cylinder': 4, 'ellipse': 5, 'hexagon': 6, 'octagon': 7, 'pentagon': 8, 'prism': 9, 'pyramid': 10, 'rectangle': 11, 'rhombus': 12, 'sphere': 13, 'square': 14, 'triangle': 15}\n",
      "Comenzando reentrenamiento interactivo. Captura objetos con la cámara y verifica las predicciones. Presiona 'q' para salir y reentrenar con todas las imágenes capturadas.\n",
      "Cámara activada. Dibuja un rectángulo alrededor del objeto con el mouse y presiona 'c' para capturar. Presiona 'q' para salir.\n",
      "Forma predicha: circle (Confianza: 99.40%)\n"
     ]
    },
    {
     "name": "stdin",
     "output_type": "stream",
     "text": [
      "¿Es correcto? (s/n, o 'q' para salir y reentrenar):  s\n"
     ]
    },
    {
     "name": "stdout",
     "output_type": "stream",
     "text": [
      "Imagen guardada en: D:\\Descargas 2.0\\SEMESTREVII\\InteraccionHumanoComputador\\PrimeraTarea\\AnalisiOfSolidAndPlane\\data\\raw\\circle\\circle_2618.jpg\n",
      "Cámara activada. Dibuja un rectángulo alrededor del objeto con el mouse y presiona 'c' para capturar. Presiona 'q' para salir.\n",
      "Forma predicha: rectangle (Confianza: 58.11%)\n"
     ]
    },
    {
     "name": "stdin",
     "output_type": "stream",
     "text": [
      "¿Es correcto? (s/n, o 'q' para salir y reentrenar):  s\n"
     ]
    },
    {
     "name": "stdout",
     "output_type": "stream",
     "text": [
      "Imagen guardada en: D:\\Descargas 2.0\\SEMESTREVII\\InteraccionHumanoComputador\\PrimeraTarea\\AnalisiOfSolidAndPlane\\data\\raw\\rectangle\\rectangle_2561.jpg\n",
      "Cámara activada. Dibuja un rectángulo alrededor del objeto con el mouse y presiona 'c' para capturar. Presiona 'q' para salir.\n",
      "Forma predicha: cube (Confianza: 94.59%)\n"
     ]
    },
    {
     "name": "stdin",
     "output_type": "stream",
     "text": [
      "¿Es correcto? (s/n, o 'q' para salir y reentrenar):  s\n"
     ]
    },
    {
     "name": "stdout",
     "output_type": "stream",
     "text": [
      "Imagen guardada en: D:\\Descargas 2.0\\SEMESTREVII\\InteraccionHumanoComputador\\PrimeraTarea\\AnalisiOfSolidAndPlane\\data\\raw\\cube\\cube_177.jpg\n",
      "Cámara activada. Dibuja un rectángulo alrededor del objeto con el mouse y presiona 'c' para capturar. Presiona 'q' para salir.\n",
      "Forma predicha: cube (Confianza: 99.62%)\n"
     ]
    },
    {
     "name": "stdin",
     "output_type": "stream",
     "text": [
      "¿Es correcto? (s/n, o 'q' para salir y reentrenar):  n\n"
     ]
    },
    {
     "name": "stdout",
     "output_type": "stream",
     "text": [
      "Selecciona la forma correcta (0-15): {'circle': 0, 'cone': 1, 'cube': 2, 'cuboid': 3, 'cylinder': 4, 'ellipse': 5, 'hexagon': 6, 'octagon': 7, 'pentagon': 8, 'prism': 9, 'pyramid': 10, 'rectangle': 11, 'rhombus': 12, 'sphere': 13, 'square': 14, 'triangle': 15}\n"
     ]
    },
    {
     "name": "stdin",
     "output_type": "stream",
     "text": [
      "Ingresa el número de la forma correcta:  4\n"
     ]
    },
    {
     "name": "stdout",
     "output_type": "stream",
     "text": [
      "Imagen guardada en: D:\\Descargas 2.0\\SEMESTREVII\\InteraccionHumanoComputador\\PrimeraTarea\\AnalisiOfSolidAndPlane\\data\\raw\\cylinder\\cylinder_185.jpg\n",
      "Cámara activada. Dibuja un rectángulo alrededor del objeto con el mouse y presiona 'c' para capturar. Presiona 'q' para salir.\n",
      "Forma predicha: circle (Confianza: 95.29%)\n"
     ]
    },
    {
     "name": "stdin",
     "output_type": "stream",
     "text": [
      "¿Es correcto? (s/n, o 'q' para salir y reentrenar):  n\n"
     ]
    },
    {
     "name": "stdout",
     "output_type": "stream",
     "text": [
      "Selecciona la forma correcta (0-15): {'circle': 0, 'cone': 1, 'cube': 2, 'cuboid': 3, 'cylinder': 4, 'ellipse': 5, 'hexagon': 6, 'octagon': 7, 'pentagon': 8, 'prism': 9, 'pyramid': 10, 'rectangle': 11, 'rhombus': 12, 'sphere': 13, 'square': 14, 'triangle': 15}\n"
     ]
    },
    {
     "name": "stdin",
     "output_type": "stream",
     "text": [
      "Ingresa el número de la forma correcta:  4\n"
     ]
    },
    {
     "name": "stdout",
     "output_type": "stream",
     "text": [
      "Imagen guardada en: D:\\Descargas 2.0\\SEMESTREVII\\InteraccionHumanoComputador\\PrimeraTarea\\AnalisiOfSolidAndPlane\\data\\raw\\cylinder\\cylinder_186.jpg\n",
      "Cámara activada. Dibuja un rectángulo alrededor del objeto con el mouse y presiona 'c' para capturar. Presiona 'q' para salir.\n",
      "Forma predicha: cube (Confianza: 99.70%)\n"
     ]
    },
    {
     "name": "stdin",
     "output_type": "stream",
     "text": [
      "¿Es correcto? (s/n, o 'q' para salir y reentrenar):  n\n"
     ]
    },
    {
     "name": "stdout",
     "output_type": "stream",
     "text": [
      "Selecciona la forma correcta (0-15): {'circle': 0, 'cone': 1, 'cube': 2, 'cuboid': 3, 'cylinder': 4, 'ellipse': 5, 'hexagon': 6, 'octagon': 7, 'pentagon': 8, 'prism': 9, 'pyramid': 10, 'rectangle': 11, 'rhombus': 12, 'sphere': 13, 'square': 14, 'triangle': 15}\n"
     ]
    },
    {
     "name": "stdin",
     "output_type": "stream",
     "text": [
      "Ingresa el número de la forma correcta:  4\n"
     ]
    },
    {
     "name": "stdout",
     "output_type": "stream",
     "text": [
      "Imagen guardada en: D:\\Descargas 2.0\\SEMESTREVII\\InteraccionHumanoComputador\\PrimeraTarea\\AnalisiOfSolidAndPlane\\data\\raw\\cylinder\\cylinder_187.jpg\n",
      "Cámara activada. Dibuja un rectángulo alrededor del objeto con el mouse y presiona 'c' para capturar. Presiona 'q' para salir.\n",
      "Reentrenando modelo con nuevas imágenes...\n",
      "Epoch 1/5\n"
     ]
    },
    {
     "name": "stderr",
     "output_type": "stream",
     "text": [
      "D:\\Descargas 2.0\\SEMESTREVII\\InteraccionHumanoComputador\\PrimeraTarea\\AnalisiOfSolidAndPlane\\venv\\lib\\site-packages\\keras\\src\\trainers\\data_adapters\\py_dataset_adapter.py:121: UserWarning: Your `PyDataset` class should call `super().__init__(**kwargs)` in its constructor. `**kwargs` can include `workers`, `use_multiprocessing`, `max_queue_size`. Do not pass these arguments to `fit()`, as they will be ignored.\n",
      "  self._warn_if_super_not_called()\n"
     ]
    },
    {
     "name": "stdout",
     "output_type": "stream",
     "text": [
      "\u001b[1m1/1\u001b[0m \u001b[32m━━━━━━━━━━━━━━━━━━━━\u001b[0m\u001b[37m\u001b[0m \u001b[1m4s\u001b[0m 4s/step - accuracy: 0.0000e+00 - loss: 479.8497 - val_accuracy: 0.5000 - val_loss: 27.0569\n",
      "Epoch 2/5\n",
      "\u001b[1m1/1\u001b[0m \u001b[32m━━━━━━━━━━━━━━━━━━━━\u001b[0m\u001b[37m\u001b[0m \u001b[1m0s\u001b[0m 213ms/step - accuracy: 0.0000e+00 - loss: 187.0911 - val_accuracy: 0.5000 - val_loss: 46.6010\n",
      "Epoch 3/5\n",
      "\u001b[1m1/1\u001b[0m \u001b[32m━━━━━━━━━━━━━━━━━━━━\u001b[0m\u001b[37m\u001b[0m \u001b[1m0s\u001b[0m 228ms/step - accuracy: 0.2500 - loss: 181.4218 - val_accuracy: 0.5000 - val_loss: 16.8964\n",
      "Epoch 4/5\n",
      "\u001b[1m1/1\u001b[0m \u001b[32m━━━━━━━━━━━━━━━━━━━━\u001b[0m\u001b[37m\u001b[0m \u001b[1m0s\u001b[0m 230ms/step - accuracy: 0.0000e+00 - loss: 63.8142 - val_accuracy: 0.5000 - val_loss: 84.9026\n",
      "Epoch 5/5\n",
      "\u001b[1m1/1\u001b[0m \u001b[32m━━━━━━━━━━━━━━━━━━━━\u001b[0m\u001b[37m\u001b[0m \u001b[1m0s\u001b[0m 230ms/step - accuracy: 0.0000e+00 - loss: 186.0842 - val_accuracy: 0.5000 - val_loss: 101.5902\n"
     ]
    },
    {
     "name": "stderr",
     "output_type": "stream",
     "text": [
      "WARNING:absl:You are saving your model as an HDF5 file via `model.save()` or `keras.saving.save_model(model)`. This file format is considered legacy. We recommend using instead the native Keras format, e.g. `model.save('my_model.keras')` or `keras.saving.save_model(model, 'my_model.keras')`. \n"
     ]
    },
    {
     "name": "stdout",
     "output_type": "stream",
     "text": [
      "Modelo reentrenado y guardado en: D:\\Descargas 2.0\\SEMESTREVII\\InteraccionHumanoComputador\\PrimeraTarea\\AnalisiOfSolidAndPlane\\data\\models\\modelo_formas.h5\n"
     ]
    },
    {
     "name": "stdout",
     "output_type": "stream",
     "text": [
      "Selecciona la forma correcta (0-23): {'circle': 0, 'cone': 1, 'cube': 2, 'cuboid': 3, 'cylinder': 4, 'dodecahedron': 5, 'ellipse': 6, 'heptagon': 7, 'hexagon': 8, 'nonagon': 9, 'octagon': 10, 'parallelogram': 11, 'pentagon': 12, 'prism': 13, 'pyramid': 14, 'rectangle': 15, 'rhombus': 16, 'sphere': 17, 'square': 18, 'tetrahedron': 19, 'trapezoid': 20, 'triangle': 21}\n"
     ]
    },
    {
     "name": "stdout",
     "output_type": "stream",
     "text": [
      "Ingresa el número de la forma correcta:  2\n"
     ]
    },
    {
     "name": "stdout",
     "output_type": "stream",
     "text": [
      "Imagen guardada en: D:\\Descargas 2.0\\SEMESTREVII\\InteraccionHumanoComputador\\PrimeraTarea\\AnalisiOfSolidAndPlane\\data\\raw\\cube\\cube_162.jpg\n",
      "Cámara activada. Dibuja un rectángulo alrededor del objeto con el mouse y presiona 'c' para capturar. Presiona 'q' para salir.\n",
      "Forma predicha: prism (Confianza: 61.36%)\n"
     ]
    },
    {
     "name": "stdout",
     "output_type": "stream",
     "text": [
      "¿Es correcto? (s/n, o 'q' para salir y reentrenar):  2\n"
     ]
    },
    {
     "name": "stdout",
     "output_type": "stream",
     "text": [
      "Selecciona la forma correcta (0-23): {'circle': 0, 'cone': 1, 'cube': 2, 'cuboid': 3, 'cylinder': 4, 'dodecahedron': 5, 'ellipse': 6, 'heptagon': 7, 'hexagon': 8, 'nonagon': 9, 'octagon': 10, 'parallelogram': 11, 'pentagon': 12, 'prism': 13, 'pyramid': 14, 'rectangle': 15, 'rhombus': 16, 'sphere': 17, 'square': 18, 'tetrahedron': 19, 'trapezoid': 20, 'triangle': 21}\n"
     ]
    },
    {
     "name": "stdout",
     "output_type": "stream",
     "text": [
      "Ingresa el número de la forma correcta:  2\n"
     ]
    },
    {
     "name": "stdout",
     "output_type": "stream",
     "text": [
      "Imagen guardada en: D:\\Descargas 2.0\\SEMESTREVII\\InteraccionHumanoComputador\\PrimeraTarea\\AnalisiOfSolidAndPlane\\data\\raw\\cube\\cube_163.jpg\n",
      "Cámara activada. Dibuja un rectángulo alrededor del objeto con el mouse y presiona 'c' para capturar. Presiona 'q' para salir.\n",
      "Forma predicha: prism (Confianza: 34.30%)\n"
     ]
    },
    {
     "name": "stdout",
     "output_type": "stream",
     "text": [
      "¿Es correcto? (s/n, o 'q' para salir y reentrenar):  n\n"
     ]
    },
    {
     "name": "stdout",
     "output_type": "stream",
     "text": [
      "Selecciona la forma correcta (0-23): {'circle': 0, 'cone': 1, 'cube': 2, 'cuboid': 3, 'cylinder': 4, 'dodecahedron': 5, 'ellipse': 6, 'heptagon': 7, 'hexagon': 8, 'nonagon': 9, 'octagon': 10, 'parallelogram': 11, 'pentagon': 12, 'prism': 13, 'pyramid': 14, 'rectangle': 15, 'rhombus': 16, 'sphere': 17, 'square': 18, 'tetrahedron': 19, 'trapezoid': 20, 'triangle': 21}\n"
     ]
    },
    {
     "name": "stdout",
     "output_type": "stream",
     "text": [
      "Ingresa el número de la forma correcta:  2\n"
     ]
    },
    {
     "name": "stdout",
     "output_type": "stream",
     "text": [
      "Imagen guardada en: D:\\Descargas 2.0\\SEMESTREVII\\InteraccionHumanoComputador\\PrimeraTarea\\AnalisiOfSolidAndPlane\\data\\raw\\cube\\cube_164.jpg\n",
      "Cámara activada. Dibuja un rectángulo alrededor del objeto con el mouse y presiona 'c' para capturar. Presiona 'q' para salir.\n",
      "Forma predicha: square (Confianza: 50.03%)\n"
     ]
    },
    {
     "name": "stdout",
     "output_type": "stream",
     "text": [
      "¿Es correcto? (s/n, o 'q' para salir y reentrenar):  n\n"
     ]
    },
    {
     "name": "stdout",
     "output_type": "stream",
     "text": [
      "Selecciona la forma correcta (0-23): {'circle': 0, 'cone': 1, 'cube': 2, 'cuboid': 3, 'cylinder': 4, 'dodecahedron': 5, 'ellipse': 6, 'heptagon': 7, 'hexagon': 8, 'nonagon': 9, 'octagon': 10, 'parallelogram': 11, 'pentagon': 12, 'prism': 13, 'pyramid': 14, 'rectangle': 15, 'rhombus': 16, 'sphere': 17, 'square': 18, 'tetrahedron': 19, 'trapezoid': 20, 'triangle': 21}\n"
     ]
    },
    {
     "name": "stdout",
     "output_type": "stream",
     "text": [
      "Ingresa el número de la forma correcta:  2\n"
     ]
    },
    {
     "name": "stdout",
     "output_type": "stream",
     "text": [
      "Imagen guardada en: D:\\Descargas 2.0\\SEMESTREVII\\InteraccionHumanoComputador\\PrimeraTarea\\AnalisiOfSolidAndPlane\\data\\raw\\cube\\cube_165.jpg\n",
      "Cámara activada. Dibuja un rectángulo alrededor del objeto con el mouse y presiona 'c' para capturar. Presiona 'q' para salir.\n",
      "Forma predicha: parallelogram (Confianza: 59.37%)\n"
     ]
    },
    {
     "name": "stdout",
     "output_type": "stream",
     "text": [
      "¿Es correcto? (s/n, o 'q' para salir y reentrenar):  n\n"
     ]
    },
    {
     "name": "stdout",
     "output_type": "stream",
     "text": [
      "Selecciona la forma correcta (0-23): {'circle': 0, 'cone': 1, 'cube': 2, 'cuboid': 3, 'cylinder': 4, 'dodecahedron': 5, 'ellipse': 6, 'heptagon': 7, 'hexagon': 8, 'nonagon': 9, 'octagon': 10, 'parallelogram': 11, 'pentagon': 12, 'prism': 13, 'pyramid': 14, 'rectangle': 15, 'rhombus': 16, 'sphere': 17, 'square': 18, 'tetrahedron': 19, 'trapezoid': 20, 'triangle': 21}\n"
     ]
    },
    {
     "name": "stdout",
     "output_type": "stream",
     "text": [
      "Ingresa el número de la forma correcta:  2\n"
     ]
    },
    {
     "name": "stdout",
     "output_type": "stream",
     "text": [
      "Imagen guardada en: D:\\Descargas 2.0\\SEMESTREVII\\InteraccionHumanoComputador\\PrimeraTarea\\AnalisiOfSolidAndPlane\\data\\raw\\cube\\cube_166.jpg\n",
      "Cámara activada. Dibuja un rectángulo alrededor del objeto con el mouse y presiona 'c' para capturar. Presiona 'q' para salir.\n",
      "Forma predicha: prism (Confianza: 90.87%)\n"
     ]
    },
    {
     "name": "stdout",
     "output_type": "stream",
     "text": [
      "¿Es correcto? (s/n, o 'q' para salir y reentrenar):  n\n"
     ]
    },
    {
     "name": "stdout",
     "output_type": "stream",
     "text": [
      "Selecciona la forma correcta (0-23): {'circle': 0, 'cone': 1, 'cube': 2, 'cuboid': 3, 'cylinder': 4, 'dodecahedron': 5, 'ellipse': 6, 'heptagon': 7, 'hexagon': 8, 'nonagon': 9, 'octagon': 10, 'parallelogram': 11, 'pentagon': 12, 'prism': 13, 'pyramid': 14, 'rectangle': 15, 'rhombus': 16, 'sphere': 17, 'square': 18, 'tetrahedron': 19, 'trapezoid': 20, 'triangle': 21}\n"
     ]
    },
    {
     "name": "stdout",
     "output_type": "stream",
     "text": [
      "Ingresa el número de la forma correcta:  2\n"
     ]
    },
    {
     "name": "stdout",
     "output_type": "stream",
     "text": [
      "Imagen guardada en: D:\\Descargas 2.0\\SEMESTREVII\\InteraccionHumanoComputador\\PrimeraTarea\\AnalisiOfSolidAndPlane\\data\\raw\\cube\\cube_167.jpg\n",
      "Cámara activada. Dibuja un rectángulo alrededor del objeto con el mouse y presiona 'c' para capturar. Presiona 'q' para salir.\n",
      "Forma predicha: parallelogram (Confianza: 51.64%)\n"
     ]
    },
    {
     "name": "stdout",
     "output_type": "stream",
     "text": [
      "¿Es correcto? (s/n, o 'q' para salir y reentrenar):  n\n"
     ]
    },
    {
     "name": "stdout",
     "output_type": "stream",
     "text": [
      "Selecciona la forma correcta (0-23): {'circle': 0, 'cone': 1, 'cube': 2, 'cuboid': 3, 'cylinder': 4, 'dodecahedron': 5, 'ellipse': 6, 'heptagon': 7, 'hexagon': 8, 'nonagon': 9, 'octagon': 10, 'parallelogram': 11, 'pentagon': 12, 'prism': 13, 'pyramid': 14, 'rectangle': 15, 'rhombus': 16, 'sphere': 17, 'square': 18, 'tetrahedron': 19, 'trapezoid': 20, 'triangle': 21}\n"
     ]
    },
    {
     "name": "stdout",
     "output_type": "stream",
     "text": [
      "Ingresa el número de la forma correcta:  2\n"
     ]
    },
    {
     "name": "stdout",
     "output_type": "stream",
     "text": [
      "Imagen guardada en: D:\\Descargas 2.0\\SEMESTREVII\\InteraccionHumanoComputador\\PrimeraTarea\\AnalisiOfSolidAndPlane\\data\\raw\\cube\\cube_168.jpg\n",
      "Cámara activada. Dibuja un rectángulo alrededor del objeto con el mouse y presiona 'c' para capturar. Presiona 'q' para salir.\n",
      "Forma predicha: prism (Confianza: 93.42%)\n"
     ]
    },
    {
     "name": "stdout",
     "output_type": "stream",
     "text": [
      "¿Es correcto? (s/n, o 'q' para salir y reentrenar):  n\n"
     ]
    },
    {
     "name": "stdout",
     "output_type": "stream",
     "text": [
      "Selecciona la forma correcta (0-23): {'circle': 0, 'cone': 1, 'cube': 2, 'cuboid': 3, 'cylinder': 4, 'dodecahedron': 5, 'ellipse': 6, 'heptagon': 7, 'hexagon': 8, 'nonagon': 9, 'octagon': 10, 'parallelogram': 11, 'pentagon': 12, 'prism': 13, 'pyramid': 14, 'rectangle': 15, 'rhombus': 16, 'sphere': 17, 'square': 18, 'tetrahedron': 19, 'trapezoid': 20, 'triangle': 21}\n"
     ]
    },
    {
     "name": "stdout",
     "output_type": "stream",
     "text": [
      "Ingresa el número de la forma correcta:  2\n"
     ]
    },
    {
     "name": "stdout",
     "output_type": "stream",
     "text": [
      "Imagen guardada en: D:\\Descargas 2.0\\SEMESTREVII\\InteraccionHumanoComputador\\PrimeraTarea\\AnalisiOfSolidAndPlane\\data\\raw\\cube\\cube_169.jpg\n",
      "Cámara activada. Dibuja un rectángulo alrededor del objeto con el mouse y presiona 'c' para capturar. Presiona 'q' para salir.\n",
      "Forma predicha: prism (Confianza: 95.01%)\n"
     ]
    },
    {
     "name": "stdout",
     "output_type": "stream",
     "text": [
      "¿Es correcto? (s/n, o 'q' para salir y reentrenar):  n\n"
     ]
    },
    {
     "name": "stdout",
     "output_type": "stream",
     "text": [
      "Selecciona la forma correcta (0-23): {'circle': 0, 'cone': 1, 'cube': 2, 'cuboid': 3, 'cylinder': 4, 'dodecahedron': 5, 'ellipse': 6, 'heptagon': 7, 'hexagon': 8, 'nonagon': 9, 'octagon': 10, 'parallelogram': 11, 'pentagon': 12, 'prism': 13, 'pyramid': 14, 'rectangle': 15, 'rhombus': 16, 'sphere': 17, 'square': 18, 'tetrahedron': 19, 'trapezoid': 20, 'triangle': 21}\n"
     ]
    },
    {
     "name": "stdout",
     "output_type": "stream",
     "text": [
      "Ingresa el número de la forma correcta:  2\n"
     ]
    },
    {
     "name": "stdout",
     "output_type": "stream",
     "text": [
      "Imagen guardada en: D:\\Descargas 2.0\\SEMESTREVII\\InteraccionHumanoComputador\\PrimeraTarea\\AnalisiOfSolidAndPlane\\data\\raw\\cube\\cube_170.jpg\n",
      "Cámara activada. Dibuja un rectángulo alrededor del objeto con el mouse y presiona 'c' para capturar. Presiona 'q' para salir.\n",
      "Forma predicha: prism (Confianza: 47.15%)\n"
     ]
    },
    {
     "name": "stdout",
     "output_type": "stream",
     "text": [
      "¿Es correcto? (s/n, o 'q' para salir y reentrenar):  n\n"
     ]
    },
    {
     "name": "stdout",
     "output_type": "stream",
     "text": [
      "Selecciona la forma correcta (0-23): {'circle': 0, 'cone': 1, 'cube': 2, 'cuboid': 3, 'cylinder': 4, 'dodecahedron': 5, 'ellipse': 6, 'heptagon': 7, 'hexagon': 8, 'nonagon': 9, 'octagon': 10, 'parallelogram': 11, 'pentagon': 12, 'prism': 13, 'pyramid': 14, 'rectangle': 15, 'rhombus': 16, 'sphere': 17, 'square': 18, 'tetrahedron': 19, 'trapezoid': 20, 'triangle': 21}\n"
     ]
    },
    {
     "name": "stdout",
     "output_type": "stream",
     "text": [
      "Ingresa el número de la forma correcta:  2\n"
     ]
    },
    {
     "name": "stdout",
     "output_type": "stream",
     "text": [
      "Imagen guardada en: D:\\Descargas 2.0\\SEMESTREVII\\InteraccionHumanoComputador\\PrimeraTarea\\AnalisiOfSolidAndPlane\\data\\raw\\cube\\cube_171.jpg\n",
      "Cámara activada. Dibuja un rectángulo alrededor del objeto con el mouse y presiona 'c' para capturar. Presiona 'q' para salir.\n",
      "Forma predicha: prism (Confianza: 74.08%)\n"
     ]
    },
    {
     "name": "stdout",
     "output_type": "stream",
     "text": [
      "¿Es correcto? (s/n, o 'q' para salir y reentrenar):  n\n"
     ]
    },
    {
     "name": "stdout",
     "output_type": "stream",
     "text": [
      "Selecciona la forma correcta (0-23): {'circle': 0, 'cone': 1, 'cube': 2, 'cuboid': 3, 'cylinder': 4, 'dodecahedron': 5, 'ellipse': 6, 'heptagon': 7, 'hexagon': 8, 'nonagon': 9, 'octagon': 10, 'parallelogram': 11, 'pentagon': 12, 'prism': 13, 'pyramid': 14, 'rectangle': 15, 'rhombus': 16, 'sphere': 17, 'square': 18, 'tetrahedron': 19, 'trapezoid': 20, 'triangle': 21}\n"
     ]
    },
    {
     "name": "stdout",
     "output_type": "stream",
     "text": [
      "Ingresa el número de la forma correcta:  2\n"
     ]
    },
    {
     "name": "stdout",
     "output_type": "stream",
     "text": [
      "Imagen guardada en: D:\\Descargas 2.0\\SEMESTREVII\\InteraccionHumanoComputador\\PrimeraTarea\\AnalisiOfSolidAndPlane\\data\\raw\\cube\\cube_172.jpg\n",
      "Cámara activada. Dibuja un rectángulo alrededor del objeto con el mouse y presiona 'c' para capturar. Presiona 'q' para salir.\n",
      "Reentrenando modelo con nuevas imágenes...\n",
      "Epoch 1/5\n"
     ]
    },
    {
     "name": "stderr",
     "output_type": "stream",
     "text": [
      "D:\\Descargas 2.0\\SEMESTREVII\\InteraccionHumanoComputador\\PrimeraTarea\\AnalisiOfSolidAndPlane\\venv\\lib\\site-packages\\keras\\src\\trainers\\data_adapters\\py_dataset_adapter.py:121: UserWarning: Your `PyDataset` class should call `super().__init__(**kwargs)` in its constructor. `**kwargs` can include `workers`, `use_multiprocessing`, `max_queue_size`. Do not pass these arguments to `fit()`, as they will be ignored.\n",
      "  self._warn_if_super_not_called()\n"
     ]
    },
    {
     "ename": "ValueError",
     "evalue": "Arguments `target` and `output` must have the same shape. Received: target.shape=(None, 22), output.shape=(None, 24)",
     "output_type": "error",
     "traceback": [
      "\u001b[1;31m---------------------------------------------------------------------------\u001b[0m",
      "\u001b[1;31mValueError\u001b[0m                                Traceback (most recent call last)",
      "Cell \u001b[1;32mIn[1], line 142\u001b[0m\n\u001b[0;32m    140\u001b[0m \u001b[38;5;66;03m# Reentrena el modelo\u001b[39;00m\n\u001b[0;32m    141\u001b[0m \u001b[38;5;28mprint\u001b[39m(\u001b[38;5;124m\"\u001b[39m\u001b[38;5;124mReentrenando modelo con nuevas imágenes...\u001b[39m\u001b[38;5;124m\"\u001b[39m)\n\u001b[1;32m--> 142\u001b[0m \u001b[43mmodel\u001b[49m\u001b[38;5;241;43m.\u001b[39;49m\u001b[43mfit\u001b[49m\u001b[43m(\u001b[49m\u001b[43mtrain_generator\u001b[49m\u001b[43m,\u001b[49m\u001b[43m \u001b[49m\u001b[43mepochs\u001b[49m\u001b[38;5;241;43m=\u001b[39;49m\u001b[38;5;241;43m5\u001b[39;49m\u001b[43m,\u001b[49m\u001b[43m \u001b[49m\u001b[43mvalidation_data\u001b[49m\u001b[38;5;241;43m=\u001b[39;49m\u001b[43mvalidation_generator\u001b[49m\u001b[43m)\u001b[49m\n\u001b[0;32m    144\u001b[0m \u001b[38;5;66;03m# Guarda el modelo actualizado\u001b[39;00m\n\u001b[0;32m    145\u001b[0m model\u001b[38;5;241m.\u001b[39msave(model_path)\n",
      "File \u001b[1;32mD:\\Descargas 2.0\\SEMESTREVII\\InteraccionHumanoComputador\\PrimeraTarea\\AnalisiOfSolidAndPlane\\venv\\lib\\site-packages\\keras\\src\\utils\\traceback_utils.py:122\u001b[0m, in \u001b[0;36mfilter_traceback.<locals>.error_handler\u001b[1;34m(*args, **kwargs)\u001b[0m\n\u001b[0;32m    119\u001b[0m     filtered_tb \u001b[38;5;241m=\u001b[39m _process_traceback_frames(e\u001b[38;5;241m.\u001b[39m__traceback__)\n\u001b[0;32m    120\u001b[0m     \u001b[38;5;66;03m# To get the full stack trace, call:\u001b[39;00m\n\u001b[0;32m    121\u001b[0m     \u001b[38;5;66;03m# `keras.config.disable_traceback_filtering()`\u001b[39;00m\n\u001b[1;32m--> 122\u001b[0m     \u001b[38;5;28;01mraise\u001b[39;00m e\u001b[38;5;241m.\u001b[39mwith_traceback(filtered_tb) \u001b[38;5;28;01mfrom\u001b[39;00m\u001b[38;5;250m \u001b[39m\u001b[38;5;28;01mNone\u001b[39;00m\n\u001b[0;32m    123\u001b[0m \u001b[38;5;28;01mfinally\u001b[39;00m:\n\u001b[0;32m    124\u001b[0m     \u001b[38;5;28;01mdel\u001b[39;00m filtered_tb\n",
      "File \u001b[1;32mD:\\Descargas 2.0\\SEMESTREVII\\InteraccionHumanoComputador\\PrimeraTarea\\AnalisiOfSolidAndPlane\\venv\\lib\\site-packages\\keras\\src\\backend\\tensorflow\\nn.py:669\u001b[0m, in \u001b[0;36mcategorical_crossentropy\u001b[1;34m(target, output, from_logits, axis)\u001b[0m\n\u001b[0;32m    667\u001b[0m \u001b[38;5;28;01mfor\u001b[39;00m e1, e2 \u001b[38;5;129;01min\u001b[39;00m \u001b[38;5;28mzip\u001b[39m(target\u001b[38;5;241m.\u001b[39mshape, output\u001b[38;5;241m.\u001b[39mshape):\n\u001b[0;32m    668\u001b[0m     \u001b[38;5;28;01mif\u001b[39;00m e1 \u001b[38;5;129;01mis\u001b[39;00m \u001b[38;5;129;01mnot\u001b[39;00m \u001b[38;5;28;01mNone\u001b[39;00m \u001b[38;5;129;01mand\u001b[39;00m e2 \u001b[38;5;129;01mis\u001b[39;00m \u001b[38;5;129;01mnot\u001b[39;00m \u001b[38;5;28;01mNone\u001b[39;00m \u001b[38;5;129;01mand\u001b[39;00m e1 \u001b[38;5;241m!=\u001b[39m e2:\n\u001b[1;32m--> 669\u001b[0m         \u001b[38;5;28;01mraise\u001b[39;00m \u001b[38;5;167;01mValueError\u001b[39;00m(\n\u001b[0;32m    670\u001b[0m             \u001b[38;5;124m\"\u001b[39m\u001b[38;5;124mArguments `target` and `output` must have the same shape. \u001b[39m\u001b[38;5;124m\"\u001b[39m\n\u001b[0;32m    671\u001b[0m             \u001b[38;5;124m\"\u001b[39m\u001b[38;5;124mReceived: \u001b[39m\u001b[38;5;124m\"\u001b[39m\n\u001b[0;32m    672\u001b[0m             \u001b[38;5;124mf\u001b[39m\u001b[38;5;124m\"\u001b[39m\u001b[38;5;124mtarget.shape=\u001b[39m\u001b[38;5;132;01m{\u001b[39;00mtarget\u001b[38;5;241m.\u001b[39mshape\u001b[38;5;132;01m}\u001b[39;00m\u001b[38;5;124m, output.shape=\u001b[39m\u001b[38;5;132;01m{\u001b[39;00moutput\u001b[38;5;241m.\u001b[39mshape\u001b[38;5;132;01m}\u001b[39;00m\u001b[38;5;124m\"\u001b[39m\n\u001b[0;32m    673\u001b[0m         )\n\u001b[0;32m    675\u001b[0m output, from_logits \u001b[38;5;241m=\u001b[39m _get_logits(\n\u001b[0;32m    676\u001b[0m     output, from_logits, \u001b[38;5;124m\"\u001b[39m\u001b[38;5;124mSoftmax\u001b[39m\u001b[38;5;124m\"\u001b[39m, \u001b[38;5;124m\"\u001b[39m\u001b[38;5;124mcategorical_crossentropy\u001b[39m\u001b[38;5;124m\"\u001b[39m\n\u001b[0;32m    677\u001b[0m )\n\u001b[0;32m    678\u001b[0m \u001b[38;5;28;01mif\u001b[39;00m from_logits:\n",
      "\u001b[1;31mValueError\u001b[0m: Arguments `target` and `output` must have the same shape. Received: target.shape=(None, 22), output.shape=(None, 24)"
     ]
    },
    {
     "name": "stdout",
     "output_type": "stream",
     "text": [
      "Cámara activada. Dibuja un rectángulo alrededor del objeto con el mouse y presiona 'c' para capturar. Presiona 'q' para salir.\n",
      "Forma predicha: rhombus\n"
     ]
    },
    {
     "name": "stdout",
     "output_type": "stream",
     "text": [
      "¿Es correcto? (s/n, o 'q' para salir):  n\n"
     ]
    },
    {
     "name": "stdout",
     "output_type": "stream",
     "text": [
      "Selecciona la forma correcta (0-23): {'circle': 0, 'cone': 1, 'cube': 2, 'cuboid': 3, 'cylinder': 4, 'decagon': 5, 'dodecahedron': 6, 'ellipse': 7, 'heptagon': 8, 'hexagon': 9, 'nonagon': 10, 'octagon': 11, 'octahedron': 12, 'parallelogram': 13, 'pentagon': 14, 'prism': 15, 'pyramid': 16, 'rectangle': 17, 'rhombus': 18, 'sphere': 19, 'square': 20, 'tetrahedron': 21, 'trapezoid': 22, 'triangle': 23}\n"
     ]
    },
    {
     "name": "stdout",
     "output_type": "stream",
     "text": [
      "Ingresa el número de la forma correcta:  0\n"
     ]
    },
    {
     "name": "stdout",
     "output_type": "stream",
     "text": [
      "Cámara activada. Dibuja un rectángulo alrededor del objeto con el mouse y presiona 'c' para capturar. Presiona 'q' para salir.\n",
      "Forma predicha: rhombus\n"
     ]
    },
    {
     "name": "stdout",
     "output_type": "stream",
     "text": [
      "¿Es correcto? (s/n, o 'q' para salir):  s\n"
     ]
    },
    {
     "name": "stdout",
     "output_type": "stream",
     "text": [
      "Cámara activada. Dibuja un rectángulo alrededor del objeto con el mouse y presiona 'c' para capturar. Presiona 'q' para salir.\n",
      "Forma predicha: parallelogram\n"
     ]
    },
    {
     "name": "stdout",
     "output_type": "stream",
     "text": [
      "¿Es correcto? (s/n, o 'q' para salir):  s\n"
     ]
    },
    {
     "name": "stdout",
     "output_type": "stream",
     "text": [
      "Cámara activada. Dibuja un rectángulo alrededor del objeto con el mouse y presiona 'c' para capturar. Presiona 'q' para salir.\n",
      "Forma predicha: parallelogram\n"
     ]
    },
    {
     "name": "stdout",
     "output_type": "stream",
     "text": [
      "¿Es correcto? (s/n, o 'q' para salir):  n\n"
     ]
    },
    {
     "name": "stdout",
     "output_type": "stream",
     "text": [
      "Selecciona la forma correcta (0-23): {'circle': 0, 'cone': 1, 'cube': 2, 'cuboid': 3, 'cylinder': 4, 'decagon': 5, 'dodecahedron': 6, 'ellipse': 7, 'heptagon': 8, 'hexagon': 9, 'nonagon': 10, 'octagon': 11, 'octahedron': 12, 'parallelogram': 13, 'pentagon': 14, 'prism': 15, 'pyramid': 16, 'rectangle': 17, 'rhombus': 18, 'sphere': 19, 'square': 20, 'tetrahedron': 21, 'trapezoid': 22, 'triangle': 23}\n"
     ]
    },
    {
     "name": "stdout",
     "output_type": "stream",
     "text": [
      "Ingresa el número de la forma correcta:  23\n"
     ]
    },
    {
     "name": "stdout",
     "output_type": "stream",
     "text": [
      "Cámara activada. Dibuja un rectángulo alrededor del objeto con el mouse y presiona 'c' para capturar. Presiona 'q' para salir.\n",
      "Forma predicha: parallelogram\n"
     ]
    },
    {
     "name": "stdout",
     "output_type": "stream",
     "text": [
      "¿Es correcto? (s/n, o 'q' para salir):  n\n"
     ]
    },
    {
     "name": "stdout",
     "output_type": "stream",
     "text": [
      "Selecciona la forma correcta (0-23): {'circle': 0, 'cone': 1, 'cube': 2, 'cuboid': 3, 'cylinder': 4, 'decagon': 5, 'dodecahedron': 6, 'ellipse': 7, 'heptagon': 8, 'hexagon': 9, 'nonagon': 10, 'octagon': 11, 'octahedron': 12, 'parallelogram': 13, 'pentagon': 14, 'prism': 15, 'pyramid': 16, 'rectangle': 17, 'rhombus': 18, 'sphere': 19, 'square': 20, 'tetrahedron': 21, 'trapezoid': 22, 'triangle': 23}\n"
     ]
    },
    {
     "name": "stdout",
     "output_type": "stream",
     "text": [
      "Ingresa el número de la forma correcta:  17\n"
     ]
    },
    {
     "name": "stdout",
     "output_type": "stream",
     "text": [
      "Cámara activada. Dibuja un rectángulo alrededor del objeto con el mouse y presiona 'c' para capturar. Presiona 'q' para salir.\n",
      "Forma predicha: rectangle\n"
     ]
    },
    {
     "name": "stdout",
     "output_type": "stream",
     "text": [
      "¿Es correcto? (s/n, o 'q' para salir):  s\n"
     ]
    },
    {
     "name": "stdout",
     "output_type": "stream",
     "text": [
      "Cámara activada. Dibuja un rectángulo alrededor del objeto con el mouse y presiona 'c' para capturar. Presiona 'q' para salir.\n"
     ]
    },
    {
     "ename": "NameError",
     "evalue": "name 'ImageDataGenerator' is not defined",
     "output_type": "error",
     "traceback": [
      "\u001b[1;31m---------------------------------------------------------------------------\u001b[0m",
      "\u001b[1;31mNameError\u001b[0m                                 Traceback (most recent call last)",
      "Cell \u001b[1;32mIn[1], line 125\u001b[0m\n\u001b[0;32m    122\u001b[0m X_train, X_val, y_train, y_val \u001b[38;5;241m=\u001b[39m train_test_split(new_images, new_labels, test_size\u001b[38;5;241m=\u001b[39m\u001b[38;5;241m0.2\u001b[39m, random_state\u001b[38;5;241m=\u001b[39m\u001b[38;5;241m42\u001b[39m)\n\u001b[0;32m    124\u001b[0m \u001b[38;5;66;03m# Augmentación\u001b[39;00m\n\u001b[1;32m--> 125\u001b[0m datagen \u001b[38;5;241m=\u001b[39m \u001b[43mImageDataGenerator\u001b[49m(rotation_range\u001b[38;5;241m=\u001b[39m\u001b[38;5;241m20\u001b[39m, width_shift_range\u001b[38;5;241m=\u001b[39m\u001b[38;5;241m0.2\u001b[39m, height_shift_range\u001b[38;5;241m=\u001b[39m\u001b[38;5;241m0.2\u001b[39m, horizontal_flip\u001b[38;5;241m=\u001b[39m\u001b[38;5;28;01mTrue\u001b[39;00m)\n\u001b[0;32m    126\u001b[0m train_generator \u001b[38;5;241m=\u001b[39m datagen\u001b[38;5;241m.\u001b[39mflow(X_train, y_train, batch_size\u001b[38;5;241m=\u001b[39m\u001b[38;5;241m16\u001b[39m)\n\u001b[0;32m    127\u001b[0m validation_generator \u001b[38;5;241m=\u001b[39m datagen\u001b[38;5;241m.\u001b[39mflow(X_val, y_val, batch_size\u001b[38;5;241m=\u001b[39m\u001b[38;5;241m16\u001b[39m)\n",
      "\u001b[1;31mNameError\u001b[0m: name 'ImageDataGenerator' is not defined"
     ]
    },
    {
     "name": "stdout",
     "output_type": "stream",
     "text": [
      "¿Es correcto? (s/n, o 'q' para salir):  s\n"
     ]
    },
    {
     "name": "stdout",
     "output_type": "stream",
     "text": [
      "Cámara activada. Dibuja un rectángulo alrededor del objeto con el mouse y presiona 'c' para capturar.\n",
      "Forma predicha: rectangle\n"
     ]
    },
    {
     "name": "stdout",
     "output_type": "stream",
     "text": [
      "¿Es correcto? (s/n, o 'q' para salir):  s\n"
     ]
    },
    {
     "name": "stdout",
     "output_type": "stream",
     "text": [
      "Cámara activada. Dibuja un rectángulo alrededor del objeto con el mouse y presiona 'c' para capturar.\n",
      "Forma predicha: rhombus\n"
     ]
    },
    {
     "name": "stdout",
     "output_type": "stream",
     "text": [
      "¿Es correcto? (s/n, o 'q' para salir):  n\n"
     ]
    },
    {
     "name": "stdout",
     "output_type": "stream",
     "text": [
      "Selecciona la forma correcta (0-23): {'circle': 0, 'cone': 1, 'cube': 2, 'cuboid': 3, 'cylinder': 4, 'decagon': 5, 'dodecahedron': 6, 'ellipse': 7, 'heptagon': 8, 'hexagon': 9, 'nonagon': 10, 'octagon': 11, 'octahedron': 12, 'parallelogram': 13, 'pentagon': 14, 'prism': 15, 'pyramid': 16, 'rectangle': 17, 'rhombus': 18, 'sphere': 19, 'square': 20, 'tetrahedron': 21, 'trapezoid': 22, 'triangle': 23}\n"
     ]
    },
    {
     "name": "stdout",
     "output_type": "stream",
     "text": [
      "Ingresa el número de la forma correcta:  0\n"
     ]
    },
    {
     "name": "stdout",
     "output_type": "stream",
     "text": [
      "Cámara activada. Dibuja un rectángulo alrededor del objeto con el mouse y presiona 'c' para capturar.\n",
      "Forma predicha: parallelogram\n"
     ]
    },
    {
     "name": "stdout",
     "output_type": "stream",
     "text": [
      "¿Es correcto? (s/n, o 'q' para salir):  n\n"
     ]
    },
    {
     "name": "stdout",
     "output_type": "stream",
     "text": [
      "Selecciona la forma correcta (0-23): {'circle': 0, 'cone': 1, 'cube': 2, 'cuboid': 3, 'cylinder': 4, 'decagon': 5, 'dodecahedron': 6, 'ellipse': 7, 'heptagon': 8, 'hexagon': 9, 'nonagon': 10, 'octagon': 11, 'octahedron': 12, 'parallelogram': 13, 'pentagon': 14, 'prism': 15, 'pyramid': 16, 'rectangle': 17, 'rhombus': 18, 'sphere': 19, 'square': 20, 'tetrahedron': 21, 'trapezoid': 22, 'triangle': 23}\n"
     ]
    },
    {
     "name": "stdout",
     "output_type": "stream",
     "text": [
      "Ingresa el número de la forma correcta:  4\n"
     ]
    },
    {
     "name": "stdout",
     "output_type": "stream",
     "text": [
      "Cámara activada. Dibuja un rectángulo alrededor del objeto con el mouse y presiona 'c' para capturar.\n",
      "Forma predicha: parallelogram\n"
     ]
    },
    {
     "name": "stdout",
     "output_type": "stream",
     "text": [
      "¿Es correcto? (s/n, o 'q' para salir):  n\n"
     ]
    },
    {
     "name": "stdout",
     "output_type": "stream",
     "text": [
      "Selecciona la forma correcta (0-23): {'circle': 0, 'cone': 1, 'cube': 2, 'cuboid': 3, 'cylinder': 4, 'decagon': 5, 'dodecahedron': 6, 'ellipse': 7, 'heptagon': 8, 'hexagon': 9, 'nonagon': 10, 'octagon': 11, 'octahedron': 12, 'parallelogram': 13, 'pentagon': 14, 'prism': 15, 'pyramid': 16, 'rectangle': 17, 'rhombus': 18, 'sphere': 19, 'square': 20, 'tetrahedron': 21, 'trapezoid': 22, 'triangle': 23}\n"
     ]
    },
    {
     "name": "stdout",
     "output_type": "stream",
     "text": [
      "Ingresa el número de la forma correcta:  7\n"
     ]
    },
    {
     "name": "stdout",
     "output_type": "stream",
     "text": [
      "Cámara activada. Dibuja un rectángulo alrededor del objeto con el mouse y presiona 'c' para capturar.\n",
      "Forma predicha: rectangle\n"
     ]
    },
    {
     "name": "stdout",
     "output_type": "stream",
     "text": [
      "¿Es correcto? (s/n, o 'q' para salir):  n\n"
     ]
    },
    {
     "name": "stdout",
     "output_type": "stream",
     "text": [
      "Selecciona la forma correcta (0-23): {'circle': 0, 'cone': 1, 'cube': 2, 'cuboid': 3, 'cylinder': 4, 'decagon': 5, 'dodecahedron': 6, 'ellipse': 7, 'heptagon': 8, 'hexagon': 9, 'nonagon': 10, 'octagon': 11, 'octahedron': 12, 'parallelogram': 13, 'pentagon': 14, 'prism': 15, 'pyramid': 16, 'rectangle': 17, 'rhombus': 18, 'sphere': 19, 'square': 20, 'tetrahedron': 21, 'trapezoid': 22, 'triangle': 23}\n"
     ]
    },
    {
     "name": "stdout",
     "output_type": "stream",
     "text": [
      "Ingresa el número de la forma correcta:  2\n"
     ]
    },
    {
     "name": "stdout",
     "output_type": "stream",
     "text": [
      "Cámara activada. Dibuja un rectángulo alrededor del objeto con el mouse y presiona 'c' para capturar.\n",
      "Forma predicha: parallelogram\n"
     ]
    },
    {
     "name": "stdout",
     "output_type": "stream",
     "text": [
      "¿Es correcto? (s/n, o 'q' para salir):  n\n"
     ]
    },
    {
     "name": "stdout",
     "output_type": "stream",
     "text": [
      "Selecciona la forma correcta (0-23): {'circle': 0, 'cone': 1, 'cube': 2, 'cuboid': 3, 'cylinder': 4, 'decagon': 5, 'dodecahedron': 6, 'ellipse': 7, 'heptagon': 8, 'hexagon': 9, 'nonagon': 10, 'octagon': 11, 'octahedron': 12, 'parallelogram': 13, 'pentagon': 14, 'prism': 15, 'pyramid': 16, 'rectangle': 17, 'rhombus': 18, 'sphere': 19, 'square': 20, 'tetrahedron': 21, 'trapezoid': 22, 'triangle': 23}\n"
     ]
    },
    {
     "name": "stdout",
     "output_type": "stream",
     "text": [
      "Ingresa el número de la forma correcta:  2\n"
     ]
    },
    {
     "name": "stdout",
     "output_type": "stream",
     "text": [
      "Cámara activada. Dibuja un rectángulo alrededor del objeto con el mouse y presiona 'c' para capturar.\n",
      "Forma predicha: parallelogram\n"
     ]
    },
    {
     "name": "stdout",
     "output_type": "stream",
     "text": [
      "¿Es correcto? (s/n, o 'q' para salir):  n\n"
     ]
    },
    {
     "name": "stdout",
     "output_type": "stream",
     "text": [
      "Selecciona la forma correcta (0-23): {'circle': 0, 'cone': 1, 'cube': 2, 'cuboid': 3, 'cylinder': 4, 'decagon': 5, 'dodecahedron': 6, 'ellipse': 7, 'heptagon': 8, 'hexagon': 9, 'nonagon': 10, 'octagon': 11, 'octahedron': 12, 'parallelogram': 13, 'pentagon': 14, 'prism': 15, 'pyramid': 16, 'rectangle': 17, 'rhombus': 18, 'sphere': 19, 'square': 20, 'tetrahedron': 21, 'trapezoid': 22, 'triangle': 23}\n"
     ]
    },
    {
     "name": "stdout",
     "output_type": "stream",
     "text": [
      "Ingresa el número de la forma correcta:  4\n"
     ]
    },
    {
     "name": "stdout",
     "output_type": "stream",
     "text": [
      "Cámara activada. Dibuja un rectángulo alrededor del objeto con el mouse y presiona 'c' para capturar.\n",
      "Forma predicha: parallelogram\n"
     ]
    },
    {
     "name": "stdout",
     "output_type": "stream",
     "text": [
      "¿Es correcto? (s/n, o 'q' para salir):  n\n"
     ]
    },
    {
     "name": "stdout",
     "output_type": "stream",
     "text": [
      "Selecciona la forma correcta (0-23): {'circle': 0, 'cone': 1, 'cube': 2, 'cuboid': 3, 'cylinder': 4, 'decagon': 5, 'dodecahedron': 6, 'ellipse': 7, 'heptagon': 8, 'hexagon': 9, 'nonagon': 10, 'octagon': 11, 'octahedron': 12, 'parallelogram': 13, 'pentagon': 14, 'prism': 15, 'pyramid': 16, 'rectangle': 17, 'rhombus': 18, 'sphere': 19, 'square': 20, 'tetrahedron': 21, 'trapezoid': 22, 'triangle': 23}\n"
     ]
    },
    {
     "name": "stdout",
     "output_type": "stream",
     "text": [
      "Ingresa el número de la forma correcta:  4\n"
     ]
    },
    {
     "name": "stdout",
     "output_type": "stream",
     "text": [
      "Cámara activada. Dibuja un rectángulo alrededor del objeto con el mouse y presiona 'c' para capturar.\n",
      "Forma predicha: rectangle\n"
     ]
    },
    {
     "name": "stdout",
     "output_type": "stream",
     "text": [
      "¿Es correcto? (s/n, o 'q' para salir):  s\n"
     ]
    },
    {
     "name": "stdout",
     "output_type": "stream",
     "text": [
      "Cámara activada. Dibuja un rectángulo alrededor del objeto con el mouse y presiona 'c' para capturar.\n",
      "Forma predicha: parallelogram\n"
     ]
    },
    {
     "name": "stdout",
     "output_type": "stream",
     "text": [
      "¿Es correcto? (s/n, o 'q' para salir):  n\n"
     ]
    },
    {
     "name": "stdout",
     "output_type": "stream",
     "text": [
      "Selecciona la forma correcta (0-23): {'circle': 0, 'cone': 1, 'cube': 2, 'cuboid': 3, 'cylinder': 4, 'decagon': 5, 'dodecahedron': 6, 'ellipse': 7, 'heptagon': 8, 'hexagon': 9, 'nonagon': 10, 'octagon': 11, 'octahedron': 12, 'parallelogram': 13, 'pentagon': 14, 'prism': 15, 'pyramid': 16, 'rectangle': 17, 'rhombus': 18, 'sphere': 19, 'square': 20, 'tetrahedron': 21, 'trapezoid': 22, 'triangle': 23}\n"
     ]
    },
    {
     "name": "stdout",
     "output_type": "stream",
     "text": [
      "Ingresa el número de la forma correcta:  4\n"
     ]
    },
    {
     "name": "stdout",
     "output_type": "stream",
     "text": [
      "Cámara activada. Dibuja un rectángulo alrededor del objeto con el mouse y presiona 'c' para capturar.\n",
      "Forma predicha: square\n"
     ]
    },
    {
     "name": "stdout",
     "output_type": "stream",
     "text": [
      "¿Es correcto? (s/n, o 'q' para salir):  s\n"
     ]
    },
    {
     "name": "stdout",
     "output_type": "stream",
     "text": [
      "Cámara activada. Dibuja un rectángulo alrededor del objeto con el mouse y presiona 'c' para capturar.\n",
      "Forma predicha: rectangle\n"
     ]
    },
    {
     "name": "stdout",
     "output_type": "stream",
     "text": [
      "¿Es correcto? (s/n, o 'q' para salir):  n\n"
     ]
    },
    {
     "name": "stdout",
     "output_type": "stream",
     "text": [
      "Selecciona la forma correcta (0-23): {'circle': 0, 'cone': 1, 'cube': 2, 'cuboid': 3, 'cylinder': 4, 'decagon': 5, 'dodecahedron': 6, 'ellipse': 7, 'heptagon': 8, 'hexagon': 9, 'nonagon': 10, 'octagon': 11, 'octahedron': 12, 'parallelogram': 13, 'pentagon': 14, 'prism': 15, 'pyramid': 16, 'rectangle': 17, 'rhombus': 18, 'sphere': 19, 'square': 20, 'tetrahedron': 21, 'trapezoid': 22, 'triangle': 23}\n"
     ]
    },
    {
     "name": "stdout",
     "output_type": "stream",
     "text": [
      "Ingresa el número de la forma correcta:  3\n"
     ]
    },
    {
     "name": "stdout",
     "output_type": "stream",
     "text": [
      "Cámara activada. Dibuja un rectángulo alrededor del objeto con el mouse y presiona 'c' para capturar.\n",
      "Forma predicha: parallelogram\n"
     ]
    },
    {
     "name": "stdout",
     "output_type": "stream",
     "text": [
      "¿Es correcto? (s/n, o 'q' para salir):  n\n"
     ]
    },
    {
     "name": "stdout",
     "output_type": "stream",
     "text": [
      "Selecciona la forma correcta (0-23): {'circle': 0, 'cone': 1, 'cube': 2, 'cuboid': 3, 'cylinder': 4, 'decagon': 5, 'dodecahedron': 6, 'ellipse': 7, 'heptagon': 8, 'hexagon': 9, 'nonagon': 10, 'octagon': 11, 'octahedron': 12, 'parallelogram': 13, 'pentagon': 14, 'prism': 15, 'pyramid': 16, 'rectangle': 17, 'rhombus': 18, 'sphere': 19, 'square': 20, 'tetrahedron': 21, 'trapezoid': 22, 'triangle': 23}\n"
     ]
    },
    {
     "name": "stdout",
     "output_type": "stream",
     "text": [
      "Ingresa el número de la forma correcta:  0\n"
     ]
    },
    {
     "name": "stdout",
     "output_type": "stream",
     "text": [
      "Cámara activada. Dibuja un rectángulo alrededor del objeto con el mouse y presiona 'c' para capturar.\n",
      "Forma predicha: parallelogram\n"
     ]
    },
    {
     "name": "stdout",
     "output_type": "stream",
     "text": [
      "¿Es correcto? (s/n, o 'q' para salir):  n\n"
     ]
    },
    {
     "name": "stdout",
     "output_type": "stream",
     "text": [
      "Selecciona la forma correcta (0-23): {'circle': 0, 'cone': 1, 'cube': 2, 'cuboid': 3, 'cylinder': 4, 'decagon': 5, 'dodecahedron': 6, 'ellipse': 7, 'heptagon': 8, 'hexagon': 9, 'nonagon': 10, 'octagon': 11, 'octahedron': 12, 'parallelogram': 13, 'pentagon': 14, 'prism': 15, 'pyramid': 16, 'rectangle': 17, 'rhombus': 18, 'sphere': 19, 'square': 20, 'tetrahedron': 21, 'trapezoid': 22, 'triangle': 23}\n"
     ]
    },
    {
     "name": "stdout",
     "output_type": "stream",
     "text": [
      "Ingresa el número de la forma correcta:  0\n"
     ]
    },
    {
     "name": "stdout",
     "output_type": "stream",
     "text": [
      "Cámara activada. Dibuja un rectángulo alrededor del objeto con el mouse y presiona 'c' para capturar.\n",
      "Forma predicha: circle\n"
     ]
    },
    {
     "name": "stdout",
     "output_type": "stream",
     "text": [
      "¿Es correcto? (s/n, o 'q' para salir):  s\n"
     ]
    },
    {
     "name": "stdout",
     "output_type": "stream",
     "text": [
      "Cámara activada. Dibuja un rectángulo alrededor del objeto con el mouse y presiona 'c' para capturar.\n",
      "Forma predicha: rhombus\n"
     ]
    },
    {
     "name": "stdout",
     "output_type": "stream",
     "text": [
      "¿Es correcto? (s/n, o 'q' para salir):  n\n"
     ]
    },
    {
     "name": "stdout",
     "output_type": "stream",
     "text": [
      "Selecciona la forma correcta (0-23): {'circle': 0, 'cone': 1, 'cube': 2, 'cuboid': 3, 'cylinder': 4, 'decagon': 5, 'dodecahedron': 6, 'ellipse': 7, 'heptagon': 8, 'hexagon': 9, 'nonagon': 10, 'octagon': 11, 'octahedron': 12, 'parallelogram': 13, 'pentagon': 14, 'prism': 15, 'pyramid': 16, 'rectangle': 17, 'rhombus': 18, 'sphere': 19, 'square': 20, 'tetrahedron': 21, 'trapezoid': 22, 'triangle': 23}\n"
     ]
    },
    {
     "name": "stdout",
     "output_type": "stream",
     "text": [
      "Ingresa el número de la forma correcta:  0\n"
     ]
    },
    {
     "name": "stdout",
     "output_type": "stream",
     "text": [
      "Cámara activada. Dibuja un rectángulo alrededor del objeto con el mouse y presiona 'c' para capturar.\n"
     ]
    }
   ],
   "source": [
    "import sys\n",
    "import os\n",
    "sys.path.append(os.path.abspath('..'))\n",
    "\n",
    "import tensorflow as tf\n",
    "from tensorflow.keras.preprocessing.image import ImageDataGenerator\n",
    "from src.utils.data_loader import load_data\n",
    "import numpy as np\n",
    "from sklearn.model_selection import train_test_split\n",
    "import cv2\n",
    "import time\n",
    "\n",
    "# Carga el modelo existente\n",
    "model_path = os.path.join(os.path.dirname(os.path.abspath('')), 'data', 'models', 'modelo_formas.h5')\n",
    "model = tf.keras.models.load_model(model_path)\n",
    "print(f\"Modelo cargado desde: {model_path}\")\n",
    "\n",
    "# Carga las clases existentes para mantener consistencia\n",
    "data_dir = os.path.join(os.path.dirname(os.path.abspath('')), 'data', 'raw')\n",
    "_, _, forma_to_label = load_data(data_dir, max_images_per_class=0)  # Solo carga las clases\n",
    "num_classes = len(forma_to_label)\n",
    "print(\"Clases originales:\", forma_to_label)\n",
    "\n",
    "# Filtra las clases al conjunto de 16 especificadas\n",
    "selected_classes = ['circle', 'cone', 'cube', 'cuboid', 'cylinder', 'ellipse', 'hexagon', 'octagon', 'pentagon', 'prism', 'pyramid', 'rectangle', 'rhombus', 'sphere', 'square', 'triangle']\n",
    "forma_to_label = {forma: idx for idx, forma in enumerate(selected_classes) if forma in forma_to_label}\n",
    "num_classes = len(forma_to_label)\n",
    "print(\"Clases seleccionadas:\", forma_to_label)\n",
    "\n",
    "# Función para capturar y seleccionar un objeto con cámara\n",
    "def capture_and_select_object():\n",
    "    cap = cv2.VideoCapture(0)\n",
    "    if not cap.isOpened():\n",
    "        print(\"Error: No se pudo abrir la cámara.\")\n",
    "        return None\n",
    "\n",
    "    print(\"Cámara activada. Dibuja un rectángulo alrededor del objeto con el mouse y presiona 'c' para capturar. Presiona 'q' para salir.\")\n",
    "    roi = None\n",
    "    rect = (0, 0, 0, 0)\n",
    "    drawing = False\n",
    "\n",
    "    def draw_rectangle(event, x, y, flags, param):\n",
    "        nonlocal rect, drawing, roi\n",
    "        if event == cv2.EVENT_LBUTTONDOWN:\n",
    "            drawing = True\n",
    "            rect = (x, y, 0, 0)\n",
    "        elif event == cv2.EVENT_MOUSEMOVE and drawing:\n",
    "            rect = (rect[0], rect[1], x - rect[0], y - rect[1])\n",
    "        elif event == cv2.EVENT_LBUTTONUP:\n",
    "            drawing = False\n",
    "            rect = (rect[0], rect[1], x - rect[0], y - rect[1])\n",
    "            roi = frame[rect[1]:rect[1]+rect[3], rect[0]:rect[0]+rect[2]]\n",
    "            if roi.size > 0:\n",
    "                roi = cv2.resize(roi, (128, 128))\n",
    "                cv2.imshow('ROI Seleccionada', roi)\n",
    "\n",
    "    cv2.namedWindow('Selecciona Objeto')\n",
    "    cv2.setMouseCallback('Selecciona Objeto', draw_rectangle)\n",
    "\n",
    "    while True:\n",
    "        ret, frame = cap.read()\n",
    "        if not ret:\n",
    "            break\n",
    "        if drawing:\n",
    "            cv2.rectangle(frame, (rect[0], rect[1]), (rect[0] + rect[2], rect[1] + rect[3]), (0, 255, 0), 2)\n",
    "        cv2.imshow('Selecciona Objeto', frame)\n",
    "        key = cv2.waitKey(1) & 0xFF\n",
    "        if key == ord('c') and roi is not None:\n",
    "            break\n",
    "        elif key == ord('q'):\n",
    "            cap.release()\n",
    "            cv2.destroyAllWindows()\n",
    "            return None\n",
    "\n",
    "    cap.release()\n",
    "    cv2.destroyAllWindows()\n",
    "    return roi\n",
    "\n",
    "# Bucle para capturar, verificar y recolectar datos antes de reentrenar\n",
    "new_images = []\n",
    "new_labels = []\n",
    "print(\"Comenzando reentrenamiento interactivo. Captura objetos con la cámara y verifica las predicciones. Presiona 'q' para salir y reentrenar con todas las imágenes capturadas.\")\n",
    "while True:\n",
    "    roi = capture_and_select_object()\n",
    "    if roi is None:\n",
    "        break\n",
    "\n",
    "    # Normaliza la ROI\n",
    "    roi_normalized = roi / 255.0\n",
    "\n",
    "    # Predice con el modelo\n",
    "    prediction = model.predict(np.expand_dims(roi_normalized, axis=0), verbose=0)\n",
    "    clase = np.argmax(prediction)\n",
    "    probabilidad = np.max(prediction) * 100\n",
    "    forma_predicha = next((forma for forma, idx in forma_to_label.items() if idx == clase), \"Desconocida\")\n",
    "    print(f\"Forma predicha: {forma_predicha} (Confianza: {probabilidad:.2f}%)\")\n",
    "\n",
    "    # Pide retroalimentación\n",
    "    feedback = input(\"¿Es correcto? (s/n, o 'q' para salir y reentrenar): \").lower()\n",
    "    if feedback == 'q':\n",
    "        break\n",
    "    elif feedback == 's':\n",
    "        label = clase\n",
    "        forma_correcta = forma_predicha\n",
    "    else:\n",
    "        print(\"Selecciona la forma correcta (0-15):\", forma_to_label)\n",
    "        try:\n",
    "            label = int(input(\"Ingresa el número de la forma correcta: \"))\n",
    "            if label not in range(num_classes):\n",
    "                print(\"Número inválido. Ignorando esta imagen.\")\n",
    "                continue\n",
    "            forma_correcta = next((forma for forma, idx in forma_to_label.items() if idx == label), \"Desconocida\")\n",
    "        except ValueError:\n",
    "            print(\"Entrada inválida. Ignorando esta imagen.\")\n",
    "            continue\n",
    "\n",
    "    # Guarda la imagen en la carpeta correspondiente\n",
    "    save_dir = os.path.join(data_dir, forma_correcta)\n",
    "    os.makedirs(save_dir, exist_ok=True)\n",
    "    image_name = f\"{forma_correcta}_{len(os.listdir(save_dir)) + 1}.jpg\"\n",
    "    image_path = os.path.join(save_dir, image_name)\n",
    "    cv2.imwrite(image_path, roi)\n",
    "    print(f\"Imagen guardada en: {image_path}\")\n",
    "\n",
    "    # Añade a los datos nuevos\n",
    "    new_images.append(roi_normalized)\n",
    "    new_labels.append(label)\n",
    "\n",
    "# Si hay nuevas imágenes, reentrena el modelo solo si hay suficientes datos\n",
    "if new_images and len(new_images) > 1:  # Asegura al menos 2 imágenes\n",
    "    new_images = np.array(new_images)\n",
    "    new_labels = tf.keras.utils.to_categorical(new_labels, num_classes)  # Asegura 16 clases\n",
    "\n",
    "    # Divide los nuevos datos\n",
    "    X_train_new, X_val_new, y_train_new, y_val_new = train_test_split(new_images, new_labels, test_size=0.2, random_state=42)\n",
    "\n",
    "    # Augmentación\n",
    "    datagen = ImageDataGenerator(rotation_range=20, width_shift_range=0.2, height_shift_range=0.2, horizontal_flip=True)\n",
    "    train_generator = datagen.flow(X_train_new, y_train_new, batch_size=16)\n",
    "    validation_generator = datagen.flow(X_val_new, y_val_new, batch_size=16)\n",
    "\n",
    "    # Recompila si es necesario\n",
    "    optimizer = tf.keras.optimizers.Adam(learning_rate=1e-5)\n",
    "    model.compile(optimizer=optimizer, loss='categorical_crossentropy', metrics=['accuracy'])\n",
    "\n",
    "    # Reentrena el modelo\n",
    "    print(\"Reentrenando modelo con nuevas imágenes...\")\n",
    "    model.fit(train_generator, epochs=5, validation_data=validation_generator)\n",
    "\n",
    "    # Guarda el modelo actualizado\n",
    "    model.save(model_path)\n",
    "    print(f\"Modelo reentrenado y guardado en: {model_path}\")\n",
    "else:\n",
    "    print(\"No se capturaron suficientes imágenes para reentrenar. Se necesitan al menos 2 imágenes.\")"
   ]
  },
  {
   "cell_type": "code",
   "execution_count": null,
   "id": "a8dbf20e-3aa8-4a9a-91e2-cd9185db79ef",
   "metadata": {},
   "outputs": [
    {
     "name": "stdout",
     "output_type": "stream",
     "text": [
      "Cargadas 19367 imágenes de 16 clases iniciales\n",
      "Clases iniciales: {'circle': 0, 'cone': 1, 'cube': 2, 'cuboid': 3, 'cylinder': 4, 'ellipse': 5, 'hexagon': 6, 'octagon': 7, 'pentagon': 8, 'prism': 9, 'pyramid': 10, 'rectangle': 11, 'rhombus': 12, 'sphere': 13, 'square': 14, 'triangle': 15}\n",
      "Cargadas 16 imágenes de 16 clases tras filtrado\n",
      "Clases seleccionadas: ['circle', 'cone', 'cube', 'cuboid', 'cylinder', 'ellipse', 'hexagon', 'octagon', 'pentagon', 'prism', 'pyramid', 'rectangle', 'rhombus', 'sphere', 'square', 'triangle']\n",
      "Entrenamiento: 12 imágenes, Validación: 4 imágenes\n",
      "Entrenando nuevo modelo con todas las imágenes disponibles...\n",
      "Epoch 1/30\n"
     ]
    },
    {
     "name": "stderr",
     "output_type": "stream",
     "text": [
      "D:\\Descargas 2.0\\SEMESTREVII\\InteraccionHumanoComputador\\PrimeraTarea\\AnalisiOfSolidAndPlane\\venv\\lib\\site-packages\\keras\\src\\layers\\convolutional\\base_conv.py:113: UserWarning: Do not pass an `input_shape`/`input_dim` argument to a layer. When using Sequential models, prefer using an `Input(shape)` object as the first layer in the model instead.\n",
      "  super().__init__(activity_regularizer=activity_regularizer, **kwargs)\n",
      "D:\\Descargas 2.0\\SEMESTREVII\\InteraccionHumanoComputador\\PrimeraTarea\\AnalisiOfSolidAndPlane\\venv\\lib\\site-packages\\keras\\src\\trainers\\data_adapters\\py_dataset_adapter.py:121: UserWarning: Your `PyDataset` class should call `super().__init__(**kwargs)` in its constructor. `**kwargs` can include `workers`, `use_multiprocessing`, `max_queue_size`. Do not pass these arguments to `fit()`, as they will be ignored.\n",
      "  self._warn_if_super_not_called()\n"
     ]
    },
    {
     "name": "stdout",
     "output_type": "stream",
     "text": [
      "\u001b[1m1/1\u001b[0m \u001b[32m━━━━━━━━━━━━━━━━━━━━\u001b[0m\u001b[37m\u001b[0m \u001b[1m2s\u001b[0m 2s/step - accuracy: 0.0000e+00 - loss: 2.8052 - val_accuracy: 1.0000 - val_loss: 0.0522\n",
      "Epoch 2/30\n",
      "\u001b[1m1/1\u001b[0m \u001b[32m━━━━━━━━━━━━━━━━━━━━\u001b[0m\u001b[37m\u001b[0m \u001b[1m0s\u001b[0m 204ms/step - accuracy: 1.0000 - loss: 0.0741 - val_accuracy: 1.0000 - val_loss: 7.6294e-06\n",
      "Epoch 3/30\n",
      "\u001b[1m1/1\u001b[0m \u001b[32m━━━━━━━━━━━━━━━━━━━━\u001b[0m\u001b[37m\u001b[0m \u001b[1m0s\u001b[0m 201ms/step - accuracy: 1.0000 - loss: 2.3479e-04 - val_accuracy: 1.0000 - val_loss: 0.0000e+00\n",
      "Epoch 4/30\n",
      "\u001b[1m1/1\u001b[0m \u001b[32m━━━━━━━━━━━━━━━━━━━━\u001b[0m\u001b[37m\u001b[0m \u001b[1m0s\u001b[0m 189ms/step - accuracy: 1.0000 - loss: 7.0532e-07 - val_accuracy: 1.0000 - val_loss: 0.0000e+00\n",
      "Epoch 5/30\n",
      "\u001b[1m1/1\u001b[0m \u001b[32m━━━━━━━━━━━━━━━━━━━━\u001b[0m\u001b[37m\u001b[0m \u001b[1m0s\u001b[0m 194ms/step - accuracy: 1.0000 - loss: 0.0000e+00 - val_accuracy: 1.0000 - val_loss: 0.0000e+00\n",
      "Epoch 6/30\n",
      "\u001b[1m1/1\u001b[0m \u001b[32m━━━━━━━━━━━━━━━━━━━━\u001b[0m\u001b[37m\u001b[0m \u001b[1m0s\u001b[0m 183ms/step - accuracy: 1.0000 - loss: 0.0000e+00 - val_accuracy: 1.0000 - val_loss: 0.0000e+00\n",
      "Epoch 7/30\n",
      "\u001b[1m1/1\u001b[0m \u001b[32m━━━━━━━━━━━━━━━━━━━━\u001b[0m\u001b[37m\u001b[0m \u001b[1m0s\u001b[0m 197ms/step - accuracy: 1.0000 - loss: 0.0000e+00 - val_accuracy: 1.0000 - val_loss: 0.0000e+00\n",
      "Epoch 8/30\n",
      "\u001b[1m1/1\u001b[0m \u001b[32m━━━━━━━━━━━━━━━━━━━━\u001b[0m\u001b[37m\u001b[0m \u001b[1m0s\u001b[0m 186ms/step - accuracy: 1.0000 - loss: 0.0000e+00 - val_accuracy: 1.0000 - val_loss: 0.0000e+00\n",
      "Epoch 9/30\n",
      "\u001b[1m1/1\u001b[0m \u001b[32m━━━━━━━━━━━━━━━━━━━━\u001b[0m\u001b[37m\u001b[0m \u001b[1m0s\u001b[0m 189ms/step - accuracy: 1.0000 - loss: 0.0000e+00 - val_accuracy: 1.0000 - val_loss: 0.0000e+00\n",
      "Epoch 10/30\n",
      "\u001b[1m1/1\u001b[0m \u001b[32m━━━━━━━━━━━━━━━━━━━━\u001b[0m\u001b[37m\u001b[0m \u001b[1m0s\u001b[0m 216ms/step - accuracy: 1.0000 - loss: 0.0000e+00 - val_accuracy: 1.0000 - val_loss: 0.0000e+00\n",
      "Epoch 11/30\n",
      "\u001b[1m1/1\u001b[0m \u001b[32m━━━━━━━━━━━━━━━━━━━━\u001b[0m\u001b[37m\u001b[0m \u001b[1m0s\u001b[0m 185ms/step - accuracy: 1.0000 - loss: 0.0000e+00 - val_accuracy: 1.0000 - val_loss: 0.0000e+00\n",
      "Epoch 12/30\n",
      "\u001b[1m1/1\u001b[0m \u001b[32m━━━━━━━━━━━━━━━━━━━━\u001b[0m\u001b[37m\u001b[0m \u001b[1m0s\u001b[0m 180ms/step - accuracy: 1.0000 - loss: 0.0000e+00 - val_accuracy: 1.0000 - val_loss: 0.0000e+00\n",
      "Epoch 13/30\n",
      "\u001b[1m1/1\u001b[0m \u001b[32m━━━━━━━━━━━━━━━━━━━━\u001b[0m\u001b[37m\u001b[0m \u001b[1m0s\u001b[0m 181ms/step - accuracy: 1.0000 - loss: 0.0000e+00 - val_accuracy: 1.0000 - val_loss: 0.0000e+00\n",
      "Epoch 14/30\n",
      "\u001b[1m1/1\u001b[0m \u001b[32m━━━━━━━━━━━━━━━━━━━━\u001b[0m\u001b[37m\u001b[0m \u001b[1m0s\u001b[0m 188ms/step - accuracy: 1.0000 - loss: 0.0000e+00 - val_accuracy: 1.0000 - val_loss: 0.0000e+00\n",
      "Epoch 15/30\n",
      "\u001b[1m1/1\u001b[0m \u001b[32m━━━━━━━━━━━━━━━━━━━━\u001b[0m\u001b[37m\u001b[0m \u001b[1m0s\u001b[0m 182ms/step - accuracy: 1.0000 - loss: 0.0000e+00 - val_accuracy: 1.0000 - val_loss: 0.0000e+00\n",
      "Epoch 16/30\n",
      "\u001b[1m1/1\u001b[0m \u001b[32m━━━━━━━━━━━━━━━━━━━━\u001b[0m\u001b[37m\u001b[0m \u001b[1m0s\u001b[0m 188ms/step - accuracy: 1.0000 - loss: 0.0000e+00 - val_accuracy: 1.0000 - val_loss: 0.0000e+00\n",
      "Epoch 17/30\n",
      "\u001b[1m1/1\u001b[0m \u001b[32m━━━━━━━━━━━━━━━━━━━━\u001b[0m\u001b[37m\u001b[0m \u001b[1m0s\u001b[0m 186ms/step - accuracy: 1.0000 - loss: 0.0000e+00 - val_accuracy: 1.0000 - val_loss: 0.0000e+00\n",
      "Epoch 18/30\n",
      "\u001b[1m1/1\u001b[0m \u001b[32m━━━━━━━━━━━━━━━━━━━━\u001b[0m\u001b[37m\u001b[0m \u001b[1m0s\u001b[0m 191ms/step - accuracy: 1.0000 - loss: 0.0000e+00 - val_accuracy: 1.0000 - val_loss: 0.0000e+00\n",
      "Epoch 19/30\n",
      "\u001b[1m1/1\u001b[0m \u001b[32m━━━━━━━━━━━━━━━━━━━━\u001b[0m\u001b[37m\u001b[0m \u001b[1m0s\u001b[0m 185ms/step - accuracy: 1.0000 - loss: 0.0000e+00 - val_accuracy: 1.0000 - val_loss: 0.0000e+00\n",
      "Epoch 20/30\n",
      "\u001b[1m1/1\u001b[0m \u001b[32m━━━━━━━━━━━━━━━━━━━━\u001b[0m\u001b[37m\u001b[0m \u001b[1m0s\u001b[0m 185ms/step - accuracy: 1.0000 - loss: 0.0000e+00 - val_accuracy: 1.0000 - val_loss: 0.0000e+00\n",
      "Epoch 21/30\n",
      "\u001b[1m1/1\u001b[0m \u001b[32m━━━━━━━━━━━━━━━━━━━━\u001b[0m\u001b[37m\u001b[0m \u001b[1m0s\u001b[0m 185ms/step - accuracy: 1.0000 - loss: 0.0000e+00 - val_accuracy: 1.0000 - val_loss: 0.0000e+00\n",
      "Epoch 22/30\n",
      "\u001b[1m1/1\u001b[0m \u001b[32m━━━━━━━━━━━━━━━━━━━━\u001b[0m\u001b[37m\u001b[0m \u001b[1m0s\u001b[0m 183ms/step - accuracy: 1.0000 - loss: 0.0000e+00 - val_accuracy: 1.0000 - val_loss: 0.0000e+00\n",
      "Epoch 23/30\n",
      "\u001b[1m1/1\u001b[0m \u001b[32m━━━━━━━━━━━━━━━━━━━━\u001b[0m\u001b[37m\u001b[0m \u001b[1m0s\u001b[0m 181ms/step - accuracy: 1.0000 - loss: 0.0000e+00 - val_accuracy: 1.0000 - val_loss: 0.0000e+00\n",
      "Epoch 24/30\n",
      "\u001b[1m1/1\u001b[0m \u001b[32m━━━━━━━━━━━━━━━━━━━━\u001b[0m\u001b[37m\u001b[0m \u001b[1m0s\u001b[0m 202ms/step - accuracy: 1.0000 - loss: 0.0000e+00 - val_accuracy: 1.0000 - val_loss: 0.0000e+00\n",
      "Epoch 25/30\n",
      "\u001b[1m1/1\u001b[0m \u001b[32m━━━━━━━━━━━━━━━━━━━━\u001b[0m\u001b[37m\u001b[0m \u001b[1m0s\u001b[0m 190ms/step - accuracy: 1.0000 - loss: 0.0000e+00 - val_accuracy: 1.0000 - val_loss: 0.0000e+00\n",
      "Epoch 26/30\n",
      "\u001b[1m1/1\u001b[0m \u001b[32m━━━━━━━━━━━━━━━━━━━━\u001b[0m\u001b[37m\u001b[0m \u001b[1m0s\u001b[0m 185ms/step - accuracy: 1.0000 - loss: 0.0000e+00 - val_accuracy: 1.0000 - val_loss: 0.0000e+00\n",
      "Epoch 27/30\n",
      "\u001b[1m1/1\u001b[0m \u001b[32m━━━━━━━━━━━━━━━━━━━━\u001b[0m\u001b[37m\u001b[0m \u001b[1m0s\u001b[0m 183ms/step - accuracy: 1.0000 - loss: 0.0000e+00 - val_accuracy: 1.0000 - val_loss: 0.0000e+00\n",
      "Epoch 28/30\n",
      "\u001b[1m1/1\u001b[0m \u001b[32m━━━━━━━━━━━━━━━━━━━━\u001b[0m\u001b[37m\u001b[0m \u001b[1m0s\u001b[0m 183ms/step - accuracy: 1.0000 - loss: 0.0000e+00 - val_accuracy: 1.0000 - val_loss: 0.0000e+00\n",
      "Epoch 29/30\n",
      "\u001b[1m1/1\u001b[0m \u001b[32m━━━━━━━━━━━━━━━━━━━━\u001b[0m\u001b[37m\u001b[0m \u001b[1m0s\u001b[0m 181ms/step - accuracy: 1.0000 - loss: 0.0000e+00 - val_accuracy: 1.0000 - val_loss: 0.0000e+00\n",
      "Epoch 30/30\n",
      "\u001b[1m1/1\u001b[0m \u001b[32m━━━━━━━━━━━━━━━━━━━━\u001b[0m\u001b[37m\u001b[0m \u001b[1m0s\u001b[0m 192ms/step - accuracy: 1.0000 - loss: 0.0000e+00 - val_accuracy: 1.0000 - val_loss: 0.0000e+00\n"
     ]
    },
    {
     "name": "stderr",
     "output_type": "stream",
     "text": [
      "WARNING:absl:You are saving your model as an HDF5 file via `model.save()` or `keras.saving.save_model(model)`. This file format is considered legacy. We recommend using instead the native Keras format, e.g. `model.save('my_model.keras')` or `keras.saving.save_model(model, 'my_model.keras')`. \n"
     ]
    },
    {
     "name": "stdout",
     "output_type": "stream",
     "text": [
      "Nuevo modelo guardado en: D:\\Descargas 2.0\\SEMESTREVII\\InteraccionHumanoComputador\\PrimeraTarea\\AnalisiOfSolidAndPlane\\data\\models\\modelo_formas.h5\n",
      "Clases utilizadas: ['circle', 'cone', 'cube', 'cuboid', 'cylinder', 'ellipse', 'hexagon', 'octagon', 'pentagon', 'prism', 'pyramid', 'rectangle', 'rhombus', 'sphere', 'square', 'triangle']\n"
     ]
    }
   ],
   "source": []
  },
  {
   "cell_type": "code",
   "execution_count": 2,
   "id": "abb9a7f2-9342-4079-8260-00adf1a08de9",
   "metadata": {},
   "outputs": [
    {
     "name": "stderr",
     "output_type": "stream",
     "text": [
      "WARNING:absl:Compiled the loaded model, but the compiled metrics have yet to be built. `model.compile_metrics` will be empty until you train or evaluate the model.\n"
     ]
    },
    {
     "name": "stdout",
     "output_type": "stream",
     "text": [
      "Modelo cargado desde: D:\\Descargas 2.0\\SEMESTREVII\\InteraccionHumanoComputador\\PrimeraTarea\\AnalisiOfSolidAndPlane\\data\\models\\modelo_formas.h5\n",
      "Cargadas 4695 imágenes de 16 clases iniciales\n",
      "Clases iniciales: {'circle': 0, 'cone': 1, 'cube': 2, 'cuboid': 3, 'cylinder': 4, 'ellipse': 5, 'hexagon': 6, 'octagon': 7, 'pentagon': 8, 'prism': 9, 'pyramid': 10, 'rectangle': 11, 'rhombus': 12, 'sphere': 13, 'square': 14, 'triangle': 15}\n",
      "Cargadas 4695 imágenes de 16 clases tras filtrado\n",
      "Clases seleccionadas: ['circle', 'cone', 'cube', 'cuboid', 'cylinder', 'ellipse', 'hexagon', 'octagon', 'pentagon', 'prism', 'pyramid', 'rectangle', 'rhombus', 'sphere', 'square', 'triangle']\n",
      "Entrenamiento: 3756 imágenes, Prueba: 939 imágenes\n",
      "\u001b[1m30/30\u001b[0m \u001b[32m━━━━━━━━━━━━━━━━━━━━\u001b[0m\u001b[37m\u001b[0m \u001b[1m6s\u001b[0m 47ms/step\n",
      "\n",
      "Evaluación del Modelo Actual:\n",
      "Accuracy: 0.87\n",
      "Precision: 0.88\n",
      "Recall: 0.87\n",
      "Matriz de Confusión:\n",
      "[[115   0   0   0   0   0   0   0   0   0   0   0   0   0   0   0]\n",
      " [  0  24   0   0   0   0   0   0   0   0   7   0   2   7   0   0]\n",
      " [  0   0  22   0   1   0   1   0   1   0   7   1   0   2   0   0]\n",
      " [  0   0   0  13   0   0   0   0   0   0   0   0   0   0   0   0]\n",
      " [  0   0   4   0  27   0   0   0   0   0   1   0   0   8   0   0]\n",
      " [  0   0   0   0   0 107   0   0   0   0   0   0   0   0   0   0]\n",
      " [  0   0   0   0   0   0   8   0   0   0   0   0   0   0   0   0]\n",
      " [  0   0   0   0   0   0   0  60  25   0   0   0   0   0   0   0]\n",
      " [  0   0   0   0   0   0   0   0 104   0   0   0   0   0   0   0]\n",
      " [  0   0   0  17   0   0   0   0   0   0   0   0   0   0   0   0]\n",
      " [  0   0   0   0   0   0   0   0   0   0  21   0   1   0   0   0]\n",
      " [  0   0   0   0   0   0   0   0   0   0   0  97   1   0   0   0]\n",
      " [  0   0   0   0   0   0   0   0  13   0   0   0  75   0   0   0]\n",
      " [ 13   0   0   0   0   0   0   0   0   0   8   0   0  14   0   0]\n",
      " [  0   0   0   0   0   0   0   0   0   0   0   0   0   0 114   0]\n",
      " [  0   0   0   0   0   0   0   0   0   0   0   0   0   0   0  18]]\n",
      "\n",
      "Comparación con el Modelo Anterior:\n",
      "Accuracy Anterior: 0.53\n",
      "Accuracy Actual: 0.87\n",
      "El modelo actual mejoró en comparación con el anterior.\n",
      "\n",
      "Precisión aceptable o datos insuficientes. No se requiere reentrenamiento.\n"
     ]
    }
   ],
   "source": [
    "import sys\n",
    "import os\n",
    "sys.path.append(os.path.abspath('..'))\n",
    "\n",
    "import tensorflow as tf\n",
    "from tensorflow.keras.preprocessing.image import ImageDataGenerator\n",
    "from src.utils.data_loader import load_data\n",
    "import numpy as np\n",
    "from sklearn.model_selection import train_test_split\n",
    "from sklearn.metrics import accuracy_score, precision_score, recall_score, confusion_matrix\n",
    "\n",
    "# Define la ruta de datos y del modelo\n",
    "data_dir = os.path.join(os.path.dirname(os.path.abspath('')), 'data', 'raw')\n",
    "model_path = os.path.join(os.path.dirname(os.path.abspath('')), 'data', 'models', 'modelo_formas.h5')\n",
    "\n",
    "# Define las clases utilizadas\n",
    "selected_classes = ['circle', 'cone', 'cube', 'cuboid', 'cylinder', 'ellipse', 'hexagon', 'octagon', 'pentagon', 'prism', 'pyramid', 'rectangle', 'rhombus', 'sphere', 'square', 'triangle']\n",
    "num_classes = len(selected_classes)\n",
    "\n",
    "# Carga el modelo\n",
    "model = tf.keras.models.load_model(model_path)\n",
    "print(f\"Modelo cargado desde: {model_path}\")\n",
    "\n",
    "# Carga todos los datos disponibles (500 imágenes por clase)\n",
    "images, labels, forma_to_label = load_data(data_dir, max_images_per_class=500)  # Usa todas las 500 por clase\n",
    "print(f\"Cargadas {len(images)} imágenes de {len(forma_to_label)} clases iniciales\")\n",
    "print(\"Clases iniciales:\", forma_to_label)\n",
    "\n",
    "# Filtra imágenes y etiquetas para las clases seleccionadas, asegurando todas las imágenes\n",
    "images_selected = []\n",
    "labels_selected = []\n",
    "for i, forma in enumerate(forma_to_label):\n",
    "    if forma in selected_classes:\n",
    "        class_indices = [j for j, label in enumerate(labels) if label == i]\n",
    "        images_selected.extend([images[j] for j in class_indices])\n",
    "        labels_selected.extend([i] * len(class_indices))\n",
    "\n",
    "# Crea un mapeo de índices originales a nuevos índices basados en selected_classes\n",
    "selected_indices = [i for i, forma in enumerate(forma_to_label) if forma in selected_classes]\n",
    "label_mapping = {i: idx for idx, i in enumerate(selected_indices)}\n",
    "labels_mapped = [label_mapping.get(label, -1) for label in labels_selected]\n",
    "labels_mapped = [label for label in labels_mapped if label != -1]\n",
    "images_selected = [img for i, img in enumerate(images_selected) if i < len(labels_mapped)]\n",
    "labels_mapped = labels_mapped[:len(images_selected)]  # Asegura misma longitud\n",
    "\n",
    "print(f\"Cargadas {len(images_selected)} imágenes de {len(selected_classes)} clases tras filtrado\")\n",
    "print(\"Clases seleccionadas:\", selected_classes)\n",
    "\n",
    "# Normaliza las imágenes\n",
    "images_selected = np.array(images_selected) / 255.0\n",
    "labels_one_hot = tf.keras.utils.to_categorical(labels_mapped, num_classes)\n",
    "\n",
    "# Divide los datos en entrenamiento y prueba (80% entrenamiento, 20% prueba)\n",
    "X_train, X_test, y_train, y_test = train_test_split(images_selected, labels_one_hot, test_size=0.2, random_state=42)\n",
    "print(f\"Entrenamiento: {len(X_train)} imágenes, Prueba: {len(X_test)} imágenes\")\n",
    "\n",
    "# Evalúa el modelo en el conjunto de prueba\n",
    "predictions = model.predict(np.array(X_test))\n",
    "predicted_classes = np.argmax(predictions, axis=1)\n",
    "true_classes = np.argmax(y_test, axis=1)\n",
    "\n",
    "# Métricas con manejo de todas las clases\n",
    "accuracy = accuracy_score(true_classes, predicted_classes)\n",
    "precision = precision_score(true_classes, predicted_classes, average='weighted', zero_division=0, labels=range(num_classes))\n",
    "recall = recall_score(true_classes, predicted_classes, average='weighted', zero_division=0, labels=range(num_classes))\n",
    "conf_matrix = confusion_matrix(true_classes, predicted_classes, labels=range(num_classes))\n",
    "\n",
    "print(f\"\\nEvaluación del Modelo Actual:\")\n",
    "print(f\"Accuracy: {accuracy:.2f}\")\n",
    "print(f\"Precision: {precision:.2f}\")\n",
    "print(f\"Recall: {recall:.2f}\")\n",
    "print(\"Matriz de Confusión:\")\n",
    "print(conf_matrix)\n",
    "\n",
    "# Comparación con el modelo anterior\n",
    "previous_accuracy = 0.53  # Valor del modelo anterior con 1000 imágenes de 20 clases\n",
    "print(f\"\\nComparación con el Modelo Anterior:\")\n",
    "print(f\"Accuracy Anterior: {previous_accuracy:.2f}\")\n",
    "print(f\"Accuracy Actual: {accuracy:.2f}\")\n",
    "if accuracy > previous_accuracy:\n",
    "    print(\"El modelo actual mejoró en comparación con el anterior.\")\n",
    "elif accuracy < previous_accuracy:\n",
    "    print(\"El modelo actual empeoró en comparación con el anterior.\")\n",
    "else:\n",
    "    print(\"El modelo actual tiene el mismo rendimiento que el anterior.\")\n",
    "\n",
    "# Mejora si la precisión es baja\n",
    "if accuracy < 0.8 and len(images_selected) > num_classes:\n",
    "    print(\"\\nPrecisión baja. Iniciando reentrenamiento...\")\n",
    "    datagen = ImageDataGenerator(\n",
    "        rotation_range=40,\n",
    "        width_shift_range=0.2,\n",
    "        height_shift_range=0.2,\n",
    "        shear_range=0.2,\n",
    "        zoom_range=0.2,\n",
    "        horizontal_flip=True,\n",
    "        fill_mode='nearest'\n",
    "    )\n",
    "    X_train, X_val, y_train, y_val = train_test_split(X_train, y_train, test_size=0.2, random_state=42)\n",
    "    train_generator = datagen.flow(np.array(X_train), y_train, batch_size=32)\n",
    "    validation_generator = datagen.flow(np.array(X_val), y_val, batch_size=32)\n",
    "\n",
    "    optimizer = tf.keras.optimizers.Adam(learning_rate=1e-5)\n",
    "    model.compile(optimizer=optimizer, loss='categorical_crossentropy', metrics=['accuracy'])\n",
    "    history = model.fit(train_generator, epochs=20, validation_data=validation_generator, verbose=1)\n",
    "\n",
    "    # Guarda el modelo mejorado\n",
    "    model.save(model_path)\n",
    "    print(f\"Modelo mejorado guardado en: {model_path}\")\n",
    "else:\n",
    "    print(\"\\nPrecisión aceptable o datos insuficientes. No se requiere reentrenamiento.\")"
   ]
  }
 ],
 "metadata": {
  "kernelspec": {
   "display_name": "Python 3 (ipykernel)",
   "language": "python",
   "name": "python3"
  },
  "language_info": {
   "codemirror_mode": {
    "name": "ipython",
    "version": 3
   },
   "file_extension": ".py",
   "mimetype": "text/x-python",
   "name": "python",
   "nbconvert_exporter": "python",
   "pygments_lexer": "ipython3",
   "version": "3.10.0"
  }
 },
 "nbformat": 4,
 "nbformat_minor": 5
}
