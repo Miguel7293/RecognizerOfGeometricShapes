{
 "cells": [
  {
   "cell_type": "code",
   "execution_count": 2,
   "id": "0668abd3",
   "metadata": {},
   "outputs": [
    {
     "name": "stderr",
     "output_type": "stream",
     "text": [
      "WARNING:absl:Compiled the loaded model, but the compiled metrics have yet to be built. `model.compile_metrics` will be empty until you train or evaluate the model.\n"
     ]
    },
    {
     "name": "stdout",
     "output_type": "stream",
     "text": [
      "Modelo cargado desde: C:\\Users\\GYGABYTE\\Documents\\SEMESTRE VII\\InteraccionhumanoComputador\\RecognizerOfGeometricShapes\\data\\models\\modelo_formas.h5\n",
      "Cargadas 22007 imágenes de 16 clases\n",
      "Clases: {'circle': 0, 'cone': 1, 'cube': 2, 'cuboid': 3, 'cylinder': 4, 'ellipse': 5, 'hexagon': 6, 'octagon': 7, 'pentagon': 8, 'prism': 9, 'pyramid': 10, 'rectangle': 11, 'rhombus': 12, 'sphere': 13, 'square': 14, 'triangle': 15}\n",
      "Entrenamiento: 17605 imágenes, Validación: 4402 imágenes\n",
      "Reentrenando el modelo con los datos nuevos...\n",
      "Epoch 1/30\n",
      "\u001b[1m551/551\u001b[0m \u001b[32m━━━━━━━━━━━━━━━━━━━━\u001b[0m\u001b[37m\u001b[0m \u001b[1m216s\u001b[0m 386ms/step - accuracy: 0.6259 - loss: 3.1157 - val_accuracy: 0.6890 - val_loss: 1.0932\n",
      "Epoch 2/30\n",
      "\u001b[1m551/551\u001b[0m \u001b[32m━━━━━━━━━━━━━━━━━━━━\u001b[0m\u001b[37m\u001b[0m \u001b[1m210s\u001b[0m 381ms/step - accuracy: 0.6783 - loss: 1.0682 - val_accuracy: 0.7422 - val_loss: 0.7914\n",
      "Epoch 3/30\n",
      "\u001b[1m551/551\u001b[0m \u001b[32m━━━━━━━━━━━━━━━━━━━━\u001b[0m\u001b[37m\u001b[0m \u001b[1m210s\u001b[0m 382ms/step - accuracy: 0.7267 - loss: 0.8328 - val_accuracy: 0.7717 - val_loss: 0.6669\n",
      "Epoch 4/30\n",
      "\u001b[1m551/551\u001b[0m \u001b[32m━━━━━━━━━━━━━━━━━━━━\u001b[0m\u001b[37m\u001b[0m \u001b[1m211s\u001b[0m 382ms/step - accuracy: 0.7465 - loss: 0.7399 - val_accuracy: 0.7833 - val_loss: 0.6233\n",
      "Epoch 5/30\n",
      "\u001b[1m551/551\u001b[0m \u001b[32m━━━━━━━━━━━━━━━━━━━━\u001b[0m\u001b[37m\u001b[0m \u001b[1m209s\u001b[0m 379ms/step - accuracy: 0.7631 - loss: 0.6690 - val_accuracy: 0.8051 - val_loss: 0.5627\n",
      "Epoch 6/30\n",
      "\u001b[1m551/551\u001b[0m \u001b[32m━━━━━━━━━━━━━━━━━━━━\u001b[0m\u001b[37m\u001b[0m \u001b[1m209s\u001b[0m 379ms/step - accuracy: 0.7710 - loss: 0.6341 - val_accuracy: 0.7917 - val_loss: 0.5458\n",
      "Epoch 7/30\n",
      "\u001b[1m551/551\u001b[0m \u001b[32m━━━━━━━━━━━━━━━━━━━━\u001b[0m\u001b[37m\u001b[0m \u001b[1m203s\u001b[0m 368ms/step - accuracy: 0.7801 - loss: 0.6026 - val_accuracy: 0.8074 - val_loss: 0.5214\n",
      "Epoch 8/30\n",
      "\u001b[1m551/551\u001b[0m \u001b[32m━━━━━━━━━━━━━━━━━━━━\u001b[0m\u001b[37m\u001b[0m \u001b[1m202s\u001b[0m 367ms/step - accuracy: 0.7872 - loss: 0.5697 - val_accuracy: 0.8210 - val_loss: 0.4889\n",
      "Epoch 9/30\n",
      "\u001b[1m551/551\u001b[0m \u001b[32m━━━━━━━━━━━━━━━━━━━━\u001b[0m\u001b[37m\u001b[0m \u001b[1m204s\u001b[0m 370ms/step - accuracy: 0.7912 - loss: 0.5520 - val_accuracy: 0.8189 - val_loss: 0.4746\n",
      "Epoch 10/30\n",
      "\u001b[1m551/551\u001b[0m \u001b[32m━━━━━━━━━━━━━━━━━━━━\u001b[0m\u001b[37m\u001b[0m \u001b[1m202s\u001b[0m 367ms/step - accuracy: 0.8040 - loss: 0.5203 - val_accuracy: 0.8371 - val_loss: 0.4427\n",
      "Epoch 11/30\n",
      "\u001b[1m551/551\u001b[0m \u001b[32m━━━━━━━━━━━━━━━━━━━━\u001b[0m\u001b[37m\u001b[0m \u001b[1m203s\u001b[0m 369ms/step - accuracy: 0.8098 - loss: 0.5041 - val_accuracy: 0.8378 - val_loss: 0.4387\n",
      "Epoch 12/30\n",
      "\u001b[1m551/551\u001b[0m \u001b[32m━━━━━━━━━━━━━━━━━━━━\u001b[0m\u001b[37m\u001b[0m \u001b[1m202s\u001b[0m 366ms/step - accuracy: 0.8129 - loss: 0.4910 - val_accuracy: 0.8337 - val_loss: 0.4432\n",
      "Epoch 13/30\n",
      "\u001b[1m551/551\u001b[0m \u001b[32m━━━━━━━━━━━━━━━━━━━━\u001b[0m\u001b[37m\u001b[0m \u001b[1m203s\u001b[0m 368ms/step - accuracy: 0.8190 - loss: 0.4727 - val_accuracy: 0.8485 - val_loss: 0.4254\n",
      "Epoch 14/30\n",
      "\u001b[1m551/551\u001b[0m \u001b[32m━━━━━━━━━━━━━━━━━━━━\u001b[0m\u001b[37m\u001b[0m \u001b[1m202s\u001b[0m 367ms/step - accuracy: 0.8282 - loss: 0.4566 - val_accuracy: 0.8442 - val_loss: 0.4232\n",
      "Epoch 15/30\n",
      "\u001b[1m551/551\u001b[0m \u001b[32m━━━━━━━━━━━━━━━━━━━━\u001b[0m\u001b[37m\u001b[0m \u001b[1m202s\u001b[0m 367ms/step - accuracy: 0.8308 - loss: 0.4496 - val_accuracy: 0.8492 - val_loss: 0.4133\n",
      "Epoch 16/30\n",
      "\u001b[1m551/551\u001b[0m \u001b[32m━━━━━━━━━━━━━━━━━━━━\u001b[0m\u001b[37m\u001b[0m \u001b[1m202s\u001b[0m 367ms/step - accuracy: 0.8293 - loss: 0.4429 - val_accuracy: 0.8526 - val_loss: 0.3999\n",
      "Epoch 17/30\n",
      "\u001b[1m551/551\u001b[0m \u001b[32m━━━━━━━━━━━━━━━━━━━━\u001b[0m\u001b[37m\u001b[0m \u001b[1m203s\u001b[0m 368ms/step - accuracy: 0.8335 - loss: 0.4318 - val_accuracy: 0.8571 - val_loss: 0.3815\n",
      "Epoch 18/30\n",
      "\u001b[1m551/551\u001b[0m \u001b[32m━━━━━━━━━━━━━━━━━━━━\u001b[0m\u001b[37m\u001b[0m \u001b[1m204s\u001b[0m 369ms/step - accuracy: 0.8398 - loss: 0.4258 - val_accuracy: 0.8569 - val_loss: 0.4026\n",
      "Epoch 19/30\n",
      "\u001b[1m551/551\u001b[0m \u001b[32m━━━━━━━━━━━━━━━━━━━━\u001b[0m\u001b[37m\u001b[0m \u001b[1m202s\u001b[0m 366ms/step - accuracy: 0.8400 - loss: 0.4229 - val_accuracy: 0.8585 - val_loss: 0.3878\n",
      "Epoch 20/30\n",
      "\u001b[1m551/551\u001b[0m \u001b[32m━━━━━━━━━━━━━━━━━━━━\u001b[0m\u001b[37m\u001b[0m \u001b[1m203s\u001b[0m 368ms/step - accuracy: 0.8446 - loss: 0.4075 - val_accuracy: 0.8544 - val_loss: 0.4163\n",
      "Epoch 21/30\n",
      "\u001b[1m551/551\u001b[0m \u001b[32m━━━━━━━━━━━━━━━━━━━━\u001b[0m\u001b[37m\u001b[0m \u001b[1m202s\u001b[0m 366ms/step - accuracy: 0.8442 - loss: 0.4065 - val_accuracy: 0.8569 - val_loss: 0.3956\n",
      "Epoch 22/30\n",
      "\u001b[1m551/551\u001b[0m \u001b[32m━━━━━━━━━━━━━━━━━━━━\u001b[0m\u001b[37m\u001b[0m \u001b[1m203s\u001b[0m 368ms/step - accuracy: 0.8436 - loss: 0.4113 - val_accuracy: 0.8639 - val_loss: 0.3779\n",
      "Epoch 23/30\n",
      "\u001b[1m551/551\u001b[0m \u001b[32m━━━━━━━━━━━━━━━━━━━━\u001b[0m\u001b[37m\u001b[0m \u001b[1m202s\u001b[0m 366ms/step - accuracy: 0.8462 - loss: 0.4003 - val_accuracy: 0.8619 - val_loss: 0.3731\n",
      "Epoch 24/30\n",
      "\u001b[1m551/551\u001b[0m \u001b[32m━━━━━━━━━━━━━━━━━━━━\u001b[0m\u001b[37m\u001b[0m \u001b[1m202s\u001b[0m 366ms/step - accuracy: 0.8486 - loss: 0.3939 - val_accuracy: 0.8669 - val_loss: 0.3795\n",
      "Epoch 25/30\n",
      "\u001b[1m551/551\u001b[0m \u001b[32m━━━━━━━━━━━━━━━━━━━━\u001b[0m\u001b[37m\u001b[0m \u001b[1m202s\u001b[0m 367ms/step - accuracy: 0.8531 - loss: 0.3831 - val_accuracy: 0.8635 - val_loss: 0.3850\n",
      "Epoch 26/30\n",
      "\u001b[1m551/551\u001b[0m \u001b[32m━━━━━━━━━━━━━━━━━━━━\u001b[0m\u001b[37m\u001b[0m \u001b[1m204s\u001b[0m 369ms/step - accuracy: 0.8524 - loss: 0.3915 - val_accuracy: 0.8673 - val_loss: 0.3708\n",
      "Epoch 27/30\n",
      "\u001b[1m551/551\u001b[0m \u001b[32m━━━━━━━━━━━━━━━━━━━━\u001b[0m\u001b[37m\u001b[0m \u001b[1m201s\u001b[0m 365ms/step - accuracy: 0.8536 - loss: 0.3837 - val_accuracy: 0.8626 - val_loss: 0.3874\n",
      "Epoch 28/30\n",
      "\u001b[1m551/551\u001b[0m \u001b[32m━━━━━━━━━━━━━━━━━━━━\u001b[0m\u001b[37m\u001b[0m \u001b[1m202s\u001b[0m 366ms/step - accuracy: 0.8520 - loss: 0.3824 - val_accuracy: 0.8655 - val_loss: 0.3969\n",
      "Epoch 29/30\n",
      "\u001b[1m551/551\u001b[0m \u001b[32m━━━━━━━━━━━━━━━━━━━━\u001b[0m\u001b[37m\u001b[0m \u001b[1m202s\u001b[0m 366ms/step - accuracy: 0.8579 - loss: 0.3718 - val_accuracy: 0.8728 - val_loss: 0.3664\n",
      "Epoch 30/30\n",
      "\u001b[1m551/551\u001b[0m \u001b[32m━━━━━━━━━━━━━━━━━━━━\u001b[0m\u001b[37m\u001b[0m \u001b[1m202s\u001b[0m 367ms/step - accuracy: 0.8632 - loss: 0.3632 - val_accuracy: 0.8776 - val_loss: 0.3626\n"
     ]
    },
    {
     "name": "stderr",
     "output_type": "stream",
     "text": [
      "WARNING:absl:You are saving your model as an HDF5 file via `model.save()` or `keras.saving.save_model(model)`. This file format is considered legacy. We recommend using instead the native Keras format, e.g. `model.save('my_model.keras')` or `keras.saving.save_model(model, 'my_model.keras')`. \n"
     ]
    },
    {
     "name": "stdout",
     "output_type": "stream",
     "text": [
      "Modelo reentrenado guardado en: C:\\Users\\GYGABYTE\\Documents\\SEMESTRE VII\\InteraccionhumanoComputador\\RecognizerOfGeometricShapes\\data\\models\\modelo_formas.h5\n",
      "Clases utilizadas: {'circle': 0, 'cone': 1, 'cube': 2, 'cuboid': 3, 'cylinder': 4, 'ellipse': 5, 'hexagon': 6, 'octagon': 7, 'pentagon': 8, 'prism': 9, 'pyramid': 10, 'rectangle': 11, 'rhombus': 12, 'sphere': 13, 'square': 14, 'triangle': 15}\n"
     ]
    },
    {
     "name": "stdout",
     "output_type": "stream",
     "text": [
      "Imagen guardada en: D:\\Descargas 2.0\\SEMESTREVII\\InteraccionHumanoComputador\\PrimeraTarea\\AnalisiOfSolidAndPlane\\data\\raw\\cube\\cube_164.jpg\n",
      "Cámara activada. Dibuja un rectángulo alrededor del objeto con el mouse y presiona 'c' para capturar. Presiona 'q' para salir.\n",
      "Forma predicha: square (Confianza: 50.03%)\n"
     ]
    },
    {
     "name": "stdout",
     "output_type": "stream",
     "text": [
      "¿Es correcto? (s/n, o 'q' para salir y reentrenar):  n\n"
     ]
    },
    {
     "name": "stdout",
     "output_type": "stream",
     "text": [
      "Selecciona la forma correcta (0-23): {'circle': 0, 'cone': 1, 'cube': 2, 'cuboid': 3, 'cylinder': 4, 'dodecahedron': 5, 'ellipse': 6, 'heptagon': 7, 'hexagon': 8, 'nonagon': 9, 'octagon': 10, 'parallelogram': 11, 'pentagon': 12, 'prism': 13, 'pyramid': 14, 'rectangle': 15, 'rhombus': 16, 'sphere': 17, 'square': 18, 'tetrahedron': 19, 'trapezoid': 20, 'triangle': 21}\n"
     ]
    },
    {
     "name": "stdout",
     "output_type": "stream",
     "text": [
      "Ingresa el número de la forma correcta:  2\n"
     ]
    },
    {
     "name": "stdout",
     "output_type": "stream",
     "text": [
      "Imagen guardada en: D:\\Descargas 2.0\\SEMESTREVII\\InteraccionHumanoComputador\\PrimeraTarea\\AnalisiOfSolidAndPlane\\data\\raw\\cube\\cube_165.jpg\n",
      "Cámara activada. Dibuja un rectángulo alrededor del objeto con el mouse y presiona 'c' para capturar. Presiona 'q' para salir.\n",
      "Forma predicha: parallelogram (Confianza: 59.37%)\n"
     ]
    },
    {
     "name": "stdout",
     "output_type": "stream",
     "text": [
      "¿Es correcto? (s/n, o 'q' para salir y reentrenar):  n\n"
     ]
    },
    {
     "name": "stdout",
     "output_type": "stream",
     "text": [
      "Selecciona la forma correcta (0-23): {'circle': 0, 'cone': 1, 'cube': 2, 'cuboid': 3, 'cylinder': 4, 'dodecahedron': 5, 'ellipse': 6, 'heptagon': 7, 'hexagon': 8, 'nonagon': 9, 'octagon': 10, 'parallelogram': 11, 'pentagon': 12, 'prism': 13, 'pyramid': 14, 'rectangle': 15, 'rhombus': 16, 'sphere': 17, 'square': 18, 'tetrahedron': 19, 'trapezoid': 20, 'triangle': 21}\n"
     ]
    },
    {
     "name": "stdout",
     "output_type": "stream",
     "text": [
      "Ingresa el número de la forma correcta:  2\n"
     ]
    },
    {
     "name": "stdout",
     "output_type": "stream",
     "text": [
      "Imagen guardada en: D:\\Descargas 2.0\\SEMESTREVII\\InteraccionHumanoComputador\\PrimeraTarea\\AnalisiOfSolidAndPlane\\data\\raw\\cube\\cube_166.jpg\n",
      "Cámara activada. Dibuja un rectángulo alrededor del objeto con el mouse y presiona 'c' para capturar. Presiona 'q' para salir.\n",
      "Forma predicha: prism (Confianza: 90.87%)\n"
     ]
    },
    {
     "name": "stdout",
     "output_type": "stream",
     "text": [
      "¿Es correcto? (s/n, o 'q' para salir y reentrenar):  n\n"
     ]
    },
    {
     "name": "stdout",
     "output_type": "stream",
     "text": [
      "Selecciona la forma correcta (0-23): {'circle': 0, 'cone': 1, 'cube': 2, 'cuboid': 3, 'cylinder': 4, 'dodecahedron': 5, 'ellipse': 6, 'heptagon': 7, 'hexagon': 8, 'nonagon': 9, 'octagon': 10, 'parallelogram': 11, 'pentagon': 12, 'prism': 13, 'pyramid': 14, 'rectangle': 15, 'rhombus': 16, 'sphere': 17, 'square': 18, 'tetrahedron': 19, 'trapezoid': 20, 'triangle': 21}\n"
     ]
    },
    {
     "name": "stdout",
     "output_type": "stream",
     "text": [
      "Ingresa el número de la forma correcta:  2\n"
     ]
    },
    {
     "name": "stdout",
     "output_type": "stream",
     "text": [
      "Imagen guardada en: D:\\Descargas 2.0\\SEMESTREVII\\InteraccionHumanoComputador\\PrimeraTarea\\AnalisiOfSolidAndPlane\\data\\raw\\cube\\cube_167.jpg\n",
      "Cámara activada. Dibuja un rectángulo alrededor del objeto con el mouse y presiona 'c' para capturar. Presiona 'q' para salir.\n",
      "Forma predicha: parallelogram (Confianza: 51.64%)\n"
     ]
    },
    {
     "name": "stdout",
     "output_type": "stream",
     "text": [
      "¿Es correcto? (s/n, o 'q' para salir y reentrenar):  n\n"
     ]
    },
    {
     "name": "stdout",
     "output_type": "stream",
     "text": [
      "Selecciona la forma correcta (0-23): {'circle': 0, 'cone': 1, 'cube': 2, 'cuboid': 3, 'cylinder': 4, 'dodecahedron': 5, 'ellipse': 6, 'heptagon': 7, 'hexagon': 8, 'nonagon': 9, 'octagon': 10, 'parallelogram': 11, 'pentagon': 12, 'prism': 13, 'pyramid': 14, 'rectangle': 15, 'rhombus': 16, 'sphere': 17, 'square': 18, 'tetrahedron': 19, 'trapezoid': 20, 'triangle': 21}\n"
     ]
    },
    {
     "name": "stdout",
     "output_type": "stream",
     "text": [
      "Ingresa el número de la forma correcta:  2\n"
     ]
    },
    {
     "name": "stdout",
     "output_type": "stream",
     "text": [
      "Imagen guardada en: D:\\Descargas 2.0\\SEMESTREVII\\InteraccionHumanoComputador\\PrimeraTarea\\AnalisiOfSolidAndPlane\\data\\raw\\cube\\cube_168.jpg\n",
      "Cámara activada. Dibuja un rectángulo alrededor del objeto con el mouse y presiona 'c' para capturar. Presiona 'q' para salir.\n",
      "Forma predicha: prism (Confianza: 93.42%)\n"
     ]
    },
    {
     "name": "stdout",
     "output_type": "stream",
     "text": [
      "¿Es correcto? (s/n, o 'q' para salir y reentrenar):  n\n"
     ]
    },
    {
     "name": "stdout",
     "output_type": "stream",
     "text": [
      "Selecciona la forma correcta (0-23): {'circle': 0, 'cone': 1, 'cube': 2, 'cuboid': 3, 'cylinder': 4, 'dodecahedron': 5, 'ellipse': 6, 'heptagon': 7, 'hexagon': 8, 'nonagon': 9, 'octagon': 10, 'parallelogram': 11, 'pentagon': 12, 'prism': 13, 'pyramid': 14, 'rectangle': 15, 'rhombus': 16, 'sphere': 17, 'square': 18, 'tetrahedron': 19, 'trapezoid': 20, 'triangle': 21}\n"
     ]
    },
    {
     "name": "stdout",
     "output_type": "stream",
     "text": [
      "Ingresa el número de la forma correcta:  2\n"
     ]
    },
    {
     "name": "stdout",
     "output_type": "stream",
     "text": [
      "Imagen guardada en: D:\\Descargas 2.0\\SEMESTREVII\\InteraccionHumanoComputador\\PrimeraTarea\\AnalisiOfSolidAndPlane\\data\\raw\\cube\\cube_169.jpg\n",
      "Cámara activada. Dibuja un rectángulo alrededor del objeto con el mouse y presiona 'c' para capturar. Presiona 'q' para salir.\n",
      "Forma predicha: prism (Confianza: 95.01%)\n"
     ]
    },
    {
     "name": "stdout",
     "output_type": "stream",
     "text": [
      "¿Es correcto? (s/n, o 'q' para salir y reentrenar):  n\n"
     ]
    },
    {
     "name": "stdout",
     "output_type": "stream",
     "text": [
      "Selecciona la forma correcta (0-23): {'circle': 0, 'cone': 1, 'cube': 2, 'cuboid': 3, 'cylinder': 4, 'dodecahedron': 5, 'ellipse': 6, 'heptagon': 7, 'hexagon': 8, 'nonagon': 9, 'octagon': 10, 'parallelogram': 11, 'pentagon': 12, 'prism': 13, 'pyramid': 14, 'rectangle': 15, 'rhombus': 16, 'sphere': 17, 'square': 18, 'tetrahedron': 19, 'trapezoid': 20, 'triangle': 21}\n"
     ]
    },
    {
     "name": "stdout",
     "output_type": "stream",
     "text": [
      "Ingresa el número de la forma correcta:  2\n"
     ]
    },
    {
     "name": "stdout",
     "output_type": "stream",
     "text": [
      "Imagen guardada en: D:\\Descargas 2.0\\SEMESTREVII\\InteraccionHumanoComputador\\PrimeraTarea\\AnalisiOfSolidAndPlane\\data\\raw\\cube\\cube_170.jpg\n",
      "Cámara activada. Dibuja un rectángulo alrededor del objeto con el mouse y presiona 'c' para capturar. Presiona 'q' para salir.\n",
      "Forma predicha: prism (Confianza: 47.15%)\n"
     ]
    },
    {
     "name": "stdout",
     "output_type": "stream",
     "text": [
      "¿Es correcto? (s/n, o 'q' para salir y reentrenar):  n\n"
     ]
    },
    {
     "name": "stdout",
     "output_type": "stream",
     "text": [
      "Selecciona la forma correcta (0-23): {'circle': 0, 'cone': 1, 'cube': 2, 'cuboid': 3, 'cylinder': 4, 'dodecahedron': 5, 'ellipse': 6, 'heptagon': 7, 'hexagon': 8, 'nonagon': 9, 'octagon': 10, 'parallelogram': 11, 'pentagon': 12, 'prism': 13, 'pyramid': 14, 'rectangle': 15, 'rhombus': 16, 'sphere': 17, 'square': 18, 'tetrahedron': 19, 'trapezoid': 20, 'triangle': 21}\n"
     ]
    },
    {
     "name": "stdout",
     "output_type": "stream",
     "text": [
      "Ingresa el número de la forma correcta:  2\n"
     ]
    },
    {
     "name": "stdout",
     "output_type": "stream",
     "text": [
      "Imagen guardada en: D:\\Descargas 2.0\\SEMESTREVII\\InteraccionHumanoComputador\\PrimeraTarea\\AnalisiOfSolidAndPlane\\data\\raw\\cube\\cube_171.jpg\n",
      "Cámara activada. Dibuja un rectángulo alrededor del objeto con el mouse y presiona 'c' para capturar. Presiona 'q' para salir.\n",
      "Forma predicha: prism (Confianza: 74.08%)\n"
     ]
    },
    {
     "name": "stdout",
     "output_type": "stream",
     "text": [
      "¿Es correcto? (s/n, o 'q' para salir y reentrenar):  n\n"
     ]
    },
    {
     "name": "stdout",
     "output_type": "stream",
     "text": [
      "Selecciona la forma correcta (0-23): {'circle': 0, 'cone': 1, 'cube': 2, 'cuboid': 3, 'cylinder': 4, 'dodecahedron': 5, 'ellipse': 6, 'heptagon': 7, 'hexagon': 8, 'nonagon': 9, 'octagon': 10, 'parallelogram': 11, 'pentagon': 12, 'prism': 13, 'pyramid': 14, 'rectangle': 15, 'rhombus': 16, 'sphere': 17, 'square': 18, 'tetrahedron': 19, 'trapezoid': 20, 'triangle': 21}\n"
     ]
    },
    {
     "name": "stdout",
     "output_type": "stream",
     "text": [
      "Ingresa el número de la forma correcta:  2\n"
     ]
    },
    {
     "name": "stdout",
     "output_type": "stream",
     "text": [
      "Imagen guardada en: D:\\Descargas 2.0\\SEMESTREVII\\InteraccionHumanoComputador\\PrimeraTarea\\AnalisiOfSolidAndPlane\\data\\raw\\cube\\cube_172.jpg\n",
      "Cámara activada. Dibuja un rectángulo alrededor del objeto con el mouse y presiona 'c' para capturar. Presiona 'q' para salir.\n",
      "Reentrenando modelo con nuevas imágenes...\n",
      "Epoch 1/5\n"
     ]
    },
    {
     "name": "stderr",
     "output_type": "stream",
     "text": [
      "D:\\Descargas 2.0\\SEMESTREVII\\InteraccionHumanoComputador\\PrimeraTarea\\AnalisiOfSolidAndPlane\\venv\\lib\\site-packages\\keras\\src\\trainers\\data_adapters\\py_dataset_adapter.py:121: UserWarning: Your `PyDataset` class should call `super().__init__(**kwargs)` in its constructor. `**kwargs` can include `workers`, `use_multiprocessing`, `max_queue_size`. Do not pass these arguments to `fit()`, as they will be ignored.\n",
      "  self._warn_if_super_not_called()\n"
     ]
    },
    {
     "ename": "ValueError",
     "evalue": "Arguments `target` and `output` must have the same shape. Received: target.shape=(None, 22), output.shape=(None, 24)",
     "output_type": "error",
     "traceback": [
      "\u001b[1;31m---------------------------------------------------------------------------\u001b[0m",
      "\u001b[1;31mValueError\u001b[0m                                Traceback (most recent call last)",
      "Cell \u001b[1;32mIn[1], line 142\u001b[0m\n\u001b[0;32m    140\u001b[0m \u001b[38;5;66;03m# Reentrena el modelo\u001b[39;00m\n\u001b[0;32m    141\u001b[0m \u001b[38;5;28mprint\u001b[39m(\u001b[38;5;124m\"\u001b[39m\u001b[38;5;124mReentrenando modelo con nuevas imágenes...\u001b[39m\u001b[38;5;124m\"\u001b[39m)\n\u001b[1;32m--> 142\u001b[0m \u001b[43mmodel\u001b[49m\u001b[38;5;241;43m.\u001b[39;49m\u001b[43mfit\u001b[49m\u001b[43m(\u001b[49m\u001b[43mtrain_generator\u001b[49m\u001b[43m,\u001b[49m\u001b[43m \u001b[49m\u001b[43mepochs\u001b[49m\u001b[38;5;241;43m=\u001b[39;49m\u001b[38;5;241;43m5\u001b[39;49m\u001b[43m,\u001b[49m\u001b[43m \u001b[49m\u001b[43mvalidation_data\u001b[49m\u001b[38;5;241;43m=\u001b[39;49m\u001b[43mvalidation_generator\u001b[49m\u001b[43m)\u001b[49m\n\u001b[0;32m    144\u001b[0m \u001b[38;5;66;03m# Guarda el modelo actualizado\u001b[39;00m\n\u001b[0;32m    145\u001b[0m model\u001b[38;5;241m.\u001b[39msave(model_path)\n",
      "File \u001b[1;32mD:\\Descargas 2.0\\SEMESTREVII\\InteraccionHumanoComputador\\PrimeraTarea\\AnalisiOfSolidAndPlane\\venv\\lib\\site-packages\\keras\\src\\utils\\traceback_utils.py:122\u001b[0m, in \u001b[0;36mfilter_traceback.<locals>.error_handler\u001b[1;34m(*args, **kwargs)\u001b[0m\n\u001b[0;32m    119\u001b[0m     filtered_tb \u001b[38;5;241m=\u001b[39m _process_traceback_frames(e\u001b[38;5;241m.\u001b[39m__traceback__)\n\u001b[0;32m    120\u001b[0m     \u001b[38;5;66;03m# To get the full stack trace, call:\u001b[39;00m\n\u001b[0;32m    121\u001b[0m     \u001b[38;5;66;03m# `keras.config.disable_traceback_filtering()`\u001b[39;00m\n\u001b[1;32m--> 122\u001b[0m     \u001b[38;5;28;01mraise\u001b[39;00m e\u001b[38;5;241m.\u001b[39mwith_traceback(filtered_tb) \u001b[38;5;28;01mfrom\u001b[39;00m\u001b[38;5;250m \u001b[39m\u001b[38;5;28;01mNone\u001b[39;00m\n\u001b[0;32m    123\u001b[0m \u001b[38;5;28;01mfinally\u001b[39;00m:\n\u001b[0;32m    124\u001b[0m     \u001b[38;5;28;01mdel\u001b[39;00m filtered_tb\n",
      "File \u001b[1;32mD:\\Descargas 2.0\\SEMESTREVII\\InteraccionHumanoComputador\\PrimeraTarea\\AnalisiOfSolidAndPlane\\venv\\lib\\site-packages\\keras\\src\\backend\\tensorflow\\nn.py:669\u001b[0m, in \u001b[0;36mcategorical_crossentropy\u001b[1;34m(target, output, from_logits, axis)\u001b[0m\n\u001b[0;32m    667\u001b[0m \u001b[38;5;28;01mfor\u001b[39;00m e1, e2 \u001b[38;5;129;01min\u001b[39;00m \u001b[38;5;28mzip\u001b[39m(target\u001b[38;5;241m.\u001b[39mshape, output\u001b[38;5;241m.\u001b[39mshape):\n\u001b[0;32m    668\u001b[0m     \u001b[38;5;28;01mif\u001b[39;00m e1 \u001b[38;5;129;01mis\u001b[39;00m \u001b[38;5;129;01mnot\u001b[39;00m \u001b[38;5;28;01mNone\u001b[39;00m \u001b[38;5;129;01mand\u001b[39;00m e2 \u001b[38;5;129;01mis\u001b[39;00m \u001b[38;5;129;01mnot\u001b[39;00m \u001b[38;5;28;01mNone\u001b[39;00m \u001b[38;5;129;01mand\u001b[39;00m e1 \u001b[38;5;241m!=\u001b[39m e2:\n\u001b[1;32m--> 669\u001b[0m         \u001b[38;5;28;01mraise\u001b[39;00m \u001b[38;5;167;01mValueError\u001b[39;00m(\n\u001b[0;32m    670\u001b[0m             \u001b[38;5;124m\"\u001b[39m\u001b[38;5;124mArguments `target` and `output` must have the same shape. \u001b[39m\u001b[38;5;124m\"\u001b[39m\n\u001b[0;32m    671\u001b[0m             \u001b[38;5;124m\"\u001b[39m\u001b[38;5;124mReceived: \u001b[39m\u001b[38;5;124m\"\u001b[39m\n\u001b[0;32m    672\u001b[0m             \u001b[38;5;124mf\u001b[39m\u001b[38;5;124m\"\u001b[39m\u001b[38;5;124mtarget.shape=\u001b[39m\u001b[38;5;132;01m{\u001b[39;00mtarget\u001b[38;5;241m.\u001b[39mshape\u001b[38;5;132;01m}\u001b[39;00m\u001b[38;5;124m, output.shape=\u001b[39m\u001b[38;5;132;01m{\u001b[39;00moutput\u001b[38;5;241m.\u001b[39mshape\u001b[38;5;132;01m}\u001b[39;00m\u001b[38;5;124m\"\u001b[39m\n\u001b[0;32m    673\u001b[0m         )\n\u001b[0;32m    675\u001b[0m output, from_logits \u001b[38;5;241m=\u001b[39m _get_logits(\n\u001b[0;32m    676\u001b[0m     output, from_logits, \u001b[38;5;124m\"\u001b[39m\u001b[38;5;124mSoftmax\u001b[39m\u001b[38;5;124m\"\u001b[39m, \u001b[38;5;124m\"\u001b[39m\u001b[38;5;124mcategorical_crossentropy\u001b[39m\u001b[38;5;124m\"\u001b[39m\n\u001b[0;32m    677\u001b[0m )\n\u001b[0;32m    678\u001b[0m \u001b[38;5;28;01mif\u001b[39;00m from_logits:\n",
      "\u001b[1;31mValueError\u001b[0m: Arguments `target` and `output` must have the same shape. Received: target.shape=(None, 22), output.shape=(None, 24)"
     ]
    },
    {
     "name": "stdout",
     "output_type": "stream",
     "text": [
      "Cámara activada. Dibuja un rectángulo alrededor del objeto con el mouse y presiona 'c' para capturar. Presiona 'q' para salir.\n",
      "Forma predicha: rhombus\n"
     ]
    },
    {
     "name": "stdout",
     "output_type": "stream",
     "text": [
      "¿Es correcto? (s/n, o 'q' para salir):  n\n"
     ]
    },
    {
     "name": "stdout",
     "output_type": "stream",
     "text": [
      "Selecciona la forma correcta (0-23): {'circle': 0, 'cone': 1, 'cube': 2, 'cuboid': 3, 'cylinder': 4, 'decagon': 5, 'dodecahedron': 6, 'ellipse': 7, 'heptagon': 8, 'hexagon': 9, 'nonagon': 10, 'octagon': 11, 'octahedron': 12, 'parallelogram': 13, 'pentagon': 14, 'prism': 15, 'pyramid': 16, 'rectangle': 17, 'rhombus': 18, 'sphere': 19, 'square': 20, 'tetrahedron': 21, 'trapezoid': 22, 'triangle': 23}\n"
     ]
    },
    {
     "name": "stdout",
     "output_type": "stream",
     "text": [
      "Ingresa el número de la forma correcta:  0\n"
     ]
    },
    {
     "name": "stdout",
     "output_type": "stream",
     "text": [
      "Cámara activada. Dibuja un rectángulo alrededor del objeto con el mouse y presiona 'c' para capturar. Presiona 'q' para salir.\n",
      "Forma predicha: rhombus\n"
     ]
    },
    {
     "name": "stdout",
     "output_type": "stream",
     "text": [
      "¿Es correcto? (s/n, o 'q' para salir):  s\n"
     ]
    },
    {
     "name": "stdout",
     "output_type": "stream",
     "text": [
      "Cámara activada. Dibuja un rectángulo alrededor del objeto con el mouse y presiona 'c' para capturar. Presiona 'q' para salir.\n",
      "Forma predicha: parallelogram\n"
     ]
    },
    {
     "name": "stdout",
     "output_type": "stream",
     "text": [
      "¿Es correcto? (s/n, o 'q' para salir):  s\n"
     ]
    },
    {
     "name": "stdout",
     "output_type": "stream",
     "text": [
      "Cámara activada. Dibuja un rectángulo alrededor del objeto con el mouse y presiona 'c' para capturar. Presiona 'q' para salir.\n",
      "Forma predicha: parallelogram\n"
     ]
    },
    {
     "name": "stdout",
     "output_type": "stream",
     "text": [
      "¿Es correcto? (s/n, o 'q' para salir):  n\n"
     ]
    },
    {
     "name": "stdout",
     "output_type": "stream",
     "text": [
      "Selecciona la forma correcta (0-23): {'circle': 0, 'cone': 1, 'cube': 2, 'cuboid': 3, 'cylinder': 4, 'decagon': 5, 'dodecahedron': 6, 'ellipse': 7, 'heptagon': 8, 'hexagon': 9, 'nonagon': 10, 'octagon': 11, 'octahedron': 12, 'parallelogram': 13, 'pentagon': 14, 'prism': 15, 'pyramid': 16, 'rectangle': 17, 'rhombus': 18, 'sphere': 19, 'square': 20, 'tetrahedron': 21, 'trapezoid': 22, 'triangle': 23}\n"
     ]
    },
    {
     "name": "stdout",
     "output_type": "stream",
     "text": [
      "Ingresa el número de la forma correcta:  23\n"
     ]
    },
    {
     "name": "stdout",
     "output_type": "stream",
     "text": [
      "Cámara activada. Dibuja un rectángulo alrededor del objeto con el mouse y presiona 'c' para capturar. Presiona 'q' para salir.\n",
      "Forma predicha: parallelogram\n"
     ]
    },
    {
     "name": "stdout",
     "output_type": "stream",
     "text": [
      "¿Es correcto? (s/n, o 'q' para salir):  n\n"
     ]
    },
    {
     "name": "stdout",
     "output_type": "stream",
     "text": [
      "Selecciona la forma correcta (0-23): {'circle': 0, 'cone': 1, 'cube': 2, 'cuboid': 3, 'cylinder': 4, 'decagon': 5, 'dodecahedron': 6, 'ellipse': 7, 'heptagon': 8, 'hexagon': 9, 'nonagon': 10, 'octagon': 11, 'octahedron': 12, 'parallelogram': 13, 'pentagon': 14, 'prism': 15, 'pyramid': 16, 'rectangle': 17, 'rhombus': 18, 'sphere': 19, 'square': 20, 'tetrahedron': 21, 'trapezoid': 22, 'triangle': 23}\n"
     ]
    },
    {
     "name": "stdout",
     "output_type": "stream",
     "text": [
      "Ingresa el número de la forma correcta:  17\n"
     ]
    },
    {
     "name": "stdout",
     "output_type": "stream",
     "text": [
      "Cámara activada. Dibuja un rectángulo alrededor del objeto con el mouse y presiona 'c' para capturar. Presiona 'q' para salir.\n",
      "Forma predicha: rectangle\n"
     ]
    },
    {
     "name": "stdout",
     "output_type": "stream",
     "text": [
      "¿Es correcto? (s/n, o 'q' para salir):  s\n"
     ]
    },
    {
     "name": "stdout",
     "output_type": "stream",
     "text": [
      "Cámara activada. Dibuja un rectángulo alrededor del objeto con el mouse y presiona 'c' para capturar. Presiona 'q' para salir.\n"
     ]
    },
    {
     "ename": "NameError",
     "evalue": "name 'ImageDataGenerator' is not defined",
     "output_type": "error",
     "traceback": [
      "\u001b[1;31m---------------------------------------------------------------------------\u001b[0m",
      "\u001b[1;31mNameError\u001b[0m                                 Traceback (most recent call last)",
      "Cell \u001b[1;32mIn[1], line 125\u001b[0m\n\u001b[0;32m    122\u001b[0m X_train, X_val, y_train, y_val \u001b[38;5;241m=\u001b[39m train_test_split(new_images, new_labels, test_size\u001b[38;5;241m=\u001b[39m\u001b[38;5;241m0.2\u001b[39m, random_state\u001b[38;5;241m=\u001b[39m\u001b[38;5;241m42\u001b[39m)\n\u001b[0;32m    124\u001b[0m \u001b[38;5;66;03m# Augmentación\u001b[39;00m\n\u001b[1;32m--> 125\u001b[0m datagen \u001b[38;5;241m=\u001b[39m \u001b[43mImageDataGenerator\u001b[49m(rotation_range\u001b[38;5;241m=\u001b[39m\u001b[38;5;241m20\u001b[39m, width_shift_range\u001b[38;5;241m=\u001b[39m\u001b[38;5;241m0.2\u001b[39m, height_shift_range\u001b[38;5;241m=\u001b[39m\u001b[38;5;241m0.2\u001b[39m, horizontal_flip\u001b[38;5;241m=\u001b[39m\u001b[38;5;28;01mTrue\u001b[39;00m)\n\u001b[0;32m    126\u001b[0m train_generator \u001b[38;5;241m=\u001b[39m datagen\u001b[38;5;241m.\u001b[39mflow(X_train, y_train, batch_size\u001b[38;5;241m=\u001b[39m\u001b[38;5;241m16\u001b[39m)\n\u001b[0;32m    127\u001b[0m validation_generator \u001b[38;5;241m=\u001b[39m datagen\u001b[38;5;241m.\u001b[39mflow(X_val, y_val, batch_size\u001b[38;5;241m=\u001b[39m\u001b[38;5;241m16\u001b[39m)\n",
      "\u001b[1;31mNameError\u001b[0m: name 'ImageDataGenerator' is not defined"
     ]
    },
    {
     "name": "stdout",
     "output_type": "stream",
     "text": [
      "¿Es correcto? (s/n, o 'q' para salir):  s\n"
     ]
    },
    {
     "name": "stdout",
     "output_type": "stream",
     "text": [
      "Cámara activada. Dibuja un rectángulo alrededor del objeto con el mouse y presiona 'c' para capturar.\n",
      "Forma predicha: rectangle\n"
     ]
    },
    {
     "name": "stdout",
     "output_type": "stream",
     "text": [
      "¿Es correcto? (s/n, o 'q' para salir):  s\n"
     ]
    },
    {
     "name": "stdout",
     "output_type": "stream",
     "text": [
      "Cámara activada. Dibuja un rectángulo alrededor del objeto con el mouse y presiona 'c' para capturar.\n",
      "Forma predicha: rhombus\n"
     ]
    },
    {
     "name": "stdout",
     "output_type": "stream",
     "text": [
      "¿Es correcto? (s/n, o 'q' para salir):  n\n"
     ]
    },
    {
     "name": "stdout",
     "output_type": "stream",
     "text": [
      "Selecciona la forma correcta (0-23): {'circle': 0, 'cone': 1, 'cube': 2, 'cuboid': 3, 'cylinder': 4, 'decagon': 5, 'dodecahedron': 6, 'ellipse': 7, 'heptagon': 8, 'hexagon': 9, 'nonagon': 10, 'octagon': 11, 'octahedron': 12, 'parallelogram': 13, 'pentagon': 14, 'prism': 15, 'pyramid': 16, 'rectangle': 17, 'rhombus': 18, 'sphere': 19, 'square': 20, 'tetrahedron': 21, 'trapezoid': 22, 'triangle': 23}\n"
     ]
    },
    {
     "name": "stdout",
     "output_type": "stream",
     "text": [
      "Ingresa el número de la forma correcta:  0\n"
     ]
    },
    {
     "name": "stdout",
     "output_type": "stream",
     "text": [
      "Cámara activada. Dibuja un rectángulo alrededor del objeto con el mouse y presiona 'c' para capturar.\n",
      "Forma predicha: parallelogram\n"
     ]
    },
    {
     "name": "stdout",
     "output_type": "stream",
     "text": [
      "¿Es correcto? (s/n, o 'q' para salir):  n\n"
     ]
    },
    {
     "name": "stdout",
     "output_type": "stream",
     "text": [
      "Selecciona la forma correcta (0-23): {'circle': 0, 'cone': 1, 'cube': 2, 'cuboid': 3, 'cylinder': 4, 'decagon': 5, 'dodecahedron': 6, 'ellipse': 7, 'heptagon': 8, 'hexagon': 9, 'nonagon': 10, 'octagon': 11, 'octahedron': 12, 'parallelogram': 13, 'pentagon': 14, 'prism': 15, 'pyramid': 16, 'rectangle': 17, 'rhombus': 18, 'sphere': 19, 'square': 20, 'tetrahedron': 21, 'trapezoid': 22, 'triangle': 23}\n"
     ]
    },
    {
     "name": "stdout",
     "output_type": "stream",
     "text": [
      "Ingresa el número de la forma correcta:  4\n"
     ]
    },
    {
     "name": "stdout",
     "output_type": "stream",
     "text": [
      "Cámara activada. Dibuja un rectángulo alrededor del objeto con el mouse y presiona 'c' para capturar.\n",
      "Forma predicha: parallelogram\n"
     ]
    },
    {
     "name": "stdout",
     "output_type": "stream",
     "text": [
      "¿Es correcto? (s/n, o 'q' para salir):  n\n"
     ]
    },
    {
     "name": "stdout",
     "output_type": "stream",
     "text": [
      "Selecciona la forma correcta (0-23): {'circle': 0, 'cone': 1, 'cube': 2, 'cuboid': 3, 'cylinder': 4, 'decagon': 5, 'dodecahedron': 6, 'ellipse': 7, 'heptagon': 8, 'hexagon': 9, 'nonagon': 10, 'octagon': 11, 'octahedron': 12, 'parallelogram': 13, 'pentagon': 14, 'prism': 15, 'pyramid': 16, 'rectangle': 17, 'rhombus': 18, 'sphere': 19, 'square': 20, 'tetrahedron': 21, 'trapezoid': 22, 'triangle': 23}\n"
     ]
    },
    {
     "name": "stdout",
     "output_type": "stream",
     "text": [
      "Ingresa el número de la forma correcta:  7\n"
     ]
    },
    {
     "name": "stdout",
     "output_type": "stream",
     "text": [
      "Cámara activada. Dibuja un rectángulo alrededor del objeto con el mouse y presiona 'c' para capturar.\n",
      "Forma predicha: rectangle\n"
     ]
    },
    {
     "name": "stdout",
     "output_type": "stream",
     "text": [
      "¿Es correcto? (s/n, o 'q' para salir):  n\n"
     ]
    },
    {
     "name": "stdout",
     "output_type": "stream",
     "text": [
      "Selecciona la forma correcta (0-23): {'circle': 0, 'cone': 1, 'cube': 2, 'cuboid': 3, 'cylinder': 4, 'decagon': 5, 'dodecahedron': 6, 'ellipse': 7, 'heptagon': 8, 'hexagon': 9, 'nonagon': 10, 'octagon': 11, 'octahedron': 12, 'parallelogram': 13, 'pentagon': 14, 'prism': 15, 'pyramid': 16, 'rectangle': 17, 'rhombus': 18, 'sphere': 19, 'square': 20, 'tetrahedron': 21, 'trapezoid': 22, 'triangle': 23}\n"
     ]
    },
    {
     "name": "stdout",
     "output_type": "stream",
     "text": [
      "Ingresa el número de la forma correcta:  2\n"
     ]
    },
    {
     "name": "stdout",
     "output_type": "stream",
     "text": [
      "Cámara activada. Dibuja un rectángulo alrededor del objeto con el mouse y presiona 'c' para capturar.\n",
      "Forma predicha: parallelogram\n"
     ]
    },
    {
     "name": "stdout",
     "output_type": "stream",
     "text": [
      "¿Es correcto? (s/n, o 'q' para salir):  n\n"
     ]
    },
    {
     "name": "stdout",
     "output_type": "stream",
     "text": [
      "Selecciona la forma correcta (0-23): {'circle': 0, 'cone': 1, 'cube': 2, 'cuboid': 3, 'cylinder': 4, 'decagon': 5, 'dodecahedron': 6, 'ellipse': 7, 'heptagon': 8, 'hexagon': 9, 'nonagon': 10, 'octagon': 11, 'octahedron': 12, 'parallelogram': 13, 'pentagon': 14, 'prism': 15, 'pyramid': 16, 'rectangle': 17, 'rhombus': 18, 'sphere': 19, 'square': 20, 'tetrahedron': 21, 'trapezoid': 22, 'triangle': 23}\n"
     ]
    },
    {
     "name": "stdout",
     "output_type": "stream",
     "text": [
      "Ingresa el número de la forma correcta:  2\n"
     ]
    },
    {
     "name": "stdout",
     "output_type": "stream",
     "text": [
      "Cámara activada. Dibuja un rectángulo alrededor del objeto con el mouse y presiona 'c' para capturar.\n",
      "Forma predicha: parallelogram\n"
     ]
    },
    {
     "name": "stdout",
     "output_type": "stream",
     "text": [
      "¿Es correcto? (s/n, o 'q' para salir):  n\n"
     ]
    },
    {
     "name": "stdout",
     "output_type": "stream",
     "text": [
      "Selecciona la forma correcta (0-23): {'circle': 0, 'cone': 1, 'cube': 2, 'cuboid': 3, 'cylinder': 4, 'decagon': 5, 'dodecahedron': 6, 'ellipse': 7, 'heptagon': 8, 'hexagon': 9, 'nonagon': 10, 'octagon': 11, 'octahedron': 12, 'parallelogram': 13, 'pentagon': 14, 'prism': 15, 'pyramid': 16, 'rectangle': 17, 'rhombus': 18, 'sphere': 19, 'square': 20, 'tetrahedron': 21, 'trapezoid': 22, 'triangle': 23}\n"
     ]
    },
    {
     "name": "stdout",
     "output_type": "stream",
     "text": [
      "Ingresa el número de la forma correcta:  4\n"
     ]
    },
    {
     "name": "stdout",
     "output_type": "stream",
     "text": [
      "Cámara activada. Dibuja un rectángulo alrededor del objeto con el mouse y presiona 'c' para capturar.\n",
      "Forma predicha: parallelogram\n"
     ]
    },
    {
     "name": "stdout",
     "output_type": "stream",
     "text": [
      "¿Es correcto? (s/n, o 'q' para salir):  n\n"
     ]
    },
    {
     "name": "stdout",
     "output_type": "stream",
     "text": [
      "Selecciona la forma correcta (0-23): {'circle': 0, 'cone': 1, 'cube': 2, 'cuboid': 3, 'cylinder': 4, 'decagon': 5, 'dodecahedron': 6, 'ellipse': 7, 'heptagon': 8, 'hexagon': 9, 'nonagon': 10, 'octagon': 11, 'octahedron': 12, 'parallelogram': 13, 'pentagon': 14, 'prism': 15, 'pyramid': 16, 'rectangle': 17, 'rhombus': 18, 'sphere': 19, 'square': 20, 'tetrahedron': 21, 'trapezoid': 22, 'triangle': 23}\n"
     ]
    },
    {
     "name": "stdout",
     "output_type": "stream",
     "text": [
      "Ingresa el número de la forma correcta:  4\n"
     ]
    },
    {
     "name": "stdout",
     "output_type": "stream",
     "text": [
      "Cámara activada. Dibuja un rectángulo alrededor del objeto con el mouse y presiona 'c' para capturar.\n",
      "Forma predicha: rectangle\n"
     ]
    },
    {
     "name": "stdout",
     "output_type": "stream",
     "text": [
      "¿Es correcto? (s/n, o 'q' para salir):  s\n"
     ]
    },
    {
     "name": "stdout",
     "output_type": "stream",
     "text": [
      "Cámara activada. Dibuja un rectángulo alrededor del objeto con el mouse y presiona 'c' para capturar.\n",
      "Forma predicha: parallelogram\n"
     ]
    },
    {
     "name": "stdout",
     "output_type": "stream",
     "text": [
      "¿Es correcto? (s/n, o 'q' para salir):  n\n"
     ]
    },
    {
     "name": "stdout",
     "output_type": "stream",
     "text": [
      "Selecciona la forma correcta (0-23): {'circle': 0, 'cone': 1, 'cube': 2, 'cuboid': 3, 'cylinder': 4, 'decagon': 5, 'dodecahedron': 6, 'ellipse': 7, 'heptagon': 8, 'hexagon': 9, 'nonagon': 10, 'octagon': 11, 'octahedron': 12, 'parallelogram': 13, 'pentagon': 14, 'prism': 15, 'pyramid': 16, 'rectangle': 17, 'rhombus': 18, 'sphere': 19, 'square': 20, 'tetrahedron': 21, 'trapezoid': 22, 'triangle': 23}\n"
     ]
    },
    {
     "name": "stdout",
     "output_type": "stream",
     "text": [
      "Ingresa el número de la forma correcta:  4\n"
     ]
    },
    {
     "name": "stdout",
     "output_type": "stream",
     "text": [
      "Cámara activada. Dibuja un rectángulo alrededor del objeto con el mouse y presiona 'c' para capturar.\n",
      "Forma predicha: square\n"
     ]
    },
    {
     "name": "stdout",
     "output_type": "stream",
     "text": [
      "¿Es correcto? (s/n, o 'q' para salir):  s\n"
     ]
    },
    {
     "name": "stdout",
     "output_type": "stream",
     "text": [
      "Cámara activada. Dibuja un rectángulo alrededor del objeto con el mouse y presiona 'c' para capturar.\n",
      "Forma predicha: rectangle\n"
     ]
    },
    {
     "name": "stdout",
     "output_type": "stream",
     "text": [
      "¿Es correcto? (s/n, o 'q' para salir):  n\n"
     ]
    },
    {
     "name": "stdout",
     "output_type": "stream",
     "text": [
      "Selecciona la forma correcta (0-23): {'circle': 0, 'cone': 1, 'cube': 2, 'cuboid': 3, 'cylinder': 4, 'decagon': 5, 'dodecahedron': 6, 'ellipse': 7, 'heptagon': 8, 'hexagon': 9, 'nonagon': 10, 'octagon': 11, 'octahedron': 12, 'parallelogram': 13, 'pentagon': 14, 'prism': 15, 'pyramid': 16, 'rectangle': 17, 'rhombus': 18, 'sphere': 19, 'square': 20, 'tetrahedron': 21, 'trapezoid': 22, 'triangle': 23}\n"
     ]
    },
    {
     "name": "stdout",
     "output_type": "stream",
     "text": [
      "Ingresa el número de la forma correcta:  3\n"
     ]
    },
    {
     "name": "stdout",
     "output_type": "stream",
     "text": [
      "Cámara activada. Dibuja un rectángulo alrededor del objeto con el mouse y presiona 'c' para capturar.\n",
      "Forma predicha: parallelogram\n"
     ]
    },
    {
     "name": "stdout",
     "output_type": "stream",
     "text": [
      "¿Es correcto? (s/n, o 'q' para salir):  n\n"
     ]
    },
    {
     "name": "stdout",
     "output_type": "stream",
     "text": [
      "Selecciona la forma correcta (0-23): {'circle': 0, 'cone': 1, 'cube': 2, 'cuboid': 3, 'cylinder': 4, 'decagon': 5, 'dodecahedron': 6, 'ellipse': 7, 'heptagon': 8, 'hexagon': 9, 'nonagon': 10, 'octagon': 11, 'octahedron': 12, 'parallelogram': 13, 'pentagon': 14, 'prism': 15, 'pyramid': 16, 'rectangle': 17, 'rhombus': 18, 'sphere': 19, 'square': 20, 'tetrahedron': 21, 'trapezoid': 22, 'triangle': 23}\n"
     ]
    },
    {
     "name": "stdout",
     "output_type": "stream",
     "text": [
      "Ingresa el número de la forma correcta:  0\n"
     ]
    },
    {
     "name": "stdout",
     "output_type": "stream",
     "text": [
      "Cámara activada. Dibuja un rectángulo alrededor del objeto con el mouse y presiona 'c' para capturar.\n",
      "Forma predicha: parallelogram\n"
     ]
    },
    {
     "name": "stdout",
     "output_type": "stream",
     "text": [
      "¿Es correcto? (s/n, o 'q' para salir):  n\n"
     ]
    },
    {
     "name": "stdout",
     "output_type": "stream",
     "text": [
      "Selecciona la forma correcta (0-23): {'circle': 0, 'cone': 1, 'cube': 2, 'cuboid': 3, 'cylinder': 4, 'decagon': 5, 'dodecahedron': 6, 'ellipse': 7, 'heptagon': 8, 'hexagon': 9, 'nonagon': 10, 'octagon': 11, 'octahedron': 12, 'parallelogram': 13, 'pentagon': 14, 'prism': 15, 'pyramid': 16, 'rectangle': 17, 'rhombus': 18, 'sphere': 19, 'square': 20, 'tetrahedron': 21, 'trapezoid': 22, 'triangle': 23}\n"
     ]
    },
    {
     "name": "stdout",
     "output_type": "stream",
     "text": [
      "Ingresa el número de la forma correcta:  0\n"
     ]
    },
    {
     "name": "stdout",
     "output_type": "stream",
     "text": [
      "Cámara activada. Dibuja un rectángulo alrededor del objeto con el mouse y presiona 'c' para capturar.\n",
      "Forma predicha: circle\n"
     ]
    },
    {
     "name": "stdout",
     "output_type": "stream",
     "text": [
      "¿Es correcto? (s/n, o 'q' para salir):  s\n"
     ]
    },
    {
     "name": "stdout",
     "output_type": "stream",
     "text": [
      "Cámara activada. Dibuja un rectángulo alrededor del objeto con el mouse y presiona 'c' para capturar.\n",
      "Forma predicha: rhombus\n"
     ]
    },
    {
     "name": "stdout",
     "output_type": "stream",
     "text": [
      "¿Es correcto? (s/n, o 'q' para salir):  n\n"
     ]
    },
    {
     "name": "stdout",
     "output_type": "stream",
     "text": [
      "Selecciona la forma correcta (0-23): {'circle': 0, 'cone': 1, 'cube': 2, 'cuboid': 3, 'cylinder': 4, 'decagon': 5, 'dodecahedron': 6, 'ellipse': 7, 'heptagon': 8, 'hexagon': 9, 'nonagon': 10, 'octagon': 11, 'octahedron': 12, 'parallelogram': 13, 'pentagon': 14, 'prism': 15, 'pyramid': 16, 'rectangle': 17, 'rhombus': 18, 'sphere': 19, 'square': 20, 'tetrahedron': 21, 'trapezoid': 22, 'triangle': 23}\n"
     ]
    },
    {
     "name": "stdout",
     "output_type": "stream",
     "text": [
      "Ingresa el número de la forma correcta:  0\n"
     ]
    },
    {
     "name": "stdout",
     "output_type": "stream",
     "text": [
      "Cámara activada. Dibuja un rectángulo alrededor del objeto con el mouse y presiona 'c' para capturar.\n"
     ]
    }
   ],
   "source": [
    "import sys\n",
    "import os\n",
    "sys.path.append(os.path.abspath('..'))\n",
    "\n",
    "import tensorflow as tf\n",
    "from tensorflow.keras.preprocessing.image import ImageDataGenerator\n",
    "from src.utils.data_loader import load_data\n",
    "import numpy as np\n",
    "from sklearn.model_selection import train_test_split\n",
    "\n",
    "# Define la ruta de datos y del modelo existente\n",
    "data_dir = os.path.join(os.path.dirname(os.path.abspath('')), 'data', 'raw')\n",
    "model_path = os.path.join(os.path.dirname(os.path.abspath('')), 'data', 'models', 'modelo_formas.h5')\n",
    "\n",
    "# Carga el modelo existente\n",
    "model = tf.keras.models.load_model(model_path)\n",
    "print(f\"Modelo cargado desde: {model_path}\")\n",
    "\n",
    "# Carga TODAS las imágenes disponibles (incluyendo las nuevas en 'triangle')\n",
    "images, labels, forma_to_label = load_data(data_dir, max_images_per_class=None)\n",
    "print(f\"Cargadas {len(images)} imágenes de {len(forma_to_label)} clases\")\n",
    "print(\"Clases:\", forma_to_label)\n",
    "\n",
    "# Normaliza las imágenes\n",
    "images = images / 255.0\n",
    "num_classes = len(forma_to_label)\n",
    "labels = tf.keras.utils.to_categorical(labels, num_classes=num_classes)\n",
    "\n",
    "# Divide los datos (80% entrenamiento, 20% validación)\n",
    "X_train, X_val, y_train, y_val = train_test_split(images, labels, test_size=0.2, random_state=42)\n",
    "print(f\"Entrenamiento: {len(X_train)} imágenes, Validación: {len(X_val)} imágenes\")\n",
    "\n",
    "# Augmentación de datos con énfasis en triángulos (más variedad)\n",
    "datagen = ImageDataGenerator(\n",
    "    rotation_range=40,  # Mayor rotación para mejorar reconocimiento de triángulos en diferentes ángulos\n",
    "    width_shift_range=0.2,\n",
    "    height_shift_range=0.2,\n",
    "    shear_range=0.3,  # Aumenta shear para formas angulares como triángulos\n",
    "    zoom_range=0.3,\n",
    "    horizontal_flip=True,\n",
    "    vertical_flip=True,  # Flip vertical para más variedad\n",
    "    fill_mode='nearest'\n",
    ")\n",
    "train_generator = datagen.flow(X_train, y_train, batch_size=32)\n",
    "validation_generator = datagen.flow(X_val, y_val, batch_size=32)\n",
    "\n",
    "# Recompila el modelo con una tasa de aprendizaje baja para reentrenamiento\n",
    "optimizer = tf.keras.optimizers.Adam(learning_rate=0.0001)  # Tasa baja para ajustar sin perder conocimiento previo\n",
    "model.compile(optimizer=optimizer, loss='categorical_crossentropy', metrics=['accuracy'])\n",
    "\n",
    "# Reentrena el modelo con los datos nuevos (más epochs para converger con data adicional)\n",
    "print(\"Reentrenando el modelo con los datos nuevos...\")\n",
    "history = model.fit(train_generator, epochs=30, validation_data=validation_generator, verbose=1)\n",
    "\n",
    "# Guarda el modelo reentrenado\n",
    "model.save(model_path)\n",
    "print(f\"Modelo reentrenado guardado en: {model_path}\")\n",
    "print('Clases utilizadas:', forma_to_label)"
   ]
  },
  {
   "cell_type": "code",
   "execution_count": 2,
   "id": "abb9a7f2-9342-4079-8260-00adf1a08de9",
   "metadata": {},
   "outputs": [
    {
     "name": "stderr",
     "output_type": "stream",
     "text": [
      "WARNING:absl:Compiled the loaded model, but the compiled metrics have yet to be built. `model.compile_metrics` will be empty until you train or evaluate the model.\n"
     ]
    },
    {
     "name": "stdout",
     "output_type": "stream",
     "text": [
      "Modelo cargado desde: D:\\Descargas 2.0\\SEMESTREVII\\InteraccionHumanoComputador\\PrimeraTarea\\AnalisiOfSolidAndPlane\\data\\models\\modelo_formas.h5\n",
      "Cargadas 4695 imágenes de 16 clases iniciales\n",
      "Clases iniciales: {'circle': 0, 'cone': 1, 'cube': 2, 'cuboid': 3, 'cylinder': 4, 'ellipse': 5, 'hexagon': 6, 'octagon': 7, 'pentagon': 8, 'prism': 9, 'pyramid': 10, 'rectangle': 11, 'rhombus': 12, 'sphere': 13, 'square': 14, 'triangle': 15}\n",
      "Cargadas 4695 imágenes de 16 clases tras filtrado\n",
      "Clases seleccionadas: ['circle', 'cone', 'cube', 'cuboid', 'cylinder', 'ellipse', 'hexagon', 'octagon', 'pentagon', 'prism', 'pyramid', 'rectangle', 'rhombus', 'sphere', 'square', 'triangle']\n",
      "Entrenamiento: 3756 imágenes, Prueba: 939 imágenes\n",
      "\u001b[1m30/30\u001b[0m \u001b[32m━━━━━━━━━━━━━━━━━━━━\u001b[0m\u001b[37m\u001b[0m \u001b[1m6s\u001b[0m 47ms/step\n",
      "\n",
      "Evaluación del Modelo Actual:\n",
      "Accuracy: 0.87\n",
      "Precision: 0.88\n",
      "Recall: 0.87\n",
      "Matriz de Confusión:\n",
      "[[115   0   0   0   0   0   0   0   0   0   0   0   0   0   0   0]\n",
      " [  0  24   0   0   0   0   0   0   0   0   7   0   2   7   0   0]\n",
      " [  0   0  22   0   1   0   1   0   1   0   7   1   0   2   0   0]\n",
      " [  0   0   0  13   0   0   0   0   0   0   0   0   0   0   0   0]\n",
      " [  0   0   4   0  27   0   0   0   0   0   1   0   0   8   0   0]\n",
      " [  0   0   0   0   0 107   0   0   0   0   0   0   0   0   0   0]\n",
      " [  0   0   0   0   0   0   8   0   0   0   0   0   0   0   0   0]\n",
      " [  0   0   0   0   0   0   0  60  25   0   0   0   0   0   0   0]\n",
      " [  0   0   0   0   0   0   0   0 104   0   0   0   0   0   0   0]\n",
      " [  0   0   0  17   0   0   0   0   0   0   0   0   0   0   0   0]\n",
      " [  0   0   0   0   0   0   0   0   0   0  21   0   1   0   0   0]\n",
      " [  0   0   0   0   0   0   0   0   0   0   0  97   1   0   0   0]\n",
      " [  0   0   0   0   0   0   0   0  13   0   0   0  75   0   0   0]\n",
      " [ 13   0   0   0   0   0   0   0   0   0   8   0   0  14   0   0]\n",
      " [  0   0   0   0   0   0   0   0   0   0   0   0   0   0 114   0]\n",
      " [  0   0   0   0   0   0   0   0   0   0   0   0   0   0   0  18]]\n",
      "\n",
      "Comparación con el Modelo Anterior:\n",
      "Accuracy Anterior: 0.53\n",
      "Accuracy Actual: 0.87\n",
      "El modelo actual mejoró en comparación con el anterior.\n",
      "\n",
      "Precisión aceptable o datos insuficientes. No se requiere reentrenamiento.\n"
     ]
    }
   ],
   "source": [
    "import sys\n",
    "import os\n",
    "sys.path.append(os.path.abspath('..'))\n",
    "\n",
    "import tensorflow as tf\n",
    "from tensorflow.keras.preprocessing.image import ImageDataGenerator\n",
    "from src.utils.data_loader import load_data\n",
    "import numpy as np\n",
    "from sklearn.model_selection import train_test_split\n",
    "from sklearn.metrics import accuracy_score, precision_score, recall_score, confusion_matrix\n",
    "\n",
    "# Define la ruta de datos y del modelo\n",
    "data_dir = os.path.join(os.path.dirname(os.path.abspath('')), 'data', 'raw')\n",
    "model_path = os.path.join(os.path.dirname(os.path.abspath('')), 'data', 'models', 'modelo_formas.h5')\n",
    "\n",
    "# Define las clases utilizadas\n",
    "selected_classes = ['circle', 'cone', 'cube', 'cuboid', 'cylinder', 'ellipse', 'hexagon', 'octagon', 'pentagon', 'prism', 'pyramid', 'rectangle', 'rhombus', 'sphere', 'square', 'triangle']\n",
    "num_classes = len(selected_classes)\n",
    "\n",
    "# Carga el modelo\n",
    "model = tf.keras.models.load_model(model_path)\n",
    "print(f\"Modelo cargado desde: {model_path}\")\n",
    "\n",
    "# Carga todos los datos disponibles (500 imágenes por clase)\n",
    "images, labels, forma_to_label = load_data(data_dir, max_images_per_class=500)  # Usa todas las 500 por clase\n",
    "print(f\"Cargadas {len(images)} imágenes de {len(forma_to_label)} clases iniciales\")\n",
    "print(\"Clases iniciales:\", forma_to_label)\n",
    "\n",
    "# Filtra imágenes y etiquetas para las clases seleccionadas, asegurando todas las imágenes\n",
    "images_selected = []\n",
    "labels_selected = []\n",
    "for i, forma in enumerate(forma_to_label):\n",
    "    if forma in selected_classes:\n",
    "        class_indices = [j for j, label in enumerate(labels) if label == i]\n",
    "        images_selected.extend([images[j] for j in class_indices])\n",
    "        labels_selected.extend([i] * len(class_indices))\n",
    "\n",
    "# Crea un mapeo de índices originales a nuevos índices basados en selected_classes\n",
    "selected_indices = [i for i, forma in enumerate(forma_to_label) if forma in selected_classes]\n",
    "label_mapping = {i: idx for idx, i in enumerate(selected_indices)}\n",
    "labels_mapped = [label_mapping.get(label, -1) for label in labels_selected]\n",
    "labels_mapped = [label for label in labels_mapped if label != -1]\n",
    "images_selected = [img for i, img in enumerate(images_selected) if i < len(labels_mapped)]\n",
    "labels_mapped = labels_mapped[:len(images_selected)]  # Asegura misma longitud\n",
    "\n",
    "print(f\"Cargadas {len(images_selected)} imágenes de {len(selected_classes)} clases tras filtrado\")\n",
    "print(\"Clases seleccionadas:\", selected_classes)\n",
    "\n",
    "# Normaliza las imágenes\n",
    "images_selected = np.array(images_selected) / 255.0\n",
    "labels_one_hot = tf.keras.utils.to_categorical(labels_mapped, num_classes)\n",
    "\n",
    "# Divide los datos en entrenamiento y prueba (80% entrenamiento, 20% prueba)\n",
    "X_train, X_test, y_train, y_test = train_test_split(images_selected, labels_one_hot, test_size=0.2, random_state=42)\n",
    "print(f\"Entrenamiento: {len(X_train)} imágenes, Prueba: {len(X_test)} imágenes\")\n",
    "\n",
    "# Evalúa el modelo en el conjunto de prueba\n",
    "predictions = model.predict(np.array(X_test))\n",
    "predicted_classes = np.argmax(predictions, axis=1)\n",
    "true_classes = np.argmax(y_test, axis=1)\n",
    "\n",
    "# Métricas con manejo de todas las clases\n",
    "accuracy = accuracy_score(true_classes, predicted_classes)\n",
    "precision = precision_score(true_classes, predicted_classes, average='weighted', zero_division=0, labels=range(num_classes))\n",
    "recall = recall_score(true_classes, predicted_classes, average='weighted', zero_division=0, labels=range(num_classes))\n",
    "conf_matrix = confusion_matrix(true_classes, predicted_classes, labels=range(num_classes))\n",
    "\n",
    "print(f\"\\nEvaluación del Modelo Actual:\")\n",
    "print(f\"Accuracy: {accuracy:.2f}\")\n",
    "print(f\"Precision: {precision:.2f}\")\n",
    "print(f\"Recall: {recall:.2f}\")\n",
    "print(\"Matriz de Confusión:\")\n",
    "print(conf_matrix)\n",
    "\n",
    "# Comparación con el modelo anterior\n",
    "previous_accuracy = 0.53  # Valor del modelo anterior con 1000 imágenes de 20 clases\n",
    "print(f\"\\nComparación con el Modelo Anterior:\")\n",
    "print(f\"Accuracy Anterior: {previous_accuracy:.2f}\")\n",
    "print(f\"Accuracy Actual: {accuracy:.2f}\")\n",
    "if accuracy > previous_accuracy:\n",
    "    print(\"El modelo actual mejoró en comparación con el anterior.\")\n",
    "elif accuracy < previous_accuracy:\n",
    "    print(\"El modelo actual empeoró en comparación con el anterior.\")\n",
    "else:\n",
    "    print(\"El modelo actual tiene el mismo rendimiento que el anterior.\")\n",
    "\n",
    "# Mejora si la precisión es baja\n",
    "if accuracy < 0.8 and len(images_selected) > num_classes:\n",
    "    print(\"\\nPrecisión baja. Iniciando reentrenamiento...\")\n",
    "    datagen = ImageDataGenerator(\n",
    "        rotation_range=40,\n",
    "        width_shift_range=0.2,\n",
    "        height_shift_range=0.2,\n",
    "        shear_range=0.2,\n",
    "        zoom_range=0.2,\n",
    "        horizontal_flip=True,\n",
    "        fill_mode='nearest'\n",
    "    )\n",
    "    X_train, X_val, y_train, y_val = train_test_split(X_train, y_train, test_size=0.2, random_state=42)\n",
    "    train_generator = datagen.flow(np.array(X_train), y_train, batch_size=32)\n",
    "    validation_generator = datagen.flow(np.array(X_val), y_val, batch_size=32)\n",
    "\n",
    "    optimizer = tf.keras.optimizers.Adam(learning_rate=1e-5)\n",
    "    model.compile(optimizer=optimizer, loss='categorical_crossentropy', metrics=['accuracy'])\n",
    "    history = model.fit(train_generator, epochs=20, validation_data=validation_generator, verbose=1)\n",
    "\n",
    "    # Guarda el modelo mejorado\n",
    "    model.save(model_path)\n",
    "    print(f\"Modelo mejorado guardado en: {model_path}\")\n",
    "else:\n",
    "    print(\"\\nPrecisión aceptable o datos insuficientes. No se requiere reentrenamiento.\")"
   ]
  }
 ],
 "metadata": {
  "kernelspec": {
   "display_name": "Python 3 (ipykernel)",
   "language": "python",
   "name": "python3"
  },
  "language_info": {
   "codemirror_mode": {
    "name": "ipython",
    "version": 3
   },
   "file_extension": ".py",
   "mimetype": "text/x-python",
   "name": "python",
   "nbconvert_exporter": "python",
   "pygments_lexer": "ipython3",
   "version": "3.10.9"
  }
 },
 "nbformat": 4,
 "nbformat_minor": 5
}
