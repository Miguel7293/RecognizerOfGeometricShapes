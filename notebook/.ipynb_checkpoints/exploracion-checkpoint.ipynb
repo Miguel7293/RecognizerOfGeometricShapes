{
 "cells": [
  {
   "cell_type": "code",
   "execution_count": 1,
   "id": "0668abd3",
   "metadata": {},
   "outputs": [
    {
     "name": "stdout",
     "output_type": "stream",
     "text": [
      "Cargadas 1900 imágenes de 20 clases\n",
      "Clases: {'circle': 0, 'cone': 1, 'cube': 2, 'cuboid': 3, 'cylinder': 4, 'ellipse': 5, 'heptagon': 6, 'hexagon': 7, 'nonagon': 8, 'octagon': 9, 'parallelogram': 10, 'pentagon': 11, 'prism': 12, 'pyramid': 13, 'rectangle': 14, 'rhombus': 15, 'sphere': 16, 'square': 17, 'tetrahedron': 18, 'triangle': 19}\n",
      "Entrenamiento: 1520 imágenes, Validación: 380 imágenes\n"
     ]
    },
    {
     "name": "stderr",
     "output_type": "stream",
     "text": [
      "D:\\Descargas 2.0\\SEMESTREVII\\InteraccionHumanoComputador\\PrimeraTarea\\AnalisiOfSolidAndPlane\\venv\\lib\\site-packages\\keras\\src\\layers\\convolutional\\base_conv.py:113: UserWarning: Do not pass an `input_shape`/`input_dim` argument to a layer. When using Sequential models, prefer using an `Input(shape)` object as the first layer in the model instead.\n",
      "  super().__init__(activity_regularizer=activity_regularizer, **kwargs)\n"
     ]
    },
    {
     "name": "stdout",
     "output_type": "stream",
     "text": [
      "Entrenando nuevo modelo...\n"
     ]
    },
    {
     "name": "stderr",
     "output_type": "stream",
     "text": [
      "D:\\Descargas 2.0\\SEMESTREVII\\InteraccionHumanoComputador\\PrimeraTarea\\AnalisiOfSolidAndPlane\\venv\\lib\\site-packages\\keras\\src\\trainers\\data_adapters\\py_dataset_adapter.py:121: UserWarning: Your `PyDataset` class should call `super().__init__(**kwargs)` in its constructor. `**kwargs` can include `workers`, `use_multiprocessing`, `max_queue_size`. Do not pass these arguments to `fit()`, as they will be ignored.\n",
      "  self._warn_if_super_not_called()\n"
     ]
    },
    {
     "name": "stdout",
     "output_type": "stream",
     "text": [
      "Epoch 1/30\n",
      "\u001b[1m48/48\u001b[0m \u001b[32m━━━━━━━━━━━━━━━━━━━━\u001b[0m\u001b[37m\u001b[0m \u001b[1m19s\u001b[0m 280ms/step - accuracy: 0.0724 - loss: 2.9813 - val_accuracy: 0.2079 - val_loss: 2.6136\n",
      "Epoch 2/30\n",
      "\u001b[1m48/48\u001b[0m \u001b[32m━━━━━━━━━━━━━━━━━━━━\u001b[0m\u001b[37m\u001b[0m \u001b[1m13s\u001b[0m 269ms/step - accuracy: 0.2118 - loss: 2.4939 - val_accuracy: 0.3000 - val_loss: 2.0372\n",
      "Epoch 3/30\n",
      "\u001b[1m48/48\u001b[0m \u001b[32m━━━━━━━━━━━━━━━━━━━━\u001b[0m\u001b[37m\u001b[0m \u001b[1m12s\u001b[0m 257ms/step - accuracy: 0.3033 - loss: 2.0837 - val_accuracy: 0.4132 - val_loss: 1.7084\n",
      "Epoch 4/30\n",
      "\u001b[1m48/48\u001b[0m \u001b[32m━━━━━━━━━━━━━━━━━━━━\u001b[0m\u001b[37m\u001b[0m \u001b[1m13s\u001b[0m 264ms/step - accuracy: 0.3533 - loss: 1.8812 - val_accuracy: 0.4921 - val_loss: 1.4830\n",
      "Epoch 5/30\n",
      "\u001b[1m48/48\u001b[0m \u001b[32m━━━━━━━━━━━━━━━━━━━━\u001b[0m\u001b[37m\u001b[0m \u001b[1m13s\u001b[0m 262ms/step - accuracy: 0.4447 - loss: 1.5979 - val_accuracy: 0.5632 - val_loss: 1.3021\n",
      "Epoch 6/30\n",
      "\u001b[1m48/48\u001b[0m \u001b[32m━━━━━━━━━━━━━━━━━━━━\u001b[0m\u001b[37m\u001b[0m \u001b[1m21s\u001b[0m 261ms/step - accuracy: 0.4750 - loss: 1.4621 - val_accuracy: 0.6395 - val_loss: 1.0775\n",
      "Epoch 7/30\n",
      "\u001b[1m48/48\u001b[0m \u001b[32m━━━━━━━━━━━━━━━━━━━━\u001b[0m\u001b[37m\u001b[0m \u001b[1m12s\u001b[0m 257ms/step - accuracy: 0.5033 - loss: 1.3527 - val_accuracy: 0.6132 - val_loss: 1.0381\n",
      "Epoch 8/30\n",
      "\u001b[1m48/48\u001b[0m \u001b[32m━━━━━━━━━━━━━━━━━━━━\u001b[0m\u001b[37m\u001b[0m \u001b[1m13s\u001b[0m 271ms/step - accuracy: 0.5645 - loss: 1.1404 - val_accuracy: 0.6316 - val_loss: 0.9077\n",
      "Epoch 9/30\n",
      "\u001b[1m48/48\u001b[0m \u001b[32m━━━━━━━━━━━━━━━━━━━━\u001b[0m\u001b[37m\u001b[0m \u001b[1m13s\u001b[0m 265ms/step - accuracy: 0.5691 - loss: 1.1137 - val_accuracy: 0.6763 - val_loss: 0.8054\n",
      "Epoch 10/30\n",
      "\u001b[1m48/48\u001b[0m \u001b[32m━━━━━━━━━━━━━━━━━━━━\u001b[0m\u001b[37m\u001b[0m \u001b[1m13s\u001b[0m 260ms/step - accuracy: 0.5954 - loss: 1.0572 - val_accuracy: 0.6816 - val_loss: 0.7721\n",
      "Epoch 11/30\n",
      "\u001b[1m48/48\u001b[0m \u001b[32m━━━━━━━━━━━━━━━━━━━━\u001b[0m\u001b[37m\u001b[0m \u001b[1m13s\u001b[0m 268ms/step - accuracy: 0.6079 - loss: 0.9871 - val_accuracy: 0.6895 - val_loss: 0.7139\n",
      "Epoch 12/30\n",
      "\u001b[1m48/48\u001b[0m \u001b[32m━━━━━━━━━━━━━━━━━━━━\u001b[0m\u001b[37m\u001b[0m \u001b[1m13s\u001b[0m 264ms/step - accuracy: 0.6145 - loss: 0.9463 - val_accuracy: 0.6737 - val_loss: 0.7298\n",
      "Epoch 13/30\n",
      "\u001b[1m48/48\u001b[0m \u001b[32m━━━━━━━━━━━━━━━━━━━━\u001b[0m\u001b[37m\u001b[0m \u001b[1m13s\u001b[0m 262ms/step - accuracy: 0.6289 - loss: 0.8982 - val_accuracy: 0.7079 - val_loss: 0.6780\n",
      "Epoch 14/30\n",
      "\u001b[1m48/48\u001b[0m \u001b[32m━━━━━━━━━━━━━━━━━━━━\u001b[0m\u001b[37m\u001b[0m \u001b[1m13s\u001b[0m 269ms/step - accuracy: 0.6539 - loss: 0.8528 - val_accuracy: 0.6868 - val_loss: 0.6654\n",
      "Epoch 15/30\n",
      "\u001b[1m48/48\u001b[0m \u001b[32m━━━━━━━━━━━━━━━━━━━━\u001b[0m\u001b[37m\u001b[0m \u001b[1m13s\u001b[0m 264ms/step - accuracy: 0.6539 - loss: 0.8256 - val_accuracy: 0.7447 - val_loss: 0.6345\n",
      "Epoch 16/30\n",
      "\u001b[1m48/48\u001b[0m \u001b[32m━━━━━━━━━━━━━━━━━━━━\u001b[0m\u001b[37m\u001b[0m \u001b[1m13s\u001b[0m 258ms/step - accuracy: 0.6592 - loss: 0.8228 - val_accuracy: 0.7684 - val_loss: 0.5693\n",
      "Epoch 17/30\n",
      "\u001b[1m48/48\u001b[0m \u001b[32m━━━━━━━━━━━━━━━━━━━━\u001b[0m\u001b[37m\u001b[0m \u001b[1m13s\u001b[0m 261ms/step - accuracy: 0.6533 - loss: 0.7886 - val_accuracy: 0.7289 - val_loss: 0.6347\n",
      "Epoch 18/30\n",
      "\u001b[1m48/48\u001b[0m \u001b[32m━━━━━━━━━━━━━━━━━━━━\u001b[0m\u001b[37m\u001b[0m \u001b[1m13s\u001b[0m 272ms/step - accuracy: 0.6875 - loss: 0.7886 - val_accuracy: 0.7053 - val_loss: 0.6320\n",
      "Epoch 19/30\n",
      "\u001b[1m48/48\u001b[0m \u001b[32m━━━━━━━━━━━━━━━━━━━━\u001b[0m\u001b[37m\u001b[0m \u001b[1m13s\u001b[0m 270ms/step - accuracy: 0.6684 - loss: 0.7706 - val_accuracy: 0.7789 - val_loss: 0.5463\n",
      "Epoch 20/30\n",
      "\u001b[1m48/48\u001b[0m \u001b[32m━━━━━━━━━━━━━━━━━━━━\u001b[0m\u001b[37m\u001b[0m \u001b[1m13s\u001b[0m 265ms/step - accuracy: 0.6796 - loss: 0.7537 - val_accuracy: 0.7658 - val_loss: 0.5474\n",
      "Epoch 21/30\n",
      "\u001b[1m48/48\u001b[0m \u001b[32m━━━━━━━━━━━━━━━━━━━━\u001b[0m\u001b[37m\u001b[0m \u001b[1m13s\u001b[0m 262ms/step - accuracy: 0.7020 - loss: 0.7084 - val_accuracy: 0.7184 - val_loss: 0.6065\n",
      "Epoch 22/30\n",
      "\u001b[1m48/48\u001b[0m \u001b[32m━━━━━━━━━━━━━━━━━━━━\u001b[0m\u001b[37m\u001b[0m \u001b[1m13s\u001b[0m 261ms/step - accuracy: 0.6776 - loss: 0.7642 - val_accuracy: 0.7421 - val_loss: 0.6045\n",
      "Epoch 23/30\n",
      "\u001b[1m48/48\u001b[0m \u001b[32m━━━━━━━━━━━━━━━━━━━━\u001b[0m\u001b[37m\u001b[0m \u001b[1m13s\u001b[0m 260ms/step - accuracy: 0.6954 - loss: 0.6989 - val_accuracy: 0.7605 - val_loss: 0.5465\n",
      "Epoch 24/30\n",
      "\u001b[1m48/48\u001b[0m \u001b[32m━━━━━━━━━━━━━━━━━━━━\u001b[0m\u001b[37m\u001b[0m \u001b[1m13s\u001b[0m 263ms/step - accuracy: 0.7217 - loss: 0.6473 - val_accuracy: 0.7632 - val_loss: 0.5781\n",
      "Epoch 25/30\n",
      "\u001b[1m48/48\u001b[0m \u001b[32m━━━━━━━━━━━━━━━━━━━━\u001b[0m\u001b[37m\u001b[0m \u001b[1m13s\u001b[0m 265ms/step - accuracy: 0.7118 - loss: 0.6485 - val_accuracy: 0.7737 - val_loss: 0.5084\n",
      "Epoch 26/30\n",
      "\u001b[1m48/48\u001b[0m \u001b[32m━━━━━━━━━━━━━━━━━━━━\u001b[0m\u001b[37m\u001b[0m \u001b[1m13s\u001b[0m 267ms/step - accuracy: 0.7276 - loss: 0.6486 - val_accuracy: 0.7711 - val_loss: 0.5548\n",
      "Epoch 27/30\n",
      "\u001b[1m48/48\u001b[0m \u001b[32m━━━━━━━━━━━━━━━━━━━━\u001b[0m\u001b[37m\u001b[0m \u001b[1m13s\u001b[0m 259ms/step - accuracy: 0.7329 - loss: 0.6660 - val_accuracy: 0.7789 - val_loss: 0.4956\n",
      "Epoch 28/30\n",
      "\u001b[1m48/48\u001b[0m \u001b[32m━━━━━━━━━━━━━━━━━━━━\u001b[0m\u001b[37m\u001b[0m \u001b[1m13s\u001b[0m 260ms/step - accuracy: 0.7349 - loss: 0.6101 - val_accuracy: 0.7947 - val_loss: 0.4666\n",
      "Epoch 29/30\n",
      "\u001b[1m48/48\u001b[0m \u001b[32m━━━━━━━━━━━━━━━━━━━━\u001b[0m\u001b[37m\u001b[0m \u001b[1m13s\u001b[0m 262ms/step - accuracy: 0.7388 - loss: 0.6224 - val_accuracy: 0.7842 - val_loss: 0.4739\n",
      "Epoch 30/30\n",
      "\u001b[1m48/48\u001b[0m \u001b[32m━━━━━━━━━━━━━━━━━━━━\u001b[0m\u001b[37m\u001b[0m \u001b[1m13s\u001b[0m 260ms/step - accuracy: 0.7520 - loss: 0.5940 - val_accuracy: 0.8079 - val_loss: 0.4229\n"
     ]
    },
    {
     "name": "stderr",
     "output_type": "stream",
     "text": [
      "WARNING:absl:You are saving your model as an HDF5 file via `model.save()` or `keras.saving.save_model(model)`. This file format is considered legacy. We recommend using instead the native Keras format, e.g. `model.save('my_model.keras')` or `keras.saving.save_model(model, 'my_model.keras')`. \n"
     ]
    },
    {
     "name": "stdout",
     "output_type": "stream",
     "text": [
      "Nuevo modelo guardado en: D:\\Descargas 2.0\\SEMESTREVII\\InteraccionHumanoComputador\\PrimeraTarea\\AnalisiOfSolidAndPlane\\data\\models\\modelo_formas.h5\n",
      "Clases detectadas: {'circle': 0, 'cone': 1, 'cube': 2, 'cuboid': 3, 'cylinder': 4, 'ellipse': 5, 'heptagon': 6, 'hexagon': 7, 'nonagon': 8, 'octagon': 9, 'parallelogram': 10, 'pentagon': 11, 'prism': 12, 'pyramid': 13, 'rectangle': 14, 'rhombus': 15, 'sphere': 16, 'square': 17, 'tetrahedron': 18, 'triangle': 19}\n"
     ]
    },
    {
     "name": "stdout",
     "output_type": "stream",
     "text": [
      "Ingresa el número de la forma correcta:  18\n"
     ]
    },
    {
     "name": "stdout",
     "output_type": "stream",
     "text": [
      "Imagen guardada en: D:\\Descargas 2.0\\SEMESTREVII\\InteraccionHumanoComputador\\PrimeraTarea\\AnalisiOfSolidAndPlane\\data\\raw\\square\\square_2583.jpg\n",
      "Cámara activada. Dibuja un rectángulo alrededor del objeto con el mouse y presiona 'c' para capturar. Presiona 'q' para salir.\n",
      "Forma predicha: prism (Confianza: 52.16%)\n"
     ]
    },
    {
     "name": "stdout",
     "output_type": "stream",
     "text": [
      "¿Es correcto? (s/n, o 'q' para salir y reentrenar):  n\n"
     ]
    },
    {
     "name": "stdout",
     "output_type": "stream",
     "text": [
      "Selecciona la forma correcta (0-23): {'circle': 0, 'cone': 1, 'cube': 2, 'cuboid': 3, 'cylinder': 4, 'dodecahedron': 5, 'ellipse': 6, 'heptagon': 7, 'hexagon': 8, 'nonagon': 9, 'octagon': 10, 'parallelogram': 11, 'pentagon': 12, 'prism': 13, 'pyramid': 14, 'rectangle': 15, 'rhombus': 16, 'sphere': 17, 'square': 18, 'tetrahedron': 19, 'trapezoid': 20, 'triangle': 21}\n"
     ]
    },
    {
     "name": "stdout",
     "output_type": "stream",
     "text": [
      "Ingresa el número de la forma correcta:  3\n"
     ]
    },
    {
     "name": "stdout",
     "output_type": "stream",
     "text": [
      "Imagen guardada en: D:\\Descargas 2.0\\SEMESTREVII\\InteraccionHumanoComputador\\PrimeraTarea\\AnalisiOfSolidAndPlane\\data\\raw\\cuboid\\cuboid_83.jpg\n",
      "Cámara activada. Dibuja un rectángulo alrededor del objeto con el mouse y presiona 'c' para capturar. Presiona 'q' para salir.\n",
      "Forma predicha: prism (Confianza: 99.03%)\n"
     ]
    },
    {
     "name": "stdout",
     "output_type": "stream",
     "text": [
      "¿Es correcto? (s/n, o 'q' para salir y reentrenar):  n\n"
     ]
    },
    {
     "name": "stdout",
     "output_type": "stream",
     "text": [
      "Selecciona la forma correcta (0-23): {'circle': 0, 'cone': 1, 'cube': 2, 'cuboid': 3, 'cylinder': 4, 'dodecahedron': 5, 'ellipse': 6, 'heptagon': 7, 'hexagon': 8, 'nonagon': 9, 'octagon': 10, 'parallelogram': 11, 'pentagon': 12, 'prism': 13, 'pyramid': 14, 'rectangle': 15, 'rhombus': 16, 'sphere': 17, 'square': 18, 'tetrahedron': 19, 'trapezoid': 20, 'triangle': 21}\n"
     ]
    },
    {
     "name": "stdout",
     "output_type": "stream",
     "text": [
      "Ingresa el número de la forma correcta:  3\n"
     ]
    },
    {
     "name": "stdout",
     "output_type": "stream",
     "text": [
      "Imagen guardada en: D:\\Descargas 2.0\\SEMESTREVII\\InteraccionHumanoComputador\\PrimeraTarea\\AnalisiOfSolidAndPlane\\data\\raw\\cuboid\\cuboid_84.jpg\n",
      "Cámara activada. Dibuja un rectángulo alrededor del objeto con el mouse y presiona 'c' para capturar. Presiona 'q' para salir.\n",
      "Forma predicha: prism (Confianza: 80.89%)\n"
     ]
    },
    {
     "name": "stdout",
     "output_type": "stream",
     "text": [
      "¿Es correcto? (s/n, o 'q' para salir y reentrenar):  n\n"
     ]
    },
    {
     "name": "stdout",
     "output_type": "stream",
     "text": [
      "Selecciona la forma correcta (0-23): {'circle': 0, 'cone': 1, 'cube': 2, 'cuboid': 3, 'cylinder': 4, 'dodecahedron': 5, 'ellipse': 6, 'heptagon': 7, 'hexagon': 8, 'nonagon': 9, 'octagon': 10, 'parallelogram': 11, 'pentagon': 12, 'prism': 13, 'pyramid': 14, 'rectangle': 15, 'rhombus': 16, 'sphere': 17, 'square': 18, 'tetrahedron': 19, 'trapezoid': 20, 'triangle': 21}\n"
     ]
    },
    {
     "name": "stdout",
     "output_type": "stream",
     "text": [
      "Ingresa el número de la forma correcta:  2\n"
     ]
    },
    {
     "name": "stdout",
     "output_type": "stream",
     "text": [
      "Imagen guardada en: D:\\Descargas 2.0\\SEMESTREVII\\InteraccionHumanoComputador\\PrimeraTarea\\AnalisiOfSolidAndPlane\\data\\raw\\cube\\cube_162.jpg\n",
      "Cámara activada. Dibuja un rectángulo alrededor del objeto con el mouse y presiona 'c' para capturar. Presiona 'q' para salir.\n",
      "Forma predicha: prism (Confianza: 61.36%)\n"
     ]
    },
    {
     "name": "stdout",
     "output_type": "stream",
     "text": [
      "¿Es correcto? (s/n, o 'q' para salir y reentrenar):  2\n"
     ]
    },
    {
     "name": "stdout",
     "output_type": "stream",
     "text": [
      "Selecciona la forma correcta (0-23): {'circle': 0, 'cone': 1, 'cube': 2, 'cuboid': 3, 'cylinder': 4, 'dodecahedron': 5, 'ellipse': 6, 'heptagon': 7, 'hexagon': 8, 'nonagon': 9, 'octagon': 10, 'parallelogram': 11, 'pentagon': 12, 'prism': 13, 'pyramid': 14, 'rectangle': 15, 'rhombus': 16, 'sphere': 17, 'square': 18, 'tetrahedron': 19, 'trapezoid': 20, 'triangle': 21}\n"
     ]
    },
    {
     "name": "stdout",
     "output_type": "stream",
     "text": [
      "Ingresa el número de la forma correcta:  2\n"
     ]
    },
    {
     "name": "stdout",
     "output_type": "stream",
     "text": [
      "Imagen guardada en: D:\\Descargas 2.0\\SEMESTREVII\\InteraccionHumanoComputador\\PrimeraTarea\\AnalisiOfSolidAndPlane\\data\\raw\\cube\\cube_163.jpg\n",
      "Cámara activada. Dibuja un rectángulo alrededor del objeto con el mouse y presiona 'c' para capturar. Presiona 'q' para salir.\n",
      "Forma predicha: prism (Confianza: 34.30%)\n"
     ]
    },
    {
     "name": "stdout",
     "output_type": "stream",
     "text": [
      "¿Es correcto? (s/n, o 'q' para salir y reentrenar):  n\n"
     ]
    },
    {
     "name": "stdout",
     "output_type": "stream",
     "text": [
      "Selecciona la forma correcta (0-23): {'circle': 0, 'cone': 1, 'cube': 2, 'cuboid': 3, 'cylinder': 4, 'dodecahedron': 5, 'ellipse': 6, 'heptagon': 7, 'hexagon': 8, 'nonagon': 9, 'octagon': 10, 'parallelogram': 11, 'pentagon': 12, 'prism': 13, 'pyramid': 14, 'rectangle': 15, 'rhombus': 16, 'sphere': 17, 'square': 18, 'tetrahedron': 19, 'trapezoid': 20, 'triangle': 21}\n"
     ]
    },
    {
     "name": "stdout",
     "output_type": "stream",
     "text": [
      "Ingresa el número de la forma correcta:  2\n"
     ]
    },
    {
     "name": "stdout",
     "output_type": "stream",
     "text": [
      "Imagen guardada en: D:\\Descargas 2.0\\SEMESTREVII\\InteraccionHumanoComputador\\PrimeraTarea\\AnalisiOfSolidAndPlane\\data\\raw\\cube\\cube_164.jpg\n",
      "Cámara activada. Dibuja un rectángulo alrededor del objeto con el mouse y presiona 'c' para capturar. Presiona 'q' para salir.\n",
      "Forma predicha: square (Confianza: 50.03%)\n"
     ]
    },
    {
     "name": "stdout",
     "output_type": "stream",
     "text": [
      "¿Es correcto? (s/n, o 'q' para salir y reentrenar):  n\n"
     ]
    },
    {
     "name": "stdout",
     "output_type": "stream",
     "text": [
      "Selecciona la forma correcta (0-23): {'circle': 0, 'cone': 1, 'cube': 2, 'cuboid': 3, 'cylinder': 4, 'dodecahedron': 5, 'ellipse': 6, 'heptagon': 7, 'hexagon': 8, 'nonagon': 9, 'octagon': 10, 'parallelogram': 11, 'pentagon': 12, 'prism': 13, 'pyramid': 14, 'rectangle': 15, 'rhombus': 16, 'sphere': 17, 'square': 18, 'tetrahedron': 19, 'trapezoid': 20, 'triangle': 21}\n"
     ]
    },
    {
     "name": "stdout",
     "output_type": "stream",
     "text": [
      "Ingresa el número de la forma correcta:  2\n"
     ]
    },
    {
     "name": "stdout",
     "output_type": "stream",
     "text": [
      "Imagen guardada en: D:\\Descargas 2.0\\SEMESTREVII\\InteraccionHumanoComputador\\PrimeraTarea\\AnalisiOfSolidAndPlane\\data\\raw\\cube\\cube_165.jpg\n",
      "Cámara activada. Dibuja un rectángulo alrededor del objeto con el mouse y presiona 'c' para capturar. Presiona 'q' para salir.\n",
      "Forma predicha: parallelogram (Confianza: 59.37%)\n"
     ]
    },
    {
     "name": "stdout",
     "output_type": "stream",
     "text": [
      "¿Es correcto? (s/n, o 'q' para salir y reentrenar):  n\n"
     ]
    },
    {
     "name": "stdout",
     "output_type": "stream",
     "text": [
      "Selecciona la forma correcta (0-23): {'circle': 0, 'cone': 1, 'cube': 2, 'cuboid': 3, 'cylinder': 4, 'dodecahedron': 5, 'ellipse': 6, 'heptagon': 7, 'hexagon': 8, 'nonagon': 9, 'octagon': 10, 'parallelogram': 11, 'pentagon': 12, 'prism': 13, 'pyramid': 14, 'rectangle': 15, 'rhombus': 16, 'sphere': 17, 'square': 18, 'tetrahedron': 19, 'trapezoid': 20, 'triangle': 21}\n"
     ]
    },
    {
     "name": "stdout",
     "output_type": "stream",
     "text": [
      "Ingresa el número de la forma correcta:  2\n"
     ]
    },
    {
     "name": "stdout",
     "output_type": "stream",
     "text": [
      "Imagen guardada en: D:\\Descargas 2.0\\SEMESTREVII\\InteraccionHumanoComputador\\PrimeraTarea\\AnalisiOfSolidAndPlane\\data\\raw\\cube\\cube_166.jpg\n",
      "Cámara activada. Dibuja un rectángulo alrededor del objeto con el mouse y presiona 'c' para capturar. Presiona 'q' para salir.\n",
      "Forma predicha: prism (Confianza: 90.87%)\n"
     ]
    },
    {
     "name": "stdout",
     "output_type": "stream",
     "text": [
      "¿Es correcto? (s/n, o 'q' para salir y reentrenar):  n\n"
     ]
    },
    {
     "name": "stdout",
     "output_type": "stream",
     "text": [
      "Selecciona la forma correcta (0-23): {'circle': 0, 'cone': 1, 'cube': 2, 'cuboid': 3, 'cylinder': 4, 'dodecahedron': 5, 'ellipse': 6, 'heptagon': 7, 'hexagon': 8, 'nonagon': 9, 'octagon': 10, 'parallelogram': 11, 'pentagon': 12, 'prism': 13, 'pyramid': 14, 'rectangle': 15, 'rhombus': 16, 'sphere': 17, 'square': 18, 'tetrahedron': 19, 'trapezoid': 20, 'triangle': 21}\n"
     ]
    },
    {
     "name": "stdout",
     "output_type": "stream",
     "text": [
      "Ingresa el número de la forma correcta:  2\n"
     ]
    },
    {
     "name": "stdout",
     "output_type": "stream",
     "text": [
      "Imagen guardada en: D:\\Descargas 2.0\\SEMESTREVII\\InteraccionHumanoComputador\\PrimeraTarea\\AnalisiOfSolidAndPlane\\data\\raw\\cube\\cube_167.jpg\n",
      "Cámara activada. Dibuja un rectángulo alrededor del objeto con el mouse y presiona 'c' para capturar. Presiona 'q' para salir.\n",
      "Forma predicha: parallelogram (Confianza: 51.64%)\n"
     ]
    },
    {
     "name": "stdout",
     "output_type": "stream",
     "text": [
      "¿Es correcto? (s/n, o 'q' para salir y reentrenar):  n\n"
     ]
    },
    {
     "name": "stdout",
     "output_type": "stream",
     "text": [
      "Selecciona la forma correcta (0-23): {'circle': 0, 'cone': 1, 'cube': 2, 'cuboid': 3, 'cylinder': 4, 'dodecahedron': 5, 'ellipse': 6, 'heptagon': 7, 'hexagon': 8, 'nonagon': 9, 'octagon': 10, 'parallelogram': 11, 'pentagon': 12, 'prism': 13, 'pyramid': 14, 'rectangle': 15, 'rhombus': 16, 'sphere': 17, 'square': 18, 'tetrahedron': 19, 'trapezoid': 20, 'triangle': 21}\n"
     ]
    },
    {
     "name": "stdout",
     "output_type": "stream",
     "text": [
      "Ingresa el número de la forma correcta:  2\n"
     ]
    },
    {
     "name": "stdout",
     "output_type": "stream",
     "text": [
      "Imagen guardada en: D:\\Descargas 2.0\\SEMESTREVII\\InteraccionHumanoComputador\\PrimeraTarea\\AnalisiOfSolidAndPlane\\data\\raw\\cube\\cube_168.jpg\n",
      "Cámara activada. Dibuja un rectángulo alrededor del objeto con el mouse y presiona 'c' para capturar. Presiona 'q' para salir.\n",
      "Forma predicha: prism (Confianza: 93.42%)\n"
     ]
    },
    {
     "name": "stdout",
     "output_type": "stream",
     "text": [
      "¿Es correcto? (s/n, o 'q' para salir y reentrenar):  n\n"
     ]
    },
    {
     "name": "stdout",
     "output_type": "stream",
     "text": [
      "Selecciona la forma correcta (0-23): {'circle': 0, 'cone': 1, 'cube': 2, 'cuboid': 3, 'cylinder': 4, 'dodecahedron': 5, 'ellipse': 6, 'heptagon': 7, 'hexagon': 8, 'nonagon': 9, 'octagon': 10, 'parallelogram': 11, 'pentagon': 12, 'prism': 13, 'pyramid': 14, 'rectangle': 15, 'rhombus': 16, 'sphere': 17, 'square': 18, 'tetrahedron': 19, 'trapezoid': 20, 'triangle': 21}\n"
     ]
    },
    {
     "name": "stdout",
     "output_type": "stream",
     "text": [
      "Ingresa el número de la forma correcta:  2\n"
     ]
    },
    {
     "name": "stdout",
     "output_type": "stream",
     "text": [
      "Imagen guardada en: D:\\Descargas 2.0\\SEMESTREVII\\InteraccionHumanoComputador\\PrimeraTarea\\AnalisiOfSolidAndPlane\\data\\raw\\cube\\cube_169.jpg\n",
      "Cámara activada. Dibuja un rectángulo alrededor del objeto con el mouse y presiona 'c' para capturar. Presiona 'q' para salir.\n",
      "Forma predicha: prism (Confianza: 95.01%)\n"
     ]
    },
    {
     "name": "stdout",
     "output_type": "stream",
     "text": [
      "¿Es correcto? (s/n, o 'q' para salir y reentrenar):  n\n"
     ]
    },
    {
     "name": "stdout",
     "output_type": "stream",
     "text": [
      "Selecciona la forma correcta (0-23): {'circle': 0, 'cone': 1, 'cube': 2, 'cuboid': 3, 'cylinder': 4, 'dodecahedron': 5, 'ellipse': 6, 'heptagon': 7, 'hexagon': 8, 'nonagon': 9, 'octagon': 10, 'parallelogram': 11, 'pentagon': 12, 'prism': 13, 'pyramid': 14, 'rectangle': 15, 'rhombus': 16, 'sphere': 17, 'square': 18, 'tetrahedron': 19, 'trapezoid': 20, 'triangle': 21}\n"
     ]
    },
    {
     "name": "stdout",
     "output_type": "stream",
     "text": [
      "Ingresa el número de la forma correcta:  2\n"
     ]
    },
    {
     "name": "stdout",
     "output_type": "stream",
     "text": [
      "Imagen guardada en: D:\\Descargas 2.0\\SEMESTREVII\\InteraccionHumanoComputador\\PrimeraTarea\\AnalisiOfSolidAndPlane\\data\\raw\\cube\\cube_170.jpg\n",
      "Cámara activada. Dibuja un rectángulo alrededor del objeto con el mouse y presiona 'c' para capturar. Presiona 'q' para salir.\n",
      "Forma predicha: prism (Confianza: 47.15%)\n"
     ]
    },
    {
     "name": "stdout",
     "output_type": "stream",
     "text": [
      "¿Es correcto? (s/n, o 'q' para salir y reentrenar):  n\n"
     ]
    },
    {
     "name": "stdout",
     "output_type": "stream",
     "text": [
      "Selecciona la forma correcta (0-23): {'circle': 0, 'cone': 1, 'cube': 2, 'cuboid': 3, 'cylinder': 4, 'dodecahedron': 5, 'ellipse': 6, 'heptagon': 7, 'hexagon': 8, 'nonagon': 9, 'octagon': 10, 'parallelogram': 11, 'pentagon': 12, 'prism': 13, 'pyramid': 14, 'rectangle': 15, 'rhombus': 16, 'sphere': 17, 'square': 18, 'tetrahedron': 19, 'trapezoid': 20, 'triangle': 21}\n"
     ]
    },
    {
     "name": "stdout",
     "output_type": "stream",
     "text": [
      "Ingresa el número de la forma correcta:  2\n"
     ]
    },
    {
     "name": "stdout",
     "output_type": "stream",
     "text": [
      "Imagen guardada en: D:\\Descargas 2.0\\SEMESTREVII\\InteraccionHumanoComputador\\PrimeraTarea\\AnalisiOfSolidAndPlane\\data\\raw\\cube\\cube_171.jpg\n",
      "Cámara activada. Dibuja un rectángulo alrededor del objeto con el mouse y presiona 'c' para capturar. Presiona 'q' para salir.\n",
      "Forma predicha: prism (Confianza: 74.08%)\n"
     ]
    },
    {
     "name": "stdout",
     "output_type": "stream",
     "text": [
      "¿Es correcto? (s/n, o 'q' para salir y reentrenar):  n\n"
     ]
    },
    {
     "name": "stdout",
     "output_type": "stream",
     "text": [
      "Selecciona la forma correcta (0-23): {'circle': 0, 'cone': 1, 'cube': 2, 'cuboid': 3, 'cylinder': 4, 'dodecahedron': 5, 'ellipse': 6, 'heptagon': 7, 'hexagon': 8, 'nonagon': 9, 'octagon': 10, 'parallelogram': 11, 'pentagon': 12, 'prism': 13, 'pyramid': 14, 'rectangle': 15, 'rhombus': 16, 'sphere': 17, 'square': 18, 'tetrahedron': 19, 'trapezoid': 20, 'triangle': 21}\n"
     ]
    },
    {
     "name": "stdout",
     "output_type": "stream",
     "text": [
      "Ingresa el número de la forma correcta:  2\n"
     ]
    },
    {
     "name": "stdout",
     "output_type": "stream",
     "text": [
      "Imagen guardada en: D:\\Descargas 2.0\\SEMESTREVII\\InteraccionHumanoComputador\\PrimeraTarea\\AnalisiOfSolidAndPlane\\data\\raw\\cube\\cube_172.jpg\n",
      "Cámara activada. Dibuja un rectángulo alrededor del objeto con el mouse y presiona 'c' para capturar. Presiona 'q' para salir.\n",
      "Reentrenando modelo con nuevas imágenes...\n",
      "Epoch 1/5\n"
     ]
    },
    {
     "name": "stderr",
     "output_type": "stream",
     "text": [
      "D:\\Descargas 2.0\\SEMESTREVII\\InteraccionHumanoComputador\\PrimeraTarea\\AnalisiOfSolidAndPlane\\venv\\lib\\site-packages\\keras\\src\\trainers\\data_adapters\\py_dataset_adapter.py:121: UserWarning: Your `PyDataset` class should call `super().__init__(**kwargs)` in its constructor. `**kwargs` can include `workers`, `use_multiprocessing`, `max_queue_size`. Do not pass these arguments to `fit()`, as they will be ignored.\n",
      "  self._warn_if_super_not_called()\n"
     ]
    },
    {
     "ename": "ValueError",
     "evalue": "Arguments `target` and `output` must have the same shape. Received: target.shape=(None, 22), output.shape=(None, 24)",
     "output_type": "error",
     "traceback": [
      "\u001b[1;31m---------------------------------------------------------------------------\u001b[0m",
      "\u001b[1;31mValueError\u001b[0m                                Traceback (most recent call last)",
      "Cell \u001b[1;32mIn[1], line 142\u001b[0m\n\u001b[0;32m    140\u001b[0m \u001b[38;5;66;03m# Reentrena el modelo\u001b[39;00m\n\u001b[0;32m    141\u001b[0m \u001b[38;5;28mprint\u001b[39m(\u001b[38;5;124m\"\u001b[39m\u001b[38;5;124mReentrenando modelo con nuevas imágenes...\u001b[39m\u001b[38;5;124m\"\u001b[39m)\n\u001b[1;32m--> 142\u001b[0m \u001b[43mmodel\u001b[49m\u001b[38;5;241;43m.\u001b[39;49m\u001b[43mfit\u001b[49m\u001b[43m(\u001b[49m\u001b[43mtrain_generator\u001b[49m\u001b[43m,\u001b[49m\u001b[43m \u001b[49m\u001b[43mepochs\u001b[49m\u001b[38;5;241;43m=\u001b[39;49m\u001b[38;5;241;43m5\u001b[39;49m\u001b[43m,\u001b[49m\u001b[43m \u001b[49m\u001b[43mvalidation_data\u001b[49m\u001b[38;5;241;43m=\u001b[39;49m\u001b[43mvalidation_generator\u001b[49m\u001b[43m)\u001b[49m\n\u001b[0;32m    144\u001b[0m \u001b[38;5;66;03m# Guarda el modelo actualizado\u001b[39;00m\n\u001b[0;32m    145\u001b[0m model\u001b[38;5;241m.\u001b[39msave(model_path)\n",
      "File \u001b[1;32mD:\\Descargas 2.0\\SEMESTREVII\\InteraccionHumanoComputador\\PrimeraTarea\\AnalisiOfSolidAndPlane\\venv\\lib\\site-packages\\keras\\src\\utils\\traceback_utils.py:122\u001b[0m, in \u001b[0;36mfilter_traceback.<locals>.error_handler\u001b[1;34m(*args, **kwargs)\u001b[0m\n\u001b[0;32m    119\u001b[0m     filtered_tb \u001b[38;5;241m=\u001b[39m _process_traceback_frames(e\u001b[38;5;241m.\u001b[39m__traceback__)\n\u001b[0;32m    120\u001b[0m     \u001b[38;5;66;03m# To get the full stack trace, call:\u001b[39;00m\n\u001b[0;32m    121\u001b[0m     \u001b[38;5;66;03m# `keras.config.disable_traceback_filtering()`\u001b[39;00m\n\u001b[1;32m--> 122\u001b[0m     \u001b[38;5;28;01mraise\u001b[39;00m e\u001b[38;5;241m.\u001b[39mwith_traceback(filtered_tb) \u001b[38;5;28;01mfrom\u001b[39;00m\u001b[38;5;250m \u001b[39m\u001b[38;5;28;01mNone\u001b[39;00m\n\u001b[0;32m    123\u001b[0m \u001b[38;5;28;01mfinally\u001b[39;00m:\n\u001b[0;32m    124\u001b[0m     \u001b[38;5;28;01mdel\u001b[39;00m filtered_tb\n",
      "File \u001b[1;32mD:\\Descargas 2.0\\SEMESTREVII\\InteraccionHumanoComputador\\PrimeraTarea\\AnalisiOfSolidAndPlane\\venv\\lib\\site-packages\\keras\\src\\backend\\tensorflow\\nn.py:669\u001b[0m, in \u001b[0;36mcategorical_crossentropy\u001b[1;34m(target, output, from_logits, axis)\u001b[0m\n\u001b[0;32m    667\u001b[0m \u001b[38;5;28;01mfor\u001b[39;00m e1, e2 \u001b[38;5;129;01min\u001b[39;00m \u001b[38;5;28mzip\u001b[39m(target\u001b[38;5;241m.\u001b[39mshape, output\u001b[38;5;241m.\u001b[39mshape):\n\u001b[0;32m    668\u001b[0m     \u001b[38;5;28;01mif\u001b[39;00m e1 \u001b[38;5;129;01mis\u001b[39;00m \u001b[38;5;129;01mnot\u001b[39;00m \u001b[38;5;28;01mNone\u001b[39;00m \u001b[38;5;129;01mand\u001b[39;00m e2 \u001b[38;5;129;01mis\u001b[39;00m \u001b[38;5;129;01mnot\u001b[39;00m \u001b[38;5;28;01mNone\u001b[39;00m \u001b[38;5;129;01mand\u001b[39;00m e1 \u001b[38;5;241m!=\u001b[39m e2:\n\u001b[1;32m--> 669\u001b[0m         \u001b[38;5;28;01mraise\u001b[39;00m \u001b[38;5;167;01mValueError\u001b[39;00m(\n\u001b[0;32m    670\u001b[0m             \u001b[38;5;124m\"\u001b[39m\u001b[38;5;124mArguments `target` and `output` must have the same shape. \u001b[39m\u001b[38;5;124m\"\u001b[39m\n\u001b[0;32m    671\u001b[0m             \u001b[38;5;124m\"\u001b[39m\u001b[38;5;124mReceived: \u001b[39m\u001b[38;5;124m\"\u001b[39m\n\u001b[0;32m    672\u001b[0m             \u001b[38;5;124mf\u001b[39m\u001b[38;5;124m\"\u001b[39m\u001b[38;5;124mtarget.shape=\u001b[39m\u001b[38;5;132;01m{\u001b[39;00mtarget\u001b[38;5;241m.\u001b[39mshape\u001b[38;5;132;01m}\u001b[39;00m\u001b[38;5;124m, output.shape=\u001b[39m\u001b[38;5;132;01m{\u001b[39;00moutput\u001b[38;5;241m.\u001b[39mshape\u001b[38;5;132;01m}\u001b[39;00m\u001b[38;5;124m\"\u001b[39m\n\u001b[0;32m    673\u001b[0m         )\n\u001b[0;32m    675\u001b[0m output, from_logits \u001b[38;5;241m=\u001b[39m _get_logits(\n\u001b[0;32m    676\u001b[0m     output, from_logits, \u001b[38;5;124m\"\u001b[39m\u001b[38;5;124mSoftmax\u001b[39m\u001b[38;5;124m\"\u001b[39m, \u001b[38;5;124m\"\u001b[39m\u001b[38;5;124mcategorical_crossentropy\u001b[39m\u001b[38;5;124m\"\u001b[39m\n\u001b[0;32m    677\u001b[0m )\n\u001b[0;32m    678\u001b[0m \u001b[38;5;28;01mif\u001b[39;00m from_logits:\n",
      "\u001b[1;31mValueError\u001b[0m: Arguments `target` and `output` must have the same shape. Received: target.shape=(None, 22), output.shape=(None, 24)"
     ]
    },
    {
     "name": "stdout",
     "output_type": "stream",
     "text": [
      "Cámara activada. Dibuja un rectángulo alrededor del objeto con el mouse y presiona 'c' para capturar. Presiona 'q' para salir.\n",
      "Forma predicha: rhombus\n"
     ]
    },
    {
     "name": "stdout",
     "output_type": "stream",
     "text": [
      "¿Es correcto? (s/n, o 'q' para salir):  n\n"
     ]
    },
    {
     "name": "stdout",
     "output_type": "stream",
     "text": [
      "Selecciona la forma correcta (0-23): {'circle': 0, 'cone': 1, 'cube': 2, 'cuboid': 3, 'cylinder': 4, 'decagon': 5, 'dodecahedron': 6, 'ellipse': 7, 'heptagon': 8, 'hexagon': 9, 'nonagon': 10, 'octagon': 11, 'octahedron': 12, 'parallelogram': 13, 'pentagon': 14, 'prism': 15, 'pyramid': 16, 'rectangle': 17, 'rhombus': 18, 'sphere': 19, 'square': 20, 'tetrahedron': 21, 'trapezoid': 22, 'triangle': 23}\n"
     ]
    },
    {
     "name": "stdout",
     "output_type": "stream",
     "text": [
      "Ingresa el número de la forma correcta:  0\n"
     ]
    },
    {
     "name": "stdout",
     "output_type": "stream",
     "text": [
      "Cámara activada. Dibuja un rectángulo alrededor del objeto con el mouse y presiona 'c' para capturar. Presiona 'q' para salir.\n",
      "Forma predicha: rhombus\n"
     ]
    },
    {
     "name": "stdout",
     "output_type": "stream",
     "text": [
      "¿Es correcto? (s/n, o 'q' para salir):  s\n"
     ]
    },
    {
     "name": "stdout",
     "output_type": "stream",
     "text": [
      "Cámara activada. Dibuja un rectángulo alrededor del objeto con el mouse y presiona 'c' para capturar. Presiona 'q' para salir.\n",
      "Forma predicha: parallelogram\n"
     ]
    },
    {
     "name": "stdout",
     "output_type": "stream",
     "text": [
      "¿Es correcto? (s/n, o 'q' para salir):  s\n"
     ]
    },
    {
     "name": "stdout",
     "output_type": "stream",
     "text": [
      "Cámara activada. Dibuja un rectángulo alrededor del objeto con el mouse y presiona 'c' para capturar. Presiona 'q' para salir.\n",
      "Forma predicha: parallelogram\n"
     ]
    },
    {
     "name": "stdout",
     "output_type": "stream",
     "text": [
      "¿Es correcto? (s/n, o 'q' para salir):  n\n"
     ]
    },
    {
     "name": "stdout",
     "output_type": "stream",
     "text": [
      "Selecciona la forma correcta (0-23): {'circle': 0, 'cone': 1, 'cube': 2, 'cuboid': 3, 'cylinder': 4, 'decagon': 5, 'dodecahedron': 6, 'ellipse': 7, 'heptagon': 8, 'hexagon': 9, 'nonagon': 10, 'octagon': 11, 'octahedron': 12, 'parallelogram': 13, 'pentagon': 14, 'prism': 15, 'pyramid': 16, 'rectangle': 17, 'rhombus': 18, 'sphere': 19, 'square': 20, 'tetrahedron': 21, 'trapezoid': 22, 'triangle': 23}\n"
     ]
    },
    {
     "name": "stdout",
     "output_type": "stream",
     "text": [
      "Ingresa el número de la forma correcta:  23\n"
     ]
    },
    {
     "name": "stdout",
     "output_type": "stream",
     "text": [
      "Cámara activada. Dibuja un rectángulo alrededor del objeto con el mouse y presiona 'c' para capturar. Presiona 'q' para salir.\n",
      "Forma predicha: parallelogram\n"
     ]
    },
    {
     "name": "stdout",
     "output_type": "stream",
     "text": [
      "¿Es correcto? (s/n, o 'q' para salir):  n\n"
     ]
    },
    {
     "name": "stdout",
     "output_type": "stream",
     "text": [
      "Selecciona la forma correcta (0-23): {'circle': 0, 'cone': 1, 'cube': 2, 'cuboid': 3, 'cylinder': 4, 'decagon': 5, 'dodecahedron': 6, 'ellipse': 7, 'heptagon': 8, 'hexagon': 9, 'nonagon': 10, 'octagon': 11, 'octahedron': 12, 'parallelogram': 13, 'pentagon': 14, 'prism': 15, 'pyramid': 16, 'rectangle': 17, 'rhombus': 18, 'sphere': 19, 'square': 20, 'tetrahedron': 21, 'trapezoid': 22, 'triangle': 23}\n"
     ]
    },
    {
     "name": "stdout",
     "output_type": "stream",
     "text": [
      "Ingresa el número de la forma correcta:  17\n"
     ]
    },
    {
     "name": "stdout",
     "output_type": "stream",
     "text": [
      "Cámara activada. Dibuja un rectángulo alrededor del objeto con el mouse y presiona 'c' para capturar. Presiona 'q' para salir.\n",
      "Forma predicha: rectangle\n"
     ]
    },
    {
     "name": "stdout",
     "output_type": "stream",
     "text": [
      "¿Es correcto? (s/n, o 'q' para salir):  s\n"
     ]
    },
    {
     "name": "stdout",
     "output_type": "stream",
     "text": [
      "Cámara activada. Dibuja un rectángulo alrededor del objeto con el mouse y presiona 'c' para capturar. Presiona 'q' para salir.\n"
     ]
    },
    {
     "ename": "NameError",
     "evalue": "name 'ImageDataGenerator' is not defined",
     "output_type": "error",
     "traceback": [
      "\u001b[1;31m---------------------------------------------------------------------------\u001b[0m",
      "\u001b[1;31mNameError\u001b[0m                                 Traceback (most recent call last)",
      "Cell \u001b[1;32mIn[1], line 125\u001b[0m\n\u001b[0;32m    122\u001b[0m X_train, X_val, y_train, y_val \u001b[38;5;241m=\u001b[39m train_test_split(new_images, new_labels, test_size\u001b[38;5;241m=\u001b[39m\u001b[38;5;241m0.2\u001b[39m, random_state\u001b[38;5;241m=\u001b[39m\u001b[38;5;241m42\u001b[39m)\n\u001b[0;32m    124\u001b[0m \u001b[38;5;66;03m# Augmentación\u001b[39;00m\n\u001b[1;32m--> 125\u001b[0m datagen \u001b[38;5;241m=\u001b[39m \u001b[43mImageDataGenerator\u001b[49m(rotation_range\u001b[38;5;241m=\u001b[39m\u001b[38;5;241m20\u001b[39m, width_shift_range\u001b[38;5;241m=\u001b[39m\u001b[38;5;241m0.2\u001b[39m, height_shift_range\u001b[38;5;241m=\u001b[39m\u001b[38;5;241m0.2\u001b[39m, horizontal_flip\u001b[38;5;241m=\u001b[39m\u001b[38;5;28;01mTrue\u001b[39;00m)\n\u001b[0;32m    126\u001b[0m train_generator \u001b[38;5;241m=\u001b[39m datagen\u001b[38;5;241m.\u001b[39mflow(X_train, y_train, batch_size\u001b[38;5;241m=\u001b[39m\u001b[38;5;241m16\u001b[39m)\n\u001b[0;32m    127\u001b[0m validation_generator \u001b[38;5;241m=\u001b[39m datagen\u001b[38;5;241m.\u001b[39mflow(X_val, y_val, batch_size\u001b[38;5;241m=\u001b[39m\u001b[38;5;241m16\u001b[39m)\n",
      "\u001b[1;31mNameError\u001b[0m: name 'ImageDataGenerator' is not defined"
     ]
    },
    {
     "name": "stdout",
     "output_type": "stream",
     "text": [
      "¿Es correcto? (s/n, o 'q' para salir):  s\n"
     ]
    },
    {
     "name": "stdout",
     "output_type": "stream",
     "text": [
      "Cámara activada. Dibuja un rectángulo alrededor del objeto con el mouse y presiona 'c' para capturar.\n",
      "Forma predicha: rectangle\n"
     ]
    },
    {
     "name": "stdout",
     "output_type": "stream",
     "text": [
      "¿Es correcto? (s/n, o 'q' para salir):  s\n"
     ]
    },
    {
     "name": "stdout",
     "output_type": "stream",
     "text": [
      "Cámara activada. Dibuja un rectángulo alrededor del objeto con el mouse y presiona 'c' para capturar.\n",
      "Forma predicha: rhombus\n"
     ]
    },
    {
     "name": "stdout",
     "output_type": "stream",
     "text": [
      "¿Es correcto? (s/n, o 'q' para salir):  n\n"
     ]
    },
    {
     "name": "stdout",
     "output_type": "stream",
     "text": [
      "Selecciona la forma correcta (0-23): {'circle': 0, 'cone': 1, 'cube': 2, 'cuboid': 3, 'cylinder': 4, 'decagon': 5, 'dodecahedron': 6, 'ellipse': 7, 'heptagon': 8, 'hexagon': 9, 'nonagon': 10, 'octagon': 11, 'octahedron': 12, 'parallelogram': 13, 'pentagon': 14, 'prism': 15, 'pyramid': 16, 'rectangle': 17, 'rhombus': 18, 'sphere': 19, 'square': 20, 'tetrahedron': 21, 'trapezoid': 22, 'triangle': 23}\n"
     ]
    },
    {
     "name": "stdout",
     "output_type": "stream",
     "text": [
      "Ingresa el número de la forma correcta:  0\n"
     ]
    },
    {
     "name": "stdout",
     "output_type": "stream",
     "text": [
      "Cámara activada. Dibuja un rectángulo alrededor del objeto con el mouse y presiona 'c' para capturar.\n",
      "Forma predicha: parallelogram\n"
     ]
    },
    {
     "name": "stdout",
     "output_type": "stream",
     "text": [
      "¿Es correcto? (s/n, o 'q' para salir):  n\n"
     ]
    },
    {
     "name": "stdout",
     "output_type": "stream",
     "text": [
      "Selecciona la forma correcta (0-23): {'circle': 0, 'cone': 1, 'cube': 2, 'cuboid': 3, 'cylinder': 4, 'decagon': 5, 'dodecahedron': 6, 'ellipse': 7, 'heptagon': 8, 'hexagon': 9, 'nonagon': 10, 'octagon': 11, 'octahedron': 12, 'parallelogram': 13, 'pentagon': 14, 'prism': 15, 'pyramid': 16, 'rectangle': 17, 'rhombus': 18, 'sphere': 19, 'square': 20, 'tetrahedron': 21, 'trapezoid': 22, 'triangle': 23}\n"
     ]
    },
    {
     "name": "stdout",
     "output_type": "stream",
     "text": [
      "Ingresa el número de la forma correcta:  4\n"
     ]
    },
    {
     "name": "stdout",
     "output_type": "stream",
     "text": [
      "Cámara activada. Dibuja un rectángulo alrededor del objeto con el mouse y presiona 'c' para capturar.\n",
      "Forma predicha: parallelogram\n"
     ]
    },
    {
     "name": "stdout",
     "output_type": "stream",
     "text": [
      "¿Es correcto? (s/n, o 'q' para salir):  n\n"
     ]
    },
    {
     "name": "stdout",
     "output_type": "stream",
     "text": [
      "Selecciona la forma correcta (0-23): {'circle': 0, 'cone': 1, 'cube': 2, 'cuboid': 3, 'cylinder': 4, 'decagon': 5, 'dodecahedron': 6, 'ellipse': 7, 'heptagon': 8, 'hexagon': 9, 'nonagon': 10, 'octagon': 11, 'octahedron': 12, 'parallelogram': 13, 'pentagon': 14, 'prism': 15, 'pyramid': 16, 'rectangle': 17, 'rhombus': 18, 'sphere': 19, 'square': 20, 'tetrahedron': 21, 'trapezoid': 22, 'triangle': 23}\n"
     ]
    },
    {
     "name": "stdout",
     "output_type": "stream",
     "text": [
      "Ingresa el número de la forma correcta:  7\n"
     ]
    },
    {
     "name": "stdout",
     "output_type": "stream",
     "text": [
      "Cámara activada. Dibuja un rectángulo alrededor del objeto con el mouse y presiona 'c' para capturar.\n",
      "Forma predicha: rectangle\n"
     ]
    },
    {
     "name": "stdout",
     "output_type": "stream",
     "text": [
      "¿Es correcto? (s/n, o 'q' para salir):  n\n"
     ]
    },
    {
     "name": "stdout",
     "output_type": "stream",
     "text": [
      "Selecciona la forma correcta (0-23): {'circle': 0, 'cone': 1, 'cube': 2, 'cuboid': 3, 'cylinder': 4, 'decagon': 5, 'dodecahedron': 6, 'ellipse': 7, 'heptagon': 8, 'hexagon': 9, 'nonagon': 10, 'octagon': 11, 'octahedron': 12, 'parallelogram': 13, 'pentagon': 14, 'prism': 15, 'pyramid': 16, 'rectangle': 17, 'rhombus': 18, 'sphere': 19, 'square': 20, 'tetrahedron': 21, 'trapezoid': 22, 'triangle': 23}\n"
     ]
    },
    {
     "name": "stdout",
     "output_type": "stream",
     "text": [
      "Ingresa el número de la forma correcta:  2\n"
     ]
    },
    {
     "name": "stdout",
     "output_type": "stream",
     "text": [
      "Cámara activada. Dibuja un rectángulo alrededor del objeto con el mouse y presiona 'c' para capturar.\n",
      "Forma predicha: parallelogram\n"
     ]
    },
    {
     "name": "stdout",
     "output_type": "stream",
     "text": [
      "¿Es correcto? (s/n, o 'q' para salir):  n\n"
     ]
    },
    {
     "name": "stdout",
     "output_type": "stream",
     "text": [
      "Selecciona la forma correcta (0-23): {'circle': 0, 'cone': 1, 'cube': 2, 'cuboid': 3, 'cylinder': 4, 'decagon': 5, 'dodecahedron': 6, 'ellipse': 7, 'heptagon': 8, 'hexagon': 9, 'nonagon': 10, 'octagon': 11, 'octahedron': 12, 'parallelogram': 13, 'pentagon': 14, 'prism': 15, 'pyramid': 16, 'rectangle': 17, 'rhombus': 18, 'sphere': 19, 'square': 20, 'tetrahedron': 21, 'trapezoid': 22, 'triangle': 23}\n"
     ]
    },
    {
     "name": "stdout",
     "output_type": "stream",
     "text": [
      "Ingresa el número de la forma correcta:  2\n"
     ]
    },
    {
     "name": "stdout",
     "output_type": "stream",
     "text": [
      "Cámara activada. Dibuja un rectángulo alrededor del objeto con el mouse y presiona 'c' para capturar.\n",
      "Forma predicha: parallelogram\n"
     ]
    },
    {
     "name": "stdout",
     "output_type": "stream",
     "text": [
      "¿Es correcto? (s/n, o 'q' para salir):  n\n"
     ]
    },
    {
     "name": "stdout",
     "output_type": "stream",
     "text": [
      "Selecciona la forma correcta (0-23): {'circle': 0, 'cone': 1, 'cube': 2, 'cuboid': 3, 'cylinder': 4, 'decagon': 5, 'dodecahedron': 6, 'ellipse': 7, 'heptagon': 8, 'hexagon': 9, 'nonagon': 10, 'octagon': 11, 'octahedron': 12, 'parallelogram': 13, 'pentagon': 14, 'prism': 15, 'pyramid': 16, 'rectangle': 17, 'rhombus': 18, 'sphere': 19, 'square': 20, 'tetrahedron': 21, 'trapezoid': 22, 'triangle': 23}\n"
     ]
    },
    {
     "name": "stdout",
     "output_type": "stream",
     "text": [
      "Ingresa el número de la forma correcta:  4\n"
     ]
    },
    {
     "name": "stdout",
     "output_type": "stream",
     "text": [
      "Cámara activada. Dibuja un rectángulo alrededor del objeto con el mouse y presiona 'c' para capturar.\n",
      "Forma predicha: parallelogram\n"
     ]
    },
    {
     "name": "stdout",
     "output_type": "stream",
     "text": [
      "¿Es correcto? (s/n, o 'q' para salir):  n\n"
     ]
    },
    {
     "name": "stdout",
     "output_type": "stream",
     "text": [
      "Selecciona la forma correcta (0-23): {'circle': 0, 'cone': 1, 'cube': 2, 'cuboid': 3, 'cylinder': 4, 'decagon': 5, 'dodecahedron': 6, 'ellipse': 7, 'heptagon': 8, 'hexagon': 9, 'nonagon': 10, 'octagon': 11, 'octahedron': 12, 'parallelogram': 13, 'pentagon': 14, 'prism': 15, 'pyramid': 16, 'rectangle': 17, 'rhombus': 18, 'sphere': 19, 'square': 20, 'tetrahedron': 21, 'trapezoid': 22, 'triangle': 23}\n"
     ]
    },
    {
     "name": "stdout",
     "output_type": "stream",
     "text": [
      "Ingresa el número de la forma correcta:  4\n"
     ]
    },
    {
     "name": "stdout",
     "output_type": "stream",
     "text": [
      "Cámara activada. Dibuja un rectángulo alrededor del objeto con el mouse y presiona 'c' para capturar.\n",
      "Forma predicha: rectangle\n"
     ]
    },
    {
     "name": "stdout",
     "output_type": "stream",
     "text": [
      "¿Es correcto? (s/n, o 'q' para salir):  s\n"
     ]
    },
    {
     "name": "stdout",
     "output_type": "stream",
     "text": [
      "Cámara activada. Dibuja un rectángulo alrededor del objeto con el mouse y presiona 'c' para capturar.\n",
      "Forma predicha: parallelogram\n"
     ]
    },
    {
     "name": "stdout",
     "output_type": "stream",
     "text": [
      "¿Es correcto? (s/n, o 'q' para salir):  n\n"
     ]
    },
    {
     "name": "stdout",
     "output_type": "stream",
     "text": [
      "Selecciona la forma correcta (0-23): {'circle': 0, 'cone': 1, 'cube': 2, 'cuboid': 3, 'cylinder': 4, 'decagon': 5, 'dodecahedron': 6, 'ellipse': 7, 'heptagon': 8, 'hexagon': 9, 'nonagon': 10, 'octagon': 11, 'octahedron': 12, 'parallelogram': 13, 'pentagon': 14, 'prism': 15, 'pyramid': 16, 'rectangle': 17, 'rhombus': 18, 'sphere': 19, 'square': 20, 'tetrahedron': 21, 'trapezoid': 22, 'triangle': 23}\n"
     ]
    },
    {
     "name": "stdout",
     "output_type": "stream",
     "text": [
      "Ingresa el número de la forma correcta:  4\n"
     ]
    },
    {
     "name": "stdout",
     "output_type": "stream",
     "text": [
      "Cámara activada. Dibuja un rectángulo alrededor del objeto con el mouse y presiona 'c' para capturar.\n",
      "Forma predicha: square\n"
     ]
    },
    {
     "name": "stdout",
     "output_type": "stream",
     "text": [
      "¿Es correcto? (s/n, o 'q' para salir):  s\n"
     ]
    },
    {
     "name": "stdout",
     "output_type": "stream",
     "text": [
      "Cámara activada. Dibuja un rectángulo alrededor del objeto con el mouse y presiona 'c' para capturar.\n",
      "Forma predicha: rectangle\n"
     ]
    },
    {
     "name": "stdout",
     "output_type": "stream",
     "text": [
      "¿Es correcto? (s/n, o 'q' para salir):  n\n"
     ]
    },
    {
     "name": "stdout",
     "output_type": "stream",
     "text": [
      "Selecciona la forma correcta (0-23): {'circle': 0, 'cone': 1, 'cube': 2, 'cuboid': 3, 'cylinder': 4, 'decagon': 5, 'dodecahedron': 6, 'ellipse': 7, 'heptagon': 8, 'hexagon': 9, 'nonagon': 10, 'octagon': 11, 'octahedron': 12, 'parallelogram': 13, 'pentagon': 14, 'prism': 15, 'pyramid': 16, 'rectangle': 17, 'rhombus': 18, 'sphere': 19, 'square': 20, 'tetrahedron': 21, 'trapezoid': 22, 'triangle': 23}\n"
     ]
    },
    {
     "name": "stdout",
     "output_type": "stream",
     "text": [
      "Ingresa el número de la forma correcta:  3\n"
     ]
    },
    {
     "name": "stdout",
     "output_type": "stream",
     "text": [
      "Cámara activada. Dibuja un rectángulo alrededor del objeto con el mouse y presiona 'c' para capturar.\n",
      "Forma predicha: parallelogram\n"
     ]
    },
    {
     "name": "stdout",
     "output_type": "stream",
     "text": [
      "¿Es correcto? (s/n, o 'q' para salir):  n\n"
     ]
    },
    {
     "name": "stdout",
     "output_type": "stream",
     "text": [
      "Selecciona la forma correcta (0-23): {'circle': 0, 'cone': 1, 'cube': 2, 'cuboid': 3, 'cylinder': 4, 'decagon': 5, 'dodecahedron': 6, 'ellipse': 7, 'heptagon': 8, 'hexagon': 9, 'nonagon': 10, 'octagon': 11, 'octahedron': 12, 'parallelogram': 13, 'pentagon': 14, 'prism': 15, 'pyramid': 16, 'rectangle': 17, 'rhombus': 18, 'sphere': 19, 'square': 20, 'tetrahedron': 21, 'trapezoid': 22, 'triangle': 23}\n"
     ]
    },
    {
     "name": "stdout",
     "output_type": "stream",
     "text": [
      "Ingresa el número de la forma correcta:  0\n"
     ]
    },
    {
     "name": "stdout",
     "output_type": "stream",
     "text": [
      "Cámara activada. Dibuja un rectángulo alrededor del objeto con el mouse y presiona 'c' para capturar.\n",
      "Forma predicha: parallelogram\n"
     ]
    },
    {
     "name": "stdout",
     "output_type": "stream",
     "text": [
      "¿Es correcto? (s/n, o 'q' para salir):  n\n"
     ]
    },
    {
     "name": "stdout",
     "output_type": "stream",
     "text": [
      "Selecciona la forma correcta (0-23): {'circle': 0, 'cone': 1, 'cube': 2, 'cuboid': 3, 'cylinder': 4, 'decagon': 5, 'dodecahedron': 6, 'ellipse': 7, 'heptagon': 8, 'hexagon': 9, 'nonagon': 10, 'octagon': 11, 'octahedron': 12, 'parallelogram': 13, 'pentagon': 14, 'prism': 15, 'pyramid': 16, 'rectangle': 17, 'rhombus': 18, 'sphere': 19, 'square': 20, 'tetrahedron': 21, 'trapezoid': 22, 'triangle': 23}\n"
     ]
    },
    {
     "name": "stdout",
     "output_type": "stream",
     "text": [
      "Ingresa el número de la forma correcta:  0\n"
     ]
    },
    {
     "name": "stdout",
     "output_type": "stream",
     "text": [
      "Cámara activada. Dibuja un rectángulo alrededor del objeto con el mouse y presiona 'c' para capturar.\n",
      "Forma predicha: circle\n"
     ]
    },
    {
     "name": "stdout",
     "output_type": "stream",
     "text": [
      "¿Es correcto? (s/n, o 'q' para salir):  s\n"
     ]
    },
    {
     "name": "stdout",
     "output_type": "stream",
     "text": [
      "Cámara activada. Dibuja un rectángulo alrededor del objeto con el mouse y presiona 'c' para capturar.\n",
      "Forma predicha: rhombus\n"
     ]
    },
    {
     "name": "stdout",
     "output_type": "stream",
     "text": [
      "¿Es correcto? (s/n, o 'q' para salir):  n\n"
     ]
    },
    {
     "name": "stdout",
     "output_type": "stream",
     "text": [
      "Selecciona la forma correcta (0-23): {'circle': 0, 'cone': 1, 'cube': 2, 'cuboid': 3, 'cylinder': 4, 'decagon': 5, 'dodecahedron': 6, 'ellipse': 7, 'heptagon': 8, 'hexagon': 9, 'nonagon': 10, 'octagon': 11, 'octahedron': 12, 'parallelogram': 13, 'pentagon': 14, 'prism': 15, 'pyramid': 16, 'rectangle': 17, 'rhombus': 18, 'sphere': 19, 'square': 20, 'tetrahedron': 21, 'trapezoid': 22, 'triangle': 23}\n"
     ]
    },
    {
     "name": "stdout",
     "output_type": "stream",
     "text": [
      "Ingresa el número de la forma correcta:  0\n"
     ]
    },
    {
     "name": "stdout",
     "output_type": "stream",
     "text": [
      "Cámara activada. Dibuja un rectángulo alrededor del objeto con el mouse y presiona 'c' para capturar.\n"
     ]
    }
   ],
   "source": [
    "import sys\n",
    "import os\n",
    "sys.path.append(os.path.abspath('..'))\n",
    "\n",
    "import tensorflow as tf\n",
    "from tensorflow.keras import layers, models\n",
    "from tensorflow.keras.preprocessing.image import ImageDataGenerator\n",
    "from src.utils.data_loader import load_data\n",
    "import numpy as np\n",
    "from sklearn.model_selection import train_test_split\n",
    "\n",
    "# Define la ruta de datos (cambiada según tu actualización)\n",
    "data_dir = os.path.join(os.path.dirname(os.path.abspath('')), 'data', 'raw')\n",
    "\n",
    "# Carga los datos actualizados\n",
    "images, labels, forma_to_label = load_data(data_dir)\n",
    "print(f\"Cargadas {len(images)} imágenes de {len(forma_to_label)} clases\")\n",
    "print(\"Clases:\", forma_to_label)\n",
    "\n",
    "# Normaliza las imágenes\n",
    "images = images / 255.0\n",
    "num_classes = len(forma_to_label)\n",
    "labels = tf.keras.utils.to_categorical(labels, num_classes=num_classes)\n",
    "\n",
    "# Divide los datos\n",
    "X_train, X_val, y_train, y_val = train_test_split(images, labels, test_size=0.2, random_state=42)\n",
    "print(f\"Entrenamiento: {len(X_train)} imágenes, Validación: {len(X_val)} imágenes\")\n",
    "\n",
    "# Define una CNN para entrenamiento desde cero\n",
    "model = models.Sequential([\n",
    "    layers.Conv2D(32, (3, 3), activation='relu', input_shape=(128, 128, 3)),\n",
    "    layers.MaxPooling2D((2, 2)),\n",
    "    layers.Conv2D(64, (3, 3), activation='relu'),\n",
    "    layers.MaxPooling2D((2, 2)),\n",
    "    layers.Conv2D(128, (3, 3), activation='relu'),\n",
    "    layers.MaxPooling2D((2, 2)),\n",
    "    layers.Flatten(),\n",
    "    layers.Dense(256, activation='relu'),\n",
    "    layers.Dropout(0.5),\n",
    "    layers.Dense(num_classes, activation='softmax')\n",
    "])\n",
    "\n",
    "# Compila el modelo\n",
    "model.compile(optimizer='adam', loss='categorical_crossentropy', metrics=['accuracy'])\n",
    "\n",
    "# Augmentación de datos\n",
    "datagen = ImageDataGenerator(\n",
    "    rotation_range=20,\n",
    "    width_shift_range=0.2,\n",
    "    height_shift_range=0.2,\n",
    "    shear_range=0.2,\n",
    "    zoom_range=0.2,\n",
    "    horizontal_flip=True,\n",
    "    fill_mode='nearest'\n",
    ")\n",
    "train_generator = datagen.flow(X_train, y_train, batch_size=32)\n",
    "validation_generator = datagen.flow(X_val, y_val, batch_size=32)\n",
    "\n",
    "# Entrena el nuevo modelo\n",
    "print(\"Entrenando nuevo modelo...\")\n",
    "history = model.fit(train_generator, epochs=30, validation_data=validation_generator)\n",
    "\n",
    "# Guarda el nuevo modelo\n",
    "model_path = os.path.join(os.path.dirname(os.path.abspath('')), 'data', 'models', 'modelo_formas.h5')\n",
    "os.makedirs(os.path.dirname(model_path), exist_ok=True)\n",
    "model.save(model_path)\n",
    "print(f\"Nuevo modelo guardado en: {model_path}\")\n",
    "print('Clases detectadas:', forma_to_label)"
   ]
  },
  {
   "cell_type": "code",
   "execution_count": null,
   "id": "a8dbf20e-3aa8-4a9a-91e2-cd9185db79ef",
   "metadata": {},
   "outputs": [
    {
     "name": "stdout",
     "output_type": "stream",
     "text": [
      "Cargadas 19367 imágenes de 16 clases iniciales\n",
      "Clases iniciales: {'circle': 0, 'cone': 1, 'cube': 2, 'cuboid': 3, 'cylinder': 4, 'ellipse': 5, 'hexagon': 6, 'octagon': 7, 'pentagon': 8, 'prism': 9, 'pyramid': 10, 'rectangle': 11, 'rhombus': 12, 'sphere': 13, 'square': 14, 'triangle': 15}\n",
      "Cargadas 16 imágenes de 16 clases tras filtrado\n",
      "Clases seleccionadas: ['circle', 'cone', 'cube', 'cuboid', 'cylinder', 'ellipse', 'hexagon', 'octagon', 'pentagon', 'prism', 'pyramid', 'rectangle', 'rhombus', 'sphere', 'square', 'triangle']\n",
      "Entrenamiento: 12 imágenes, Validación: 4 imágenes\n",
      "Entrenando nuevo modelo con todas las imágenes disponibles...\n",
      "Epoch 1/30\n"
     ]
    },
    {
     "name": "stderr",
     "output_type": "stream",
     "text": [
      "D:\\Descargas 2.0\\SEMESTREVII\\InteraccionHumanoComputador\\PrimeraTarea\\AnalisiOfSolidAndPlane\\venv\\lib\\site-packages\\keras\\src\\layers\\convolutional\\base_conv.py:113: UserWarning: Do not pass an `input_shape`/`input_dim` argument to a layer. When using Sequential models, prefer using an `Input(shape)` object as the first layer in the model instead.\n",
      "  super().__init__(activity_regularizer=activity_regularizer, **kwargs)\n",
      "D:\\Descargas 2.0\\SEMESTREVII\\InteraccionHumanoComputador\\PrimeraTarea\\AnalisiOfSolidAndPlane\\venv\\lib\\site-packages\\keras\\src\\trainers\\data_adapters\\py_dataset_adapter.py:121: UserWarning: Your `PyDataset` class should call `super().__init__(**kwargs)` in its constructor. `**kwargs` can include `workers`, `use_multiprocessing`, `max_queue_size`. Do not pass these arguments to `fit()`, as they will be ignored.\n",
      "  self._warn_if_super_not_called()\n"
     ]
    },
    {
     "name": "stdout",
     "output_type": "stream",
     "text": [
      "\u001b[1m1/1\u001b[0m \u001b[32m━━━━━━━━━━━━━━━━━━━━\u001b[0m\u001b[37m\u001b[0m \u001b[1m2s\u001b[0m 2s/step - accuracy: 0.0000e+00 - loss: 2.8052 - val_accuracy: 1.0000 - val_loss: 0.0522\n",
      "Epoch 2/30\n",
      "\u001b[1m1/1\u001b[0m \u001b[32m━━━━━━━━━━━━━━━━━━━━\u001b[0m\u001b[37m\u001b[0m \u001b[1m0s\u001b[0m 204ms/step - accuracy: 1.0000 - loss: 0.0741 - val_accuracy: 1.0000 - val_loss: 7.6294e-06\n",
      "Epoch 3/30\n",
      "\u001b[1m1/1\u001b[0m \u001b[32m━━━━━━━━━━━━━━━━━━━━\u001b[0m\u001b[37m\u001b[0m \u001b[1m0s\u001b[0m 201ms/step - accuracy: 1.0000 - loss: 2.3479e-04 - val_accuracy: 1.0000 - val_loss: 0.0000e+00\n",
      "Epoch 4/30\n",
      "\u001b[1m1/1\u001b[0m \u001b[32m━━━━━━━━━━━━━━━━━━━━\u001b[0m\u001b[37m\u001b[0m \u001b[1m0s\u001b[0m 189ms/step - accuracy: 1.0000 - loss: 7.0532e-07 - val_accuracy: 1.0000 - val_loss: 0.0000e+00\n",
      "Epoch 5/30\n",
      "\u001b[1m1/1\u001b[0m \u001b[32m━━━━━━━━━━━━━━━━━━━━\u001b[0m\u001b[37m\u001b[0m \u001b[1m0s\u001b[0m 194ms/step - accuracy: 1.0000 - loss: 0.0000e+00 - val_accuracy: 1.0000 - val_loss: 0.0000e+00\n",
      "Epoch 6/30\n",
      "\u001b[1m1/1\u001b[0m \u001b[32m━━━━━━━━━━━━━━━━━━━━\u001b[0m\u001b[37m\u001b[0m \u001b[1m0s\u001b[0m 183ms/step - accuracy: 1.0000 - loss: 0.0000e+00 - val_accuracy: 1.0000 - val_loss: 0.0000e+00\n",
      "Epoch 7/30\n",
      "\u001b[1m1/1\u001b[0m \u001b[32m━━━━━━━━━━━━━━━━━━━━\u001b[0m\u001b[37m\u001b[0m \u001b[1m0s\u001b[0m 197ms/step - accuracy: 1.0000 - loss: 0.0000e+00 - val_accuracy: 1.0000 - val_loss: 0.0000e+00\n",
      "Epoch 8/30\n",
      "\u001b[1m1/1\u001b[0m \u001b[32m━━━━━━━━━━━━━━━━━━━━\u001b[0m\u001b[37m\u001b[0m \u001b[1m0s\u001b[0m 186ms/step - accuracy: 1.0000 - loss: 0.0000e+00 - val_accuracy: 1.0000 - val_loss: 0.0000e+00\n",
      "Epoch 9/30\n",
      "\u001b[1m1/1\u001b[0m \u001b[32m━━━━━━━━━━━━━━━━━━━━\u001b[0m\u001b[37m\u001b[0m \u001b[1m0s\u001b[0m 189ms/step - accuracy: 1.0000 - loss: 0.0000e+00 - val_accuracy: 1.0000 - val_loss: 0.0000e+00\n",
      "Epoch 10/30\n",
      "\u001b[1m1/1\u001b[0m \u001b[32m━━━━━━━━━━━━━━━━━━━━\u001b[0m\u001b[37m\u001b[0m \u001b[1m0s\u001b[0m 216ms/step - accuracy: 1.0000 - loss: 0.0000e+00 - val_accuracy: 1.0000 - val_loss: 0.0000e+00\n",
      "Epoch 11/30\n",
      "\u001b[1m1/1\u001b[0m \u001b[32m━━━━━━━━━━━━━━━━━━━━\u001b[0m\u001b[37m\u001b[0m \u001b[1m0s\u001b[0m 185ms/step - accuracy: 1.0000 - loss: 0.0000e+00 - val_accuracy: 1.0000 - val_loss: 0.0000e+00\n",
      "Epoch 12/30\n",
      "\u001b[1m1/1\u001b[0m \u001b[32m━━━━━━━━━━━━━━━━━━━━\u001b[0m\u001b[37m\u001b[0m \u001b[1m0s\u001b[0m 180ms/step - accuracy: 1.0000 - loss: 0.0000e+00 - val_accuracy: 1.0000 - val_loss: 0.0000e+00\n",
      "Epoch 13/30\n",
      "\u001b[1m1/1\u001b[0m \u001b[32m━━━━━━━━━━━━━━━━━━━━\u001b[0m\u001b[37m\u001b[0m \u001b[1m0s\u001b[0m 181ms/step - accuracy: 1.0000 - loss: 0.0000e+00 - val_accuracy: 1.0000 - val_loss: 0.0000e+00\n",
      "Epoch 14/30\n",
      "\u001b[1m1/1\u001b[0m \u001b[32m━━━━━━━━━━━━━━━━━━━━\u001b[0m\u001b[37m\u001b[0m \u001b[1m0s\u001b[0m 188ms/step - accuracy: 1.0000 - loss: 0.0000e+00 - val_accuracy: 1.0000 - val_loss: 0.0000e+00\n",
      "Epoch 15/30\n",
      "\u001b[1m1/1\u001b[0m \u001b[32m━━━━━━━━━━━━━━━━━━━━\u001b[0m\u001b[37m\u001b[0m \u001b[1m0s\u001b[0m 182ms/step - accuracy: 1.0000 - loss: 0.0000e+00 - val_accuracy: 1.0000 - val_loss: 0.0000e+00\n",
      "Epoch 16/30\n",
      "\u001b[1m1/1\u001b[0m \u001b[32m━━━━━━━━━━━━━━━━━━━━\u001b[0m\u001b[37m\u001b[0m \u001b[1m0s\u001b[0m 188ms/step - accuracy: 1.0000 - loss: 0.0000e+00 - val_accuracy: 1.0000 - val_loss: 0.0000e+00\n",
      "Epoch 17/30\n",
      "\u001b[1m1/1\u001b[0m \u001b[32m━━━━━━━━━━━━━━━━━━━━\u001b[0m\u001b[37m\u001b[0m \u001b[1m0s\u001b[0m 186ms/step - accuracy: 1.0000 - loss: 0.0000e+00 - val_accuracy: 1.0000 - val_loss: 0.0000e+00\n",
      "Epoch 18/30\n",
      "\u001b[1m1/1\u001b[0m \u001b[32m━━━━━━━━━━━━━━━━━━━━\u001b[0m\u001b[37m\u001b[0m \u001b[1m0s\u001b[0m 191ms/step - accuracy: 1.0000 - loss: 0.0000e+00 - val_accuracy: 1.0000 - val_loss: 0.0000e+00\n",
      "Epoch 19/30\n",
      "\u001b[1m1/1\u001b[0m \u001b[32m━━━━━━━━━━━━━━━━━━━━\u001b[0m\u001b[37m\u001b[0m \u001b[1m0s\u001b[0m 185ms/step - accuracy: 1.0000 - loss: 0.0000e+00 - val_accuracy: 1.0000 - val_loss: 0.0000e+00\n",
      "Epoch 20/30\n",
      "\u001b[1m1/1\u001b[0m \u001b[32m━━━━━━━━━━━━━━━━━━━━\u001b[0m\u001b[37m\u001b[0m \u001b[1m0s\u001b[0m 185ms/step - accuracy: 1.0000 - loss: 0.0000e+00 - val_accuracy: 1.0000 - val_loss: 0.0000e+00\n",
      "Epoch 21/30\n",
      "\u001b[1m1/1\u001b[0m \u001b[32m━━━━━━━━━━━━━━━━━━━━\u001b[0m\u001b[37m\u001b[0m \u001b[1m0s\u001b[0m 185ms/step - accuracy: 1.0000 - loss: 0.0000e+00 - val_accuracy: 1.0000 - val_loss: 0.0000e+00\n",
      "Epoch 22/30\n",
      "\u001b[1m1/1\u001b[0m \u001b[32m━━━━━━━━━━━━━━━━━━━━\u001b[0m\u001b[37m\u001b[0m \u001b[1m0s\u001b[0m 183ms/step - accuracy: 1.0000 - loss: 0.0000e+00 - val_accuracy: 1.0000 - val_loss: 0.0000e+00\n",
      "Epoch 23/30\n",
      "\u001b[1m1/1\u001b[0m \u001b[32m━━━━━━━━━━━━━━━━━━━━\u001b[0m\u001b[37m\u001b[0m \u001b[1m0s\u001b[0m 181ms/step - accuracy: 1.0000 - loss: 0.0000e+00 - val_accuracy: 1.0000 - val_loss: 0.0000e+00\n",
      "Epoch 24/30\n",
      "\u001b[1m1/1\u001b[0m \u001b[32m━━━━━━━━━━━━━━━━━━━━\u001b[0m\u001b[37m\u001b[0m \u001b[1m0s\u001b[0m 202ms/step - accuracy: 1.0000 - loss: 0.0000e+00 - val_accuracy: 1.0000 - val_loss: 0.0000e+00\n",
      "Epoch 25/30\n",
      "\u001b[1m1/1\u001b[0m \u001b[32m━━━━━━━━━━━━━━━━━━━━\u001b[0m\u001b[37m\u001b[0m \u001b[1m0s\u001b[0m 190ms/step - accuracy: 1.0000 - loss: 0.0000e+00 - val_accuracy: 1.0000 - val_loss: 0.0000e+00\n",
      "Epoch 26/30\n",
      "\u001b[1m1/1\u001b[0m \u001b[32m━━━━━━━━━━━━━━━━━━━━\u001b[0m\u001b[37m\u001b[0m \u001b[1m0s\u001b[0m 185ms/step - accuracy: 1.0000 - loss: 0.0000e+00 - val_accuracy: 1.0000 - val_loss: 0.0000e+00\n",
      "Epoch 27/30\n",
      "\u001b[1m1/1\u001b[0m \u001b[32m━━━━━━━━━━━━━━━━━━━━\u001b[0m\u001b[37m\u001b[0m \u001b[1m0s\u001b[0m 183ms/step - accuracy: 1.0000 - loss: 0.0000e+00 - val_accuracy: 1.0000 - val_loss: 0.0000e+00\n",
      "Epoch 28/30\n",
      "\u001b[1m1/1\u001b[0m \u001b[32m━━━━━━━━━━━━━━━━━━━━\u001b[0m\u001b[37m\u001b[0m \u001b[1m0s\u001b[0m 183ms/step - accuracy: 1.0000 - loss: 0.0000e+00 - val_accuracy: 1.0000 - val_loss: 0.0000e+00\n",
      "Epoch 29/30\n",
      "\u001b[1m1/1\u001b[0m \u001b[32m━━━━━━━━━━━━━━━━━━━━\u001b[0m\u001b[37m\u001b[0m \u001b[1m0s\u001b[0m 181ms/step - accuracy: 1.0000 - loss: 0.0000e+00 - val_accuracy: 1.0000 - val_loss: 0.0000e+00\n",
      "Epoch 30/30\n",
      "\u001b[1m1/1\u001b[0m \u001b[32m━━━━━━━━━━━━━━━━━━━━\u001b[0m\u001b[37m\u001b[0m \u001b[1m0s\u001b[0m 192ms/step - accuracy: 1.0000 - loss: 0.0000e+00 - val_accuracy: 1.0000 - val_loss: 0.0000e+00\n"
     ]
    },
    {
     "name": "stderr",
     "output_type": "stream",
     "text": [
      "WARNING:absl:You are saving your model as an HDF5 file via `model.save()` or `keras.saving.save_model(model)`. This file format is considered legacy. We recommend using instead the native Keras format, e.g. `model.save('my_model.keras')` or `keras.saving.save_model(model, 'my_model.keras')`. \n"
     ]
    },
    {
     "name": "stdout",
     "output_type": "stream",
     "text": [
      "Nuevo modelo guardado en: D:\\Descargas 2.0\\SEMESTREVII\\InteraccionHumanoComputador\\PrimeraTarea\\AnalisiOfSolidAndPlane\\data\\models\\modelo_formas.h5\n",
      "Clases utilizadas: ['circle', 'cone', 'cube', 'cuboid', 'cylinder', 'ellipse', 'hexagon', 'octagon', 'pentagon', 'prism', 'pyramid', 'rectangle', 'rhombus', 'sphere', 'square', 'triangle']\n"
     ]
    }
   ],
   "source": []
  },
  {
   "cell_type": "code",
   "execution_count": 1,
   "id": "abb9a7f2-9342-4079-8260-00adf1a08de9",
   "metadata": {},
   "outputs": [
    {
     "name": "stderr",
     "output_type": "stream",
     "text": [
      "WARNING:absl:Compiled the loaded model, but the compiled metrics have yet to be built. `model.compile_metrics` will be empty until you train or evaluate the model.\n"
     ]
    },
    {
     "name": "stdout",
     "output_type": "stream",
     "text": [
      "Modelo cargado desde: D:\\Descargas 2.0\\SEMESTREVII\\InteraccionHumanoComputador\\PrimeraTarea\\AnalisiOfSolidAndPlane\\data\\models\\modelo_formas.h5\n",
      "Cargadas 4695 imágenes de 16 clases iniciales\n",
      "Clases iniciales: {'circle': 0, 'cone': 1, 'cube': 2, 'cuboid': 3, 'cylinder': 4, 'ellipse': 5, 'hexagon': 6, 'octagon': 7, 'pentagon': 8, 'prism': 9, 'pyramid': 10, 'rectangle': 11, 'rhombus': 12, 'sphere': 13, 'square': 14, 'triangle': 15}\n",
      "Cargadas 16 imágenes de 16 clases tras filtrado\n",
      "Clases seleccionadas: ['circle', 'cone', 'cube', 'cuboid', 'cylinder', 'ellipse', 'hexagon', 'octagon', 'pentagon', 'prism', 'pyramid', 'rectangle', 'rhombus', 'sphere', 'square', 'triangle']\n",
      "Entrenamiento: 12 imágenes, Prueba: 4 imágenes\n",
      "\u001b[1m1/1\u001b[0m \u001b[32m━━━━━━━━━━━━━━━━━━━━\u001b[0m\u001b[37m\u001b[0m \u001b[1m0s\u001b[0m 112ms/step\n",
      "\n",
      "Evaluación del Modelo Actual:\n",
      "Accuracy: 1.00\n",
      "Precision: 1.00\n",
      "Recall: 1.00\n",
      "Matriz de Confusión:\n",
      "[[4]]\n",
      "\n",
      "Comparación con el Modelo Anterior:\n",
      "Accuracy Anterior: 0.53\n",
      "Accuracy Actual: 1.00\n",
      "El modelo actual mejoró en comparación con el anterior.\n",
      "\n",
      "Precisión aceptable o datos insuficientes. No se requiere reentrenamiento.\n"
     ]
    },
    {
     "name": "stderr",
     "output_type": "stream",
     "text": [
      "D:\\Descargas 2.0\\SEMESTREVII\\InteraccionHumanoComputador\\PrimeraTarea\\AnalisiOfSolidAndPlane\\venv\\lib\\site-packages\\sklearn\\metrics\\_classification.py:534: UserWarning: A single label was found in 'y_true' and 'y_pred'. For the confusion matrix to have the correct shape, use the 'labels' parameter to pass all known labels.\n",
      "  warnings.warn(\n"
     ]
    }
   ],
   "source": [
    "import sys\n",
    "import os\n",
    "sys.path.append(os.path.abspath('..'))\n",
    "\n",
    "import tensorflow as tf\n",
    "from tensorflow.keras.preprocessing.image import ImageDataGenerator\n",
    "from src.utils.data_loader import load_data\n",
    "import numpy as np\n",
    "from sklearn.model_selection import train_test_split\n",
    "from sklearn.metrics import accuracy_score, precision_score, recall_score, confusion_matrix\n",
    "\n",
    "# Define la ruta de datos y del modelo\n",
    "data_dir = os.path.join(os.path.dirname(os.path.abspath('')), 'data', 'raw')\n",
    "model_path = os.path.join(os.path.dirname(os.path.abspath('')), 'data', 'models', 'modelo_formas.h5')\n",
    "\n",
    "# Define las clases utilizadas\n",
    "selected_classes = ['circle', 'cone', 'cube', 'cuboid', 'cylinder', 'ellipse', 'hexagon', 'octagon', 'pentagon', 'prism', 'pyramid', 'rectangle', 'rhombus', 'sphere', 'square', 'triangle']\n",
    "num_classes = len(selected_classes)\n",
    "\n",
    "# Carga el modelo\n",
    "model = tf.keras.models.load_model(model_path)\n",
    "print(f\"Modelo cargado desde: {model_path}\")\n",
    "\n",
    "# Carga todos los datos disponibles (500 imágenes por clase)\n",
    "images, labels, forma_to_label = load_data(data_dir, max_images_per_class=500)  # Usa todas las 500 por clase\n",
    "print(f\"Cargadas {len(images)} imágenes de {len(forma_to_label)} clases iniciales\")\n",
    "print(\"Clases iniciales:\", forma_to_label)\n",
    "\n",
    "# Filtra imágenes y etiquetas para las clases seleccionadas, asegurando todas las imágenes\n",
    "images_selected = []\n",
    "labels_selected = []\n",
    "for i, forma in enumerate(forma_to_label):\n",
    "    if forma in selected_classes:\n",
    "        class_indices = [j for j, label in enumerate(labels) if label == i]\n",
    "        images_selected.extend([images[j] for j in class_indices])\n",
    "        labels_selected.extend([i] * len(class_indices))\n",
    "\n",
    "# Crea un mapeo de índices originales a nuevos índices basados en selected_classes\n",
    "selected_indices = [i for i, forma in enumerate(forma_to_label) if forma in selected_classes]\n",
    "label_mapping = {i: idx for idx, i in enumerate(selected_indices)}\n",
    "labels_mapped = [label_mapping.get(label, -1) for label in labels_selected]\n",
    "labels_mapped = [label for label in labels_mapped if label != -1]\n",
    "images_selected = [img for i, img in enumerate(images_selected) if i < len(labels_mapped)]\n",
    "labels_mapped = labels_mapped[:len(images_selected)]  # Asegura misma longitud\n",
    "\n",
    "print(f\"Cargadas {len(images_selected)} imágenes de {len(selected_classes)} clases tras filtrado\")\n",
    "print(\"Clases seleccionadas:\", selected_classes)\n",
    "\n",
    "# Normaliza las imágenes\n",
    "images_selected = np.array(images_selected) / 255.0\n",
    "labels_one_hot = tf.keras.utils.to_categorical(labels_mapped, num_classes)\n",
    "\n",
    "# Divide los datos en entrenamiento y prueba (80% entrenamiento, 20% prueba)\n",
    "X_train, X_test, y_train, y_test = train_test_split(images_selected, labels_one_hot, test_size=0.2, random_state=42)\n",
    "print(f\"Entrenamiento: {len(X_train)} imágenes, Prueba: {len(X_test)} imágenes\")\n",
    "\n",
    "# Evalúa el modelo en el conjunto de prueba\n",
    "predictions = model.predict(np.array(X_test))\n",
    "predicted_classes = np.argmax(predictions, axis=1)\n",
    "true_classes = np.argmax(y_test, axis=1)\n",
    "\n",
    "# Métricas con manejo de todas las clases\n",
    "accuracy = accuracy_score(true_classes, predicted_classes)\n",
    "precision = precision_score(true_classes, predicted_classes, average='weighted', zero_division=0, labels=range(num_classes))\n",
    "recall = recall_score(true_classes, predicted_classes, average='weighted', zero_division=0, labels=range(num_classes))\n",
    "conf_matrix = confusion_matrix(true_classes, predicted_classes, labels=range(num_classes))\n",
    "\n",
    "print(f\"\\nEvaluación del Modelo Actual:\")\n",
    "print(f\"Accuracy: {accuracy:.2f}\")\n",
    "print(f\"Precision: {precision:.2f}\")\n",
    "print(f\"Recall: {recall:.2f}\")\n",
    "print(\"Matriz de Confusión:\")\n",
    "print(conf_matrix)\n",
    "\n",
    "# Comparación con el modelo anterior\n",
    "previous_accuracy = 0.53  # Valor del modelo anterior con 1000 imágenes de 20 clases\n",
    "print(f\"\\nComparación con el Modelo Anterior:\")\n",
    "print(f\"Accuracy Anterior: {previous_accuracy:.2f}\")\n",
    "print(f\"Accuracy Actual: {accuracy:.2f}\")\n",
    "if accuracy > previous_accuracy:\n",
    "    print(\"El modelo actual mejoró en comparación con el anterior.\")\n",
    "elif accuracy < previous_accuracy:\n",
    "    print(\"El modelo actual empeoró en comparación con el anterior.\")\n",
    "else:\n",
    "    print(\"El modelo actual tiene el mismo rendimiento que el anterior.\")\n",
    "\n",
    "# Mejora si la precisión es baja\n",
    "if accuracy < 0.8 and len(images_selected) > num_classes:\n",
    "    print(\"\\nPrecisión baja. Iniciando reentrenamiento...\")\n",
    "    datagen = ImageDataGenerator(\n",
    "        rotation_range=40,\n",
    "        width_shift_range=0.2,\n",
    "        height_shift_range=0.2,\n",
    "        shear_range=0.2,\n",
    "        zoom_range=0.2,\n",
    "        horizontal_flip=True,\n",
    "        fill_mode='nearest'\n",
    "    )\n",
    "    X_train, X_val, y_train, y_val = train_test_split(X_train, y_train, test_size=0.2, random_state=42)\n",
    "    train_generator = datagen.flow(np.array(X_train), y_train, batch_size=32)\n",
    "    validation_generator = datagen.flow(np.array(X_val), y_val, batch_size=32)\n",
    "\n",
    "    optimizer = tf.keras.optimizers.Adam(learning_rate=1e-5)\n",
    "    model.compile(optimizer=optimizer, loss='categorical_crossentropy', metrics=['accuracy'])\n",
    "    history = model.fit(train_generator, epochs=20, validation_data=validation_generator, verbose=1)\n",
    "\n",
    "    # Guarda el modelo mejorado\n",
    "    model.save(model_path)\n",
    "    print(f\"Modelo mejorado guardado en: {model_path}\")\n",
    "else:\n",
    "    print(\"\\nPrecisión aceptable o datos insuficientes. No se requiere reentrenamiento.\")"
   ]
  }
 ],
 "metadata": {
  "kernelspec": {
   "display_name": "Python 3 (ipykernel)",
   "language": "python",
   "name": "python3"
  },
  "language_info": {
   "codemirror_mode": {
    "name": "ipython",
    "version": 3
   },
   "file_extension": ".py",
   "mimetype": "text/x-python",
   "name": "python",
   "nbconvert_exporter": "python",
   "pygments_lexer": "ipython3",
   "version": "3.10.0"
  }
 },
 "nbformat": 4,
 "nbformat_minor": 5
}
