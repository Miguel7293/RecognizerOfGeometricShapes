{
 "cells": [
  {
   "cell_type": "code",
   "execution_count": 2,
   "id": "0668abd3",
   "metadata": {},
   "outputs": [
    {
     "name": "stdout",
     "output_type": "stream",
     "text": [
      "Cargadas 23131 imágenes de 15 clases iniciales\n",
      "Clases iniciales: {'circle': 0, 'cone': 1, 'cube': 2, 'cylinder': 3, 'ellipse': 4, 'hexagon': 5, 'octagon': 6, 'pentagon': 7, 'prism': 8, 'pyramid': 9, 'rectangle': 10, 'rhombus': 11, 'sphere': 12, 'square': 13, 'triangle': 14}\n",
      "Clase 'circle': 3395 imágenes encontradas\n",
      "Clase 'cone': 201 imágenes encontradas\n",
      "Clase 'cube': 229 imágenes encontradas\n",
      "Clase 'cylinder': 225 imágenes encontradas\n",
      "Clase 'ellipse': 2605 imágenes encontradas\n",
      "Clase 'hexagon': 72 imágenes encontradas\n",
      "Clase 'octagon': 2605 imágenes encontradas\n",
      "Clase 'pentagon': 2621 imágenes encontradas\n",
      "Clase 'prism': 88 imágenes encontradas\n",
      "Clase 'pyramid': 121 imágenes encontradas\n",
      "Clase 'rectangle': 2849 imágenes encontradas\n",
      "Clase 'rhombus': 3582 imágenes encontradas\n",
      "Clase 'sphere': 1026 imágenes encontradas\n",
      "Clase 'square': 2929 imágenes encontradas\n",
      "Clase 'triangle': 583 imágenes encontradas\n",
      "Cargadas 23131 imágenes de 16 clases tras filtrado\n",
      "Clases seleccionadas: ['circle', 'cone', 'cube', 'cuboid', 'cylinder', 'ellipse', 'hexagon', 'octagon', 'pentagon', 'prism', 'pyramid', 'rectangle', 'rhombus', 'sphere', 'square', 'triangle']\n",
      "Entrenamiento: 18504 imágenes, Validación: 4627 imágenes\n"
     ]
    },
    {
     "name": "stderr",
     "output_type": "stream",
     "text": [
      "C:\\Users\\GYGABYTE\\Documents\\SEMESTRE VII\\InteraccionhumanoComputador\\RecognizerOfGeometricShapes\\venv\\lib\\site-packages\\keras\\src\\layers\\convolutional\\base_conv.py:113: UserWarning: Do not pass an `input_shape`/`input_dim` argument to a layer. When using Sequential models, prefer using an `Input(shape)` object as the first layer in the model instead.\n",
      "  super().__init__(activity_regularizer=activity_regularizer, **kwargs)\n"
     ]
    },
    {
     "name": "stdout",
     "output_type": "stream",
     "text": [
      "\u001b[1m1/1\u001b[0m \u001b[32m━━━━━━━━━━━━━━━━━━━━\u001b[0m\u001b[37m\u001b[0m \u001b[1m4s\u001b[0m 4s/step - accuracy: 0.0000e+00 - loss: 479.8497 - val_accuracy: 0.5000 - val_loss: 27.0569\n",
      "Epoch 2/5\n",
      "\u001b[1m1/1\u001b[0m \u001b[32m━━━━━━━━━━━━━━━━━━━━\u001b[0m\u001b[37m\u001b[0m \u001b[1m0s\u001b[0m 213ms/step - accuracy: 0.0000e+00 - loss: 187.0911 - val_accuracy: 0.5000 - val_loss: 46.6010\n",
      "Epoch 3/5\n",
      "\u001b[1m1/1\u001b[0m \u001b[32m━━━━━━━━━━━━━━━━━━━━\u001b[0m\u001b[37m\u001b[0m \u001b[1m0s\u001b[0m 228ms/step - accuracy: 0.2500 - loss: 181.4218 - val_accuracy: 0.5000 - val_loss: 16.8964\n",
      "Epoch 4/5\n",
      "\u001b[1m1/1\u001b[0m \u001b[32m━━━━━━━━━━━━━━━━━━━━\u001b[0m\u001b[37m\u001b[0m \u001b[1m0s\u001b[0m 230ms/step - accuracy: 0.0000e+00 - loss: 63.8142 - val_accuracy: 0.5000 - val_loss: 84.9026\n",
      "Epoch 5/5\n",
      "\u001b[1m1/1\u001b[0m \u001b[32m━━━━━━━━━━━━━━━━━━━━\u001b[0m\u001b[37m\u001b[0m \u001b[1m0s\u001b[0m 230ms/step - accuracy: 0.0000e+00 - loss: 186.0842 - val_accuracy: 0.5000 - val_loss: 101.5902\n"
     ]
    },
    {
     "name": "stderr",
     "output_type": "stream",
     "text": [
      "WARNING:absl:You are saving your model as an HDF5 file via `model.save()` or `keras.saving.save_model(model)`. This file format is considered legacy. We recommend using instead the native Keras format, e.g. `model.save('my_model.keras')` or `keras.saving.save_model(model, 'my_model.keras')`. \n"
     ]
    },
    {
     "name": "stdout",
     "output_type": "stream",
     "text": [
      "Modelo reentrenado y guardado en: D:\\Descargas 2.0\\SEMESTREVII\\InteraccionHumanoComputador\\PrimeraTarea\\AnalisiOfSolidAndPlane\\data\\models\\modelo_formas.h5\n"
     ]
    },
    {
     "name": "stdout",
     "output_type": "stream",
     "text": [
      "Selecciona la forma correcta (0-23): {'circle': 0, 'cone': 1, 'cube': 2, 'cuboid': 3, 'cylinder': 4, 'dodecahedron': 5, 'ellipse': 6, 'heptagon': 7, 'hexagon': 8, 'nonagon': 9, 'octagon': 10, 'parallelogram': 11, 'pentagon': 12, 'prism': 13, 'pyramid': 14, 'rectangle': 15, 'rhombus': 16, 'sphere': 17, 'square': 18, 'tetrahedron': 19, 'trapezoid': 20, 'triangle': 21}\n"
     ]
    },
    {
     "name": "stdout",
     "output_type": "stream",
     "text": [
      "Ingresa el número de la forma correcta:  2\n"
     ]
    },
    {
     "name": "stdout",
     "output_type": "stream",
     "text": [
      "Imagen guardada en: D:\\Descargas 2.0\\SEMESTREVII\\InteraccionHumanoComputador\\PrimeraTarea\\AnalisiOfSolidAndPlane\\data\\raw\\cube\\cube_162.jpg\n",
      "Cámara activada. Dibuja un rectángulo alrededor del objeto con el mouse y presiona 'c' para capturar. Presiona 'q' para salir.\n",
      "Forma predicha: prism (Confianza: 61.36%)\n"
     ]
    },
    {
     "name": "stdout",
     "output_type": "stream",
     "text": [
      "¿Es correcto? (s/n, o 'q' para salir y reentrenar):  2\n"
     ]
    },
    {
     "name": "stdout",
     "output_type": "stream",
     "text": [
      "Selecciona la forma correcta (0-23): {'circle': 0, 'cone': 1, 'cube': 2, 'cuboid': 3, 'cylinder': 4, 'dodecahedron': 5, 'ellipse': 6, 'heptagon': 7, 'hexagon': 8, 'nonagon': 9, 'octagon': 10, 'parallelogram': 11, 'pentagon': 12, 'prism': 13, 'pyramid': 14, 'rectangle': 15, 'rhombus': 16, 'sphere': 17, 'square': 18, 'tetrahedron': 19, 'trapezoid': 20, 'triangle': 21}\n"
     ]
    },
    {
     "name": "stdout",
     "output_type": "stream",
     "text": [
      "Ingresa el número de la forma correcta:  2\n"
     ]
    },
    {
     "name": "stdout",
     "output_type": "stream",
     "text": [
      "Imagen guardada en: D:\\Descargas 2.0\\SEMESTREVII\\InteraccionHumanoComputador\\PrimeraTarea\\AnalisiOfSolidAndPlane\\data\\raw\\cube\\cube_163.jpg\n",
      "Cámara activada. Dibuja un rectángulo alrededor del objeto con el mouse y presiona 'c' para capturar. Presiona 'q' para salir.\n",
      "Forma predicha: prism (Confianza: 34.30%)\n"
     ]
    },
    {
     "name": "stdout",
     "output_type": "stream",
     "text": [
      "¿Es correcto? (s/n, o 'q' para salir y reentrenar):  n\n"
     ]
    },
    {
     "name": "stdout",
     "output_type": "stream",
     "text": [
      "Selecciona la forma correcta (0-23): {'circle': 0, 'cone': 1, 'cube': 2, 'cuboid': 3, 'cylinder': 4, 'dodecahedron': 5, 'ellipse': 6, 'heptagon': 7, 'hexagon': 8, 'nonagon': 9, 'octagon': 10, 'parallelogram': 11, 'pentagon': 12, 'prism': 13, 'pyramid': 14, 'rectangle': 15, 'rhombus': 16, 'sphere': 17, 'square': 18, 'tetrahedron': 19, 'trapezoid': 20, 'triangle': 21}\n"
     ]
    },
    {
     "name": "stdout",
     "output_type": "stream",
     "text": [
      "Ingresa el número de la forma correcta:  2\n"
     ]
    },
    {
     "name": "stdout",
     "output_type": "stream",
     "text": [
      "Imagen guardada en: D:\\Descargas 2.0\\SEMESTREVII\\InteraccionHumanoComputador\\PrimeraTarea\\AnalisiOfSolidAndPlane\\data\\raw\\cube\\cube_164.jpg\n",
      "Cámara activada. Dibuja un rectángulo alrededor del objeto con el mouse y presiona 'c' para capturar. Presiona 'q' para salir.\n",
      "Forma predicha: square (Confianza: 50.03%)\n"
     ]
    },
    {
     "name": "stdout",
     "output_type": "stream",
     "text": [
      "¿Es correcto? (s/n, o 'q' para salir y reentrenar):  n\n"
     ]
    },
    {
     "name": "stdout",
     "output_type": "stream",
     "text": [
      "Selecciona la forma correcta (0-23): {'circle': 0, 'cone': 1, 'cube': 2, 'cuboid': 3, 'cylinder': 4, 'dodecahedron': 5, 'ellipse': 6, 'heptagon': 7, 'hexagon': 8, 'nonagon': 9, 'octagon': 10, 'parallelogram': 11, 'pentagon': 12, 'prism': 13, 'pyramid': 14, 'rectangle': 15, 'rhombus': 16, 'sphere': 17, 'square': 18, 'tetrahedron': 19, 'trapezoid': 20, 'triangle': 21}\n"
     ]
    },
    {
     "name": "stdout",
     "output_type": "stream",
     "text": [
      "Ingresa el número de la forma correcta:  2\n"
     ]
    },
    {
     "name": "stdout",
     "output_type": "stream",
     "text": [
      "Imagen guardada en: D:\\Descargas 2.0\\SEMESTREVII\\InteraccionHumanoComputador\\PrimeraTarea\\AnalisiOfSolidAndPlane\\data\\raw\\cube\\cube_165.jpg\n",
      "Cámara activada. Dibuja un rectángulo alrededor del objeto con el mouse y presiona 'c' para capturar. Presiona 'q' para salir.\n",
      "Forma predicha: parallelogram (Confianza: 59.37%)\n"
     ]
    },
    {
     "name": "stdout",
     "output_type": "stream",
     "text": [
      "¿Es correcto? (s/n, o 'q' para salir y reentrenar):  n\n"
     ]
    },
    {
     "name": "stdout",
     "output_type": "stream",
     "text": [
      "Selecciona la forma correcta (0-23): {'circle': 0, 'cone': 1, 'cube': 2, 'cuboid': 3, 'cylinder': 4, 'dodecahedron': 5, 'ellipse': 6, 'heptagon': 7, 'hexagon': 8, 'nonagon': 9, 'octagon': 10, 'parallelogram': 11, 'pentagon': 12, 'prism': 13, 'pyramid': 14, 'rectangle': 15, 'rhombus': 16, 'sphere': 17, 'square': 18, 'tetrahedron': 19, 'trapezoid': 20, 'triangle': 21}\n"
     ]
    },
    {
     "name": "stdout",
     "output_type": "stream",
     "text": [
      "Ingresa el número de la forma correcta:  2\n"
     ]
    },
    {
     "name": "stdout",
     "output_type": "stream",
     "text": [
      "Imagen guardada en: D:\\Descargas 2.0\\SEMESTREVII\\InteraccionHumanoComputador\\PrimeraTarea\\AnalisiOfSolidAndPlane\\data\\raw\\cube\\cube_166.jpg\n",
      "Cámara activada. Dibuja un rectángulo alrededor del objeto con el mouse y presiona 'c' para capturar. Presiona 'q' para salir.\n",
      "Forma predicha: prism (Confianza: 90.87%)\n"
     ]
    },
    {
     "name": "stdout",
     "output_type": "stream",
     "text": [
      "¿Es correcto? (s/n, o 'q' para salir y reentrenar):  n\n"
     ]
    },
    {
     "name": "stdout",
     "output_type": "stream",
     "text": [
      "Selecciona la forma correcta (0-23): {'circle': 0, 'cone': 1, 'cube': 2, 'cuboid': 3, 'cylinder': 4, 'dodecahedron': 5, 'ellipse': 6, 'heptagon': 7, 'hexagon': 8, 'nonagon': 9, 'octagon': 10, 'parallelogram': 11, 'pentagon': 12, 'prism': 13, 'pyramid': 14, 'rectangle': 15, 'rhombus': 16, 'sphere': 17, 'square': 18, 'tetrahedron': 19, 'trapezoid': 20, 'triangle': 21}\n"
     ]
    },
    {
     "name": "stdout",
     "output_type": "stream",
     "text": [
      "Ingresa el número de la forma correcta:  2\n"
     ]
    },
    {
     "name": "stdout",
     "output_type": "stream",
     "text": [
      "Imagen guardada en: D:\\Descargas 2.0\\SEMESTREVII\\InteraccionHumanoComputador\\PrimeraTarea\\AnalisiOfSolidAndPlane\\data\\raw\\cube\\cube_167.jpg\n",
      "Cámara activada. Dibuja un rectángulo alrededor del objeto con el mouse y presiona 'c' para capturar. Presiona 'q' para salir.\n",
      "Forma predicha: parallelogram (Confianza: 51.64%)\n"
     ]
    },
    {
     "name": "stdout",
     "output_type": "stream",
     "text": [
      "¿Es correcto? (s/n, o 'q' para salir y reentrenar):  n\n"
     ]
    },
    {
     "name": "stdout",
     "output_type": "stream",
     "text": [
      "Selecciona la forma correcta (0-23): {'circle': 0, 'cone': 1, 'cube': 2, 'cuboid': 3, 'cylinder': 4, 'dodecahedron': 5, 'ellipse': 6, 'heptagon': 7, 'hexagon': 8, 'nonagon': 9, 'octagon': 10, 'parallelogram': 11, 'pentagon': 12, 'prism': 13, 'pyramid': 14, 'rectangle': 15, 'rhombus': 16, 'sphere': 17, 'square': 18, 'tetrahedron': 19, 'trapezoid': 20, 'triangle': 21}\n"
     ]
    },
    {
     "name": "stdout",
     "output_type": "stream",
     "text": [
      "Ingresa el número de la forma correcta:  2\n"
     ]
    },
    {
     "name": "stdout",
     "output_type": "stream",
     "text": [
      "Imagen guardada en: D:\\Descargas 2.0\\SEMESTREVII\\InteraccionHumanoComputador\\PrimeraTarea\\AnalisiOfSolidAndPlane\\data\\raw\\cube\\cube_168.jpg\n",
      "Cámara activada. Dibuja un rectángulo alrededor del objeto con el mouse y presiona 'c' para capturar. Presiona 'q' para salir.\n",
      "Forma predicha: prism (Confianza: 93.42%)\n"
     ]
    },
    {
     "name": "stdout",
     "output_type": "stream",
     "text": [
      "¿Es correcto? (s/n, o 'q' para salir y reentrenar):  n\n"
     ]
    },
    {
     "name": "stdout",
     "output_type": "stream",
     "text": [
      "Selecciona la forma correcta (0-23): {'circle': 0, 'cone': 1, 'cube': 2, 'cuboid': 3, 'cylinder': 4, 'dodecahedron': 5, 'ellipse': 6, 'heptagon': 7, 'hexagon': 8, 'nonagon': 9, 'octagon': 10, 'parallelogram': 11, 'pentagon': 12, 'prism': 13, 'pyramid': 14, 'rectangle': 15, 'rhombus': 16, 'sphere': 17, 'square': 18, 'tetrahedron': 19, 'trapezoid': 20, 'triangle': 21}\n"
     ]
    },
    {
     "name": "stdout",
     "output_type": "stream",
     "text": [
      "Ingresa el número de la forma correcta:  2\n"
     ]
    },
    {
     "name": "stdout",
     "output_type": "stream",
     "text": [
      "Imagen guardada en: D:\\Descargas 2.0\\SEMESTREVII\\InteraccionHumanoComputador\\PrimeraTarea\\AnalisiOfSolidAndPlane\\data\\raw\\cube\\cube_169.jpg\n",
      "Cámara activada. Dibuja un rectángulo alrededor del objeto con el mouse y presiona 'c' para capturar. Presiona 'q' para salir.\n",
      "Forma predicha: prism (Confianza: 95.01%)\n"
     ]
    },
    {
     "name": "stdout",
     "output_type": "stream",
     "text": [
      "¿Es correcto? (s/n, o 'q' para salir y reentrenar):  n\n"
     ]
    },
    {
     "name": "stdout",
     "output_type": "stream",
     "text": [
      "Selecciona la forma correcta (0-23): {'circle': 0, 'cone': 1, 'cube': 2, 'cuboid': 3, 'cylinder': 4, 'dodecahedron': 5, 'ellipse': 6, 'heptagon': 7, 'hexagon': 8, 'nonagon': 9, 'octagon': 10, 'parallelogram': 11, 'pentagon': 12, 'prism': 13, 'pyramid': 14, 'rectangle': 15, 'rhombus': 16, 'sphere': 17, 'square': 18, 'tetrahedron': 19, 'trapezoid': 20, 'triangle': 21}\n"
     ]
    },
    {
     "name": "stdout",
     "output_type": "stream",
     "text": [
      "Ingresa el número de la forma correcta:  2\n"
     ]
    },
    {
     "name": "stdout",
     "output_type": "stream",
     "text": [
      "Imagen guardada en: D:\\Descargas 2.0\\SEMESTREVII\\InteraccionHumanoComputador\\PrimeraTarea\\AnalisiOfSolidAndPlane\\data\\raw\\cube\\cube_170.jpg\n",
      "Cámara activada. Dibuja un rectángulo alrededor del objeto con el mouse y presiona 'c' para capturar. Presiona 'q' para salir.\n",
      "Forma predicha: prism (Confianza: 47.15%)\n"
     ]
    },
    {
     "name": "stdout",
     "output_type": "stream",
     "text": [
      "¿Es correcto? (s/n, o 'q' para salir y reentrenar):  n\n"
     ]
    },
    {
     "name": "stdout",
     "output_type": "stream",
     "text": [
      "Selecciona la forma correcta (0-23): {'circle': 0, 'cone': 1, 'cube': 2, 'cuboid': 3, 'cylinder': 4, 'dodecahedron': 5, 'ellipse': 6, 'heptagon': 7, 'hexagon': 8, 'nonagon': 9, 'octagon': 10, 'parallelogram': 11, 'pentagon': 12, 'prism': 13, 'pyramid': 14, 'rectangle': 15, 'rhombus': 16, 'sphere': 17, 'square': 18, 'tetrahedron': 19, 'trapezoid': 20, 'triangle': 21}\n"
     ]
    },
    {
     "name": "stdout",
     "output_type": "stream",
     "text": [
      "Ingresa el número de la forma correcta:  2\n"
     ]
    },
    {
     "name": "stdout",
     "output_type": "stream",
     "text": [
      "Imagen guardada en: D:\\Descargas 2.0\\SEMESTREVII\\InteraccionHumanoComputador\\PrimeraTarea\\AnalisiOfSolidAndPlane\\data\\raw\\cube\\cube_171.jpg\n",
      "Cámara activada. Dibuja un rectángulo alrededor del objeto con el mouse y presiona 'c' para capturar. Presiona 'q' para salir.\n",
      "Forma predicha: prism (Confianza: 74.08%)\n"
     ]
    },
    {
     "name": "stdout",
     "output_type": "stream",
     "text": [
      "¿Es correcto? (s/n, o 'q' para salir y reentrenar):  n\n"
     ]
    },
    {
     "name": "stdout",
     "output_type": "stream",
     "text": [
      "Selecciona la forma correcta (0-23): {'circle': 0, 'cone': 1, 'cube': 2, 'cuboid': 3, 'cylinder': 4, 'dodecahedron': 5, 'ellipse': 6, 'heptagon': 7, 'hexagon': 8, 'nonagon': 9, 'octagon': 10, 'parallelogram': 11, 'pentagon': 12, 'prism': 13, 'pyramid': 14, 'rectangle': 15, 'rhombus': 16, 'sphere': 17, 'square': 18, 'tetrahedron': 19, 'trapezoid': 20, 'triangle': 21}\n"
     ]
    },
    {
     "name": "stdout",
     "output_type": "stream",
     "text": [
      "Ingresa el número de la forma correcta:  2\n"
     ]
    },
    {
     "name": "stdout",
     "output_type": "stream",
     "text": [
      "Imagen guardada en: D:\\Descargas 2.0\\SEMESTREVII\\InteraccionHumanoComputador\\PrimeraTarea\\AnalisiOfSolidAndPlane\\data\\raw\\cube\\cube_172.jpg\n",
      "Cámara activada. Dibuja un rectángulo alrededor del objeto con el mouse y presiona 'c' para capturar. Presiona 'q' para salir.\n",
      "Reentrenando modelo con nuevas imágenes...\n",
      "Epoch 1/5\n"
     ]
    },
    {
     "name": "stderr",
     "output_type": "stream",
     "text": [
      "D:\\Descargas 2.0\\SEMESTREVII\\InteraccionHumanoComputador\\PrimeraTarea\\AnalisiOfSolidAndPlane\\venv\\lib\\site-packages\\keras\\src\\trainers\\data_adapters\\py_dataset_adapter.py:121: UserWarning: Your `PyDataset` class should call `super().__init__(**kwargs)` in its constructor. `**kwargs` can include `workers`, `use_multiprocessing`, `max_queue_size`. Do not pass these arguments to `fit()`, as they will be ignored.\n",
      "  self._warn_if_super_not_called()\n"
     ]
    },
    {
     "ename": "ValueError",
     "evalue": "Arguments `target` and `output` must have the same shape. Received: target.shape=(None, 22), output.shape=(None, 24)",
     "output_type": "error",
     "traceback": [
      "\u001b[1;31m---------------------------------------------------------------------------\u001b[0m",
      "\u001b[1;31mValueError\u001b[0m                                Traceback (most recent call last)",
      "Cell \u001b[1;32mIn[1], line 142\u001b[0m\n\u001b[0;32m    140\u001b[0m \u001b[38;5;66;03m# Reentrena el modelo\u001b[39;00m\n\u001b[0;32m    141\u001b[0m \u001b[38;5;28mprint\u001b[39m(\u001b[38;5;124m\"\u001b[39m\u001b[38;5;124mReentrenando modelo con nuevas imágenes...\u001b[39m\u001b[38;5;124m\"\u001b[39m)\n\u001b[1;32m--> 142\u001b[0m \u001b[43mmodel\u001b[49m\u001b[38;5;241;43m.\u001b[39;49m\u001b[43mfit\u001b[49m\u001b[43m(\u001b[49m\u001b[43mtrain_generator\u001b[49m\u001b[43m,\u001b[49m\u001b[43m \u001b[49m\u001b[43mepochs\u001b[49m\u001b[38;5;241;43m=\u001b[39;49m\u001b[38;5;241;43m5\u001b[39;49m\u001b[43m,\u001b[49m\u001b[43m \u001b[49m\u001b[43mvalidation_data\u001b[49m\u001b[38;5;241;43m=\u001b[39;49m\u001b[43mvalidation_generator\u001b[49m\u001b[43m)\u001b[49m\n\u001b[0;32m    144\u001b[0m \u001b[38;5;66;03m# Guarda el modelo actualizado\u001b[39;00m\n\u001b[0;32m    145\u001b[0m model\u001b[38;5;241m.\u001b[39msave(model_path)\n",
      "File \u001b[1;32mD:\\Descargas 2.0\\SEMESTREVII\\InteraccionHumanoComputador\\PrimeraTarea\\AnalisiOfSolidAndPlane\\venv\\lib\\site-packages\\keras\\src\\utils\\traceback_utils.py:122\u001b[0m, in \u001b[0;36mfilter_traceback.<locals>.error_handler\u001b[1;34m(*args, **kwargs)\u001b[0m\n\u001b[0;32m    119\u001b[0m     filtered_tb \u001b[38;5;241m=\u001b[39m _process_traceback_frames(e\u001b[38;5;241m.\u001b[39m__traceback__)\n\u001b[0;32m    120\u001b[0m     \u001b[38;5;66;03m# To get the full stack trace, call:\u001b[39;00m\n\u001b[0;32m    121\u001b[0m     \u001b[38;5;66;03m# `keras.config.disable_traceback_filtering()`\u001b[39;00m\n\u001b[1;32m--> 122\u001b[0m     \u001b[38;5;28;01mraise\u001b[39;00m e\u001b[38;5;241m.\u001b[39mwith_traceback(filtered_tb) \u001b[38;5;28;01mfrom\u001b[39;00m\u001b[38;5;250m \u001b[39m\u001b[38;5;28;01mNone\u001b[39;00m\n\u001b[0;32m    123\u001b[0m \u001b[38;5;28;01mfinally\u001b[39;00m:\n\u001b[0;32m    124\u001b[0m     \u001b[38;5;28;01mdel\u001b[39;00m filtered_tb\n",
      "File \u001b[1;32mD:\\Descargas 2.0\\SEMESTREVII\\InteraccionHumanoComputador\\PrimeraTarea\\AnalisiOfSolidAndPlane\\venv\\lib\\site-packages\\keras\\src\\backend\\tensorflow\\nn.py:669\u001b[0m, in \u001b[0;36mcategorical_crossentropy\u001b[1;34m(target, output, from_logits, axis)\u001b[0m\n\u001b[0;32m    667\u001b[0m \u001b[38;5;28;01mfor\u001b[39;00m e1, e2 \u001b[38;5;129;01min\u001b[39;00m \u001b[38;5;28mzip\u001b[39m(target\u001b[38;5;241m.\u001b[39mshape, output\u001b[38;5;241m.\u001b[39mshape):\n\u001b[0;32m    668\u001b[0m     \u001b[38;5;28;01mif\u001b[39;00m e1 \u001b[38;5;129;01mis\u001b[39;00m \u001b[38;5;129;01mnot\u001b[39;00m \u001b[38;5;28;01mNone\u001b[39;00m \u001b[38;5;129;01mand\u001b[39;00m e2 \u001b[38;5;129;01mis\u001b[39;00m \u001b[38;5;129;01mnot\u001b[39;00m \u001b[38;5;28;01mNone\u001b[39;00m \u001b[38;5;129;01mand\u001b[39;00m e1 \u001b[38;5;241m!=\u001b[39m e2:\n\u001b[1;32m--> 669\u001b[0m         \u001b[38;5;28;01mraise\u001b[39;00m \u001b[38;5;167;01mValueError\u001b[39;00m(\n\u001b[0;32m    670\u001b[0m             \u001b[38;5;124m\"\u001b[39m\u001b[38;5;124mArguments `target` and `output` must have the same shape. \u001b[39m\u001b[38;5;124m\"\u001b[39m\n\u001b[0;32m    671\u001b[0m             \u001b[38;5;124m\"\u001b[39m\u001b[38;5;124mReceived: \u001b[39m\u001b[38;5;124m\"\u001b[39m\n\u001b[0;32m    672\u001b[0m             \u001b[38;5;124mf\u001b[39m\u001b[38;5;124m\"\u001b[39m\u001b[38;5;124mtarget.shape=\u001b[39m\u001b[38;5;132;01m{\u001b[39;00mtarget\u001b[38;5;241m.\u001b[39mshape\u001b[38;5;132;01m}\u001b[39;00m\u001b[38;5;124m, output.shape=\u001b[39m\u001b[38;5;132;01m{\u001b[39;00moutput\u001b[38;5;241m.\u001b[39mshape\u001b[38;5;132;01m}\u001b[39;00m\u001b[38;5;124m\"\u001b[39m\n\u001b[0;32m    673\u001b[0m         )\n\u001b[0;32m    675\u001b[0m output, from_logits \u001b[38;5;241m=\u001b[39m _get_logits(\n\u001b[0;32m    676\u001b[0m     output, from_logits, \u001b[38;5;124m\"\u001b[39m\u001b[38;5;124mSoftmax\u001b[39m\u001b[38;5;124m\"\u001b[39m, \u001b[38;5;124m\"\u001b[39m\u001b[38;5;124mcategorical_crossentropy\u001b[39m\u001b[38;5;124m\"\u001b[39m\n\u001b[0;32m    677\u001b[0m )\n\u001b[0;32m    678\u001b[0m \u001b[38;5;28;01mif\u001b[39;00m from_logits:\n",
      "\u001b[1;31mValueError\u001b[0m: Arguments `target` and `output` must have the same shape. Received: target.shape=(None, 22), output.shape=(None, 24)"
     ]
    },
    {
     "name": "stdout",
     "output_type": "stream",
     "text": [
      "Cámara activada. Dibuja un rectángulo alrededor del objeto con el mouse y presiona 'c' para capturar. Presiona 'q' para salir.\n",
      "Forma predicha: rhombus\n"
     ]
    },
    {
     "name": "stdout",
     "output_type": "stream",
     "text": [
      "¿Es correcto? (s/n, o 'q' para salir):  n\n"
     ]
    },
    {
     "name": "stdout",
     "output_type": "stream",
     "text": [
      "Selecciona la forma correcta (0-23): {'circle': 0, 'cone': 1, 'cube': 2, 'cuboid': 3, 'cylinder': 4, 'decagon': 5, 'dodecahedron': 6, 'ellipse': 7, 'heptagon': 8, 'hexagon': 9, 'nonagon': 10, 'octagon': 11, 'octahedron': 12, 'parallelogram': 13, 'pentagon': 14, 'prism': 15, 'pyramid': 16, 'rectangle': 17, 'rhombus': 18, 'sphere': 19, 'square': 20, 'tetrahedron': 21, 'trapezoid': 22, 'triangle': 23}\n"
     ]
    },
    {
     "name": "stdout",
     "output_type": "stream",
     "text": [
      "Ingresa el número de la forma correcta:  0\n"
     ]
    },
    {
     "name": "stdout",
     "output_type": "stream",
     "text": [
      "Cámara activada. Dibuja un rectángulo alrededor del objeto con el mouse y presiona 'c' para capturar. Presiona 'q' para salir.\n",
      "Forma predicha: rhombus\n"
     ]
    },
    {
     "name": "stdout",
     "output_type": "stream",
     "text": [
      "¿Es correcto? (s/n, o 'q' para salir):  s\n"
     ]
    },
    {
     "name": "stdout",
     "output_type": "stream",
     "text": [
      "Cámara activada. Dibuja un rectángulo alrededor del objeto con el mouse y presiona 'c' para capturar. Presiona 'q' para salir.\n",
      "Forma predicha: parallelogram\n"
     ]
    },
    {
     "name": "stdout",
     "output_type": "stream",
     "text": [
      "¿Es correcto? (s/n, o 'q' para salir):  s\n"
     ]
    },
    {
     "name": "stdout",
     "output_type": "stream",
     "text": [
      "Cámara activada. Dibuja un rectángulo alrededor del objeto con el mouse y presiona 'c' para capturar. Presiona 'q' para salir.\n",
      "Forma predicha: parallelogram\n"
     ]
    },
    {
     "name": "stdout",
     "output_type": "stream",
     "text": [
      "¿Es correcto? (s/n, o 'q' para salir):  n\n"
     ]
    },
    {
     "name": "stdout",
     "output_type": "stream",
     "text": [
      "Selecciona la forma correcta (0-23): {'circle': 0, 'cone': 1, 'cube': 2, 'cuboid': 3, 'cylinder': 4, 'decagon': 5, 'dodecahedron': 6, 'ellipse': 7, 'heptagon': 8, 'hexagon': 9, 'nonagon': 10, 'octagon': 11, 'octahedron': 12, 'parallelogram': 13, 'pentagon': 14, 'prism': 15, 'pyramid': 16, 'rectangle': 17, 'rhombus': 18, 'sphere': 19, 'square': 20, 'tetrahedron': 21, 'trapezoid': 22, 'triangle': 23}\n"
     ]
    },
    {
     "name": "stdout",
     "output_type": "stream",
     "text": [
      "Ingresa el número de la forma correcta:  23\n"
     ]
    },
    {
     "name": "stdout",
     "output_type": "stream",
     "text": [
      "Cámara activada. Dibuja un rectángulo alrededor del objeto con el mouse y presiona 'c' para capturar. Presiona 'q' para salir.\n",
      "Forma predicha: parallelogram\n"
     ]
    },
    {
     "name": "stdout",
     "output_type": "stream",
     "text": [
      "¿Es correcto? (s/n, o 'q' para salir):  n\n"
     ]
    },
    {
     "name": "stdout",
     "output_type": "stream",
     "text": [
      "Selecciona la forma correcta (0-23): {'circle': 0, 'cone': 1, 'cube': 2, 'cuboid': 3, 'cylinder': 4, 'decagon': 5, 'dodecahedron': 6, 'ellipse': 7, 'heptagon': 8, 'hexagon': 9, 'nonagon': 10, 'octagon': 11, 'octahedron': 12, 'parallelogram': 13, 'pentagon': 14, 'prism': 15, 'pyramid': 16, 'rectangle': 17, 'rhombus': 18, 'sphere': 19, 'square': 20, 'tetrahedron': 21, 'trapezoid': 22, 'triangle': 23}\n"
     ]
    },
    {
     "name": "stdout",
     "output_type": "stream",
     "text": [
      "Ingresa el número de la forma correcta:  17\n"
     ]
    },
    {
     "name": "stdout",
     "output_type": "stream",
     "text": [
      "Cámara activada. Dibuja un rectángulo alrededor del objeto con el mouse y presiona 'c' para capturar. Presiona 'q' para salir.\n",
      "Forma predicha: rectangle\n"
     ]
    },
    {
     "name": "stdout",
     "output_type": "stream",
     "text": [
      "¿Es correcto? (s/n, o 'q' para salir):  s\n"
     ]
    },
    {
     "name": "stdout",
     "output_type": "stream",
     "text": [
      "Cámara activada. Dibuja un rectángulo alrededor del objeto con el mouse y presiona 'c' para capturar. Presiona 'q' para salir.\n"
     ]
    },
    {
     "ename": "NameError",
     "evalue": "name 'ImageDataGenerator' is not defined",
     "output_type": "error",
     "traceback": [
      "\u001b[1;31m---------------------------------------------------------------------------\u001b[0m",
      "\u001b[1;31mNameError\u001b[0m                                 Traceback (most recent call last)",
      "Cell \u001b[1;32mIn[1], line 125\u001b[0m\n\u001b[0;32m    122\u001b[0m X_train, X_val, y_train, y_val \u001b[38;5;241m=\u001b[39m train_test_split(new_images, new_labels, test_size\u001b[38;5;241m=\u001b[39m\u001b[38;5;241m0.2\u001b[39m, random_state\u001b[38;5;241m=\u001b[39m\u001b[38;5;241m42\u001b[39m)\n\u001b[0;32m    124\u001b[0m \u001b[38;5;66;03m# Augmentación\u001b[39;00m\n\u001b[1;32m--> 125\u001b[0m datagen \u001b[38;5;241m=\u001b[39m \u001b[43mImageDataGenerator\u001b[49m(rotation_range\u001b[38;5;241m=\u001b[39m\u001b[38;5;241m20\u001b[39m, width_shift_range\u001b[38;5;241m=\u001b[39m\u001b[38;5;241m0.2\u001b[39m, height_shift_range\u001b[38;5;241m=\u001b[39m\u001b[38;5;241m0.2\u001b[39m, horizontal_flip\u001b[38;5;241m=\u001b[39m\u001b[38;5;28;01mTrue\u001b[39;00m)\n\u001b[0;32m    126\u001b[0m train_generator \u001b[38;5;241m=\u001b[39m datagen\u001b[38;5;241m.\u001b[39mflow(X_train, y_train, batch_size\u001b[38;5;241m=\u001b[39m\u001b[38;5;241m16\u001b[39m)\n\u001b[0;32m    127\u001b[0m validation_generator \u001b[38;5;241m=\u001b[39m datagen\u001b[38;5;241m.\u001b[39mflow(X_val, y_val, batch_size\u001b[38;5;241m=\u001b[39m\u001b[38;5;241m16\u001b[39m)\n",
      "\u001b[1;31mNameError\u001b[0m: name 'ImageDataGenerator' is not defined"
     ]
    },
    {
     "name": "stdout",
     "output_type": "stream",
     "text": [
      "¿Es correcto? (s/n, o 'q' para salir):  s\n"
     ]
    },
    {
     "name": "stdout",
     "output_type": "stream",
     "text": [
      "Cámara activada. Dibuja un rectángulo alrededor del objeto con el mouse y presiona 'c' para capturar.\n",
      "Forma predicha: rectangle\n"
     ]
    },
    {
     "name": "stdout",
     "output_type": "stream",
     "text": [
      "¿Es correcto? (s/n, o 'q' para salir):  s\n"
     ]
    },
    {
     "name": "stdout",
     "output_type": "stream",
     "text": [
      "Cámara activada. Dibuja un rectángulo alrededor del objeto con el mouse y presiona 'c' para capturar.\n",
      "Forma predicha: rhombus\n"
     ]
    },
    {
     "name": "stdout",
     "output_type": "stream",
     "text": [
      "¿Es correcto? (s/n, o 'q' para salir):  n\n"
     ]
    },
    {
     "name": "stdout",
     "output_type": "stream",
     "text": [
      "Selecciona la forma correcta (0-23): {'circle': 0, 'cone': 1, 'cube': 2, 'cuboid': 3, 'cylinder': 4, 'decagon': 5, 'dodecahedron': 6, 'ellipse': 7, 'heptagon': 8, 'hexagon': 9, 'nonagon': 10, 'octagon': 11, 'octahedron': 12, 'parallelogram': 13, 'pentagon': 14, 'prism': 15, 'pyramid': 16, 'rectangle': 17, 'rhombus': 18, 'sphere': 19, 'square': 20, 'tetrahedron': 21, 'trapezoid': 22, 'triangle': 23}\n"
     ]
    },
    {
     "name": "stdout",
     "output_type": "stream",
     "text": [
      "Ingresa el número de la forma correcta:  0\n"
     ]
    },
    {
     "name": "stdout",
     "output_type": "stream",
     "text": [
      "Cámara activada. Dibuja un rectángulo alrededor del objeto con el mouse y presiona 'c' para capturar.\n",
      "Forma predicha: parallelogram\n"
     ]
    },
    {
     "name": "stdout",
     "output_type": "stream",
     "text": [
      "¿Es correcto? (s/n, o 'q' para salir):  n\n"
     ]
    },
    {
     "name": "stdout",
     "output_type": "stream",
     "text": [
      "Selecciona la forma correcta (0-23): {'circle': 0, 'cone': 1, 'cube': 2, 'cuboid': 3, 'cylinder': 4, 'decagon': 5, 'dodecahedron': 6, 'ellipse': 7, 'heptagon': 8, 'hexagon': 9, 'nonagon': 10, 'octagon': 11, 'octahedron': 12, 'parallelogram': 13, 'pentagon': 14, 'prism': 15, 'pyramid': 16, 'rectangle': 17, 'rhombus': 18, 'sphere': 19, 'square': 20, 'tetrahedron': 21, 'trapezoid': 22, 'triangle': 23}\n"
     ]
    },
    {
     "name": "stdout",
     "output_type": "stream",
     "text": [
      "Ingresa el número de la forma correcta:  4\n"
     ]
    },
    {
     "name": "stdout",
     "output_type": "stream",
     "text": [
      "Cámara activada. Dibuja un rectángulo alrededor del objeto con el mouse y presiona 'c' para capturar.\n",
      "Forma predicha: parallelogram\n"
     ]
    },
    {
     "name": "stdout",
     "output_type": "stream",
     "text": [
      "¿Es correcto? (s/n, o 'q' para salir):  n\n"
     ]
    },
    {
     "name": "stdout",
     "output_type": "stream",
     "text": [
      "Selecciona la forma correcta (0-23): {'circle': 0, 'cone': 1, 'cube': 2, 'cuboid': 3, 'cylinder': 4, 'decagon': 5, 'dodecahedron': 6, 'ellipse': 7, 'heptagon': 8, 'hexagon': 9, 'nonagon': 10, 'octagon': 11, 'octahedron': 12, 'parallelogram': 13, 'pentagon': 14, 'prism': 15, 'pyramid': 16, 'rectangle': 17, 'rhombus': 18, 'sphere': 19, 'square': 20, 'tetrahedron': 21, 'trapezoid': 22, 'triangle': 23}\n"
     ]
    },
    {
     "name": "stdout",
     "output_type": "stream",
     "text": [
      "Ingresa el número de la forma correcta:  7\n"
     ]
    },
    {
     "name": "stdout",
     "output_type": "stream",
     "text": [
      "Cámara activada. Dibuja un rectángulo alrededor del objeto con el mouse y presiona 'c' para capturar.\n",
      "Forma predicha: rectangle\n"
     ]
    },
    {
     "name": "stdout",
     "output_type": "stream",
     "text": [
      "¿Es correcto? (s/n, o 'q' para salir):  n\n"
     ]
    },
    {
     "name": "stdout",
     "output_type": "stream",
     "text": [
      "Selecciona la forma correcta (0-23): {'circle': 0, 'cone': 1, 'cube': 2, 'cuboid': 3, 'cylinder': 4, 'decagon': 5, 'dodecahedron': 6, 'ellipse': 7, 'heptagon': 8, 'hexagon': 9, 'nonagon': 10, 'octagon': 11, 'octahedron': 12, 'parallelogram': 13, 'pentagon': 14, 'prism': 15, 'pyramid': 16, 'rectangle': 17, 'rhombus': 18, 'sphere': 19, 'square': 20, 'tetrahedron': 21, 'trapezoid': 22, 'triangle': 23}\n"
     ]
    },
    {
     "name": "stdout",
     "output_type": "stream",
     "text": [
      "Ingresa el número de la forma correcta:  2\n"
     ]
    },
    {
     "name": "stdout",
     "output_type": "stream",
     "text": [
      "Cámara activada. Dibuja un rectángulo alrededor del objeto con el mouse y presiona 'c' para capturar.\n",
      "Forma predicha: parallelogram\n"
     ]
    },
    {
     "name": "stdout",
     "output_type": "stream",
     "text": [
      "¿Es correcto? (s/n, o 'q' para salir):  n\n"
     ]
    },
    {
     "name": "stdout",
     "output_type": "stream",
     "text": [
      "Selecciona la forma correcta (0-23): {'circle': 0, 'cone': 1, 'cube': 2, 'cuboid': 3, 'cylinder': 4, 'decagon': 5, 'dodecahedron': 6, 'ellipse': 7, 'heptagon': 8, 'hexagon': 9, 'nonagon': 10, 'octagon': 11, 'octahedron': 12, 'parallelogram': 13, 'pentagon': 14, 'prism': 15, 'pyramid': 16, 'rectangle': 17, 'rhombus': 18, 'sphere': 19, 'square': 20, 'tetrahedron': 21, 'trapezoid': 22, 'triangle': 23}\n"
     ]
    },
    {
     "name": "stdout",
     "output_type": "stream",
     "text": [
      "Ingresa el número de la forma correcta:  2\n"
     ]
    },
    {
     "name": "stdout",
     "output_type": "stream",
     "text": [
      "Cámara activada. Dibuja un rectángulo alrededor del objeto con el mouse y presiona 'c' para capturar.\n",
      "Forma predicha: parallelogram\n"
     ]
    },
    {
     "name": "stdout",
     "output_type": "stream",
     "text": [
      "¿Es correcto? (s/n, o 'q' para salir):  n\n"
     ]
    },
    {
     "name": "stdout",
     "output_type": "stream",
     "text": [
      "Selecciona la forma correcta (0-23): {'circle': 0, 'cone': 1, 'cube': 2, 'cuboid': 3, 'cylinder': 4, 'decagon': 5, 'dodecahedron': 6, 'ellipse': 7, 'heptagon': 8, 'hexagon': 9, 'nonagon': 10, 'octagon': 11, 'octahedron': 12, 'parallelogram': 13, 'pentagon': 14, 'prism': 15, 'pyramid': 16, 'rectangle': 17, 'rhombus': 18, 'sphere': 19, 'square': 20, 'tetrahedron': 21, 'trapezoid': 22, 'triangle': 23}\n"
     ]
    },
    {
     "name": "stdout",
     "output_type": "stream",
     "text": [
      "Ingresa el número de la forma correcta:  4\n"
     ]
    },
    {
     "name": "stdout",
     "output_type": "stream",
     "text": [
      "Cámara activada. Dibuja un rectángulo alrededor del objeto con el mouse y presiona 'c' para capturar.\n",
      "Forma predicha: parallelogram\n"
     ]
    },
    {
     "name": "stdout",
     "output_type": "stream",
     "text": [
      "¿Es correcto? (s/n, o 'q' para salir):  n\n"
     ]
    },
    {
     "name": "stdout",
     "output_type": "stream",
     "text": [
      "Selecciona la forma correcta (0-23): {'circle': 0, 'cone': 1, 'cube': 2, 'cuboid': 3, 'cylinder': 4, 'decagon': 5, 'dodecahedron': 6, 'ellipse': 7, 'heptagon': 8, 'hexagon': 9, 'nonagon': 10, 'octagon': 11, 'octahedron': 12, 'parallelogram': 13, 'pentagon': 14, 'prism': 15, 'pyramid': 16, 'rectangle': 17, 'rhombus': 18, 'sphere': 19, 'square': 20, 'tetrahedron': 21, 'trapezoid': 22, 'triangle': 23}\n"
     ]
    },
    {
     "name": "stdout",
     "output_type": "stream",
     "text": [
      "Ingresa el número de la forma correcta:  4\n"
     ]
    },
    {
     "name": "stdout",
     "output_type": "stream",
     "text": [
      "Cámara activada. Dibuja un rectángulo alrededor del objeto con el mouse y presiona 'c' para capturar.\n",
      "Forma predicha: rectangle\n"
     ]
    },
    {
     "name": "stdout",
     "output_type": "stream",
     "text": [
      "¿Es correcto? (s/n, o 'q' para salir):  s\n"
     ]
    },
    {
     "name": "stdout",
     "output_type": "stream",
     "text": [
      "Cámara activada. Dibuja un rectángulo alrededor del objeto con el mouse y presiona 'c' para capturar.\n",
      "Forma predicha: parallelogram\n"
     ]
    },
    {
     "name": "stdout",
     "output_type": "stream",
     "text": [
      "¿Es correcto? (s/n, o 'q' para salir):  n\n"
     ]
    },
    {
     "name": "stdout",
     "output_type": "stream",
     "text": [
      "Selecciona la forma correcta (0-23): {'circle': 0, 'cone': 1, 'cube': 2, 'cuboid': 3, 'cylinder': 4, 'decagon': 5, 'dodecahedron': 6, 'ellipse': 7, 'heptagon': 8, 'hexagon': 9, 'nonagon': 10, 'octagon': 11, 'octahedron': 12, 'parallelogram': 13, 'pentagon': 14, 'prism': 15, 'pyramid': 16, 'rectangle': 17, 'rhombus': 18, 'sphere': 19, 'square': 20, 'tetrahedron': 21, 'trapezoid': 22, 'triangle': 23}\n"
     ]
    },
    {
     "name": "stdout",
     "output_type": "stream",
     "text": [
      "Ingresa el número de la forma correcta:  4\n"
     ]
    },
    {
     "name": "stdout",
     "output_type": "stream",
     "text": [
      "Cámara activada. Dibuja un rectángulo alrededor del objeto con el mouse y presiona 'c' para capturar.\n",
      "Forma predicha: square\n"
     ]
    },
    {
     "name": "stdout",
     "output_type": "stream",
     "text": [
      "¿Es correcto? (s/n, o 'q' para salir):  s\n"
     ]
    },
    {
     "name": "stdout",
     "output_type": "stream",
     "text": [
      "Cámara activada. Dibuja un rectángulo alrededor del objeto con el mouse y presiona 'c' para capturar.\n",
      "Forma predicha: rectangle\n"
     ]
    },
    {
     "name": "stdout",
     "output_type": "stream",
     "text": [
      "¿Es correcto? (s/n, o 'q' para salir):  n\n"
     ]
    },
    {
     "name": "stdout",
     "output_type": "stream",
     "text": [
      "Selecciona la forma correcta (0-23): {'circle': 0, 'cone': 1, 'cube': 2, 'cuboid': 3, 'cylinder': 4, 'decagon': 5, 'dodecahedron': 6, 'ellipse': 7, 'heptagon': 8, 'hexagon': 9, 'nonagon': 10, 'octagon': 11, 'octahedron': 12, 'parallelogram': 13, 'pentagon': 14, 'prism': 15, 'pyramid': 16, 'rectangle': 17, 'rhombus': 18, 'sphere': 19, 'square': 20, 'tetrahedron': 21, 'trapezoid': 22, 'triangle': 23}\n"
     ]
    },
    {
     "name": "stdout",
     "output_type": "stream",
     "text": [
      "Ingresa el número de la forma correcta:  3\n"
     ]
    },
    {
     "name": "stdout",
     "output_type": "stream",
     "text": [
      "Cámara activada. Dibuja un rectángulo alrededor del objeto con el mouse y presiona 'c' para capturar.\n",
      "Forma predicha: parallelogram\n"
     ]
    },
    {
     "name": "stdout",
     "output_type": "stream",
     "text": [
      "¿Es correcto? (s/n, o 'q' para salir):  n\n"
     ]
    },
    {
     "name": "stdout",
     "output_type": "stream",
     "text": [
      "Selecciona la forma correcta (0-23): {'circle': 0, 'cone': 1, 'cube': 2, 'cuboid': 3, 'cylinder': 4, 'decagon': 5, 'dodecahedron': 6, 'ellipse': 7, 'heptagon': 8, 'hexagon': 9, 'nonagon': 10, 'octagon': 11, 'octahedron': 12, 'parallelogram': 13, 'pentagon': 14, 'prism': 15, 'pyramid': 16, 'rectangle': 17, 'rhombus': 18, 'sphere': 19, 'square': 20, 'tetrahedron': 21, 'trapezoid': 22, 'triangle': 23}\n"
     ]
    },
    {
     "name": "stdout",
     "output_type": "stream",
     "text": [
      "Ingresa el número de la forma correcta:  0\n"
     ]
    },
    {
     "name": "stdout",
     "output_type": "stream",
     "text": [
      "Cámara activada. Dibuja un rectángulo alrededor del objeto con el mouse y presiona 'c' para capturar.\n",
      "Forma predicha: parallelogram\n"
     ]
    },
    {
     "name": "stdout",
     "output_type": "stream",
     "text": [
      "¿Es correcto? (s/n, o 'q' para salir):  n\n"
     ]
    },
    {
     "name": "stdout",
     "output_type": "stream",
     "text": [
      "Selecciona la forma correcta (0-23): {'circle': 0, 'cone': 1, 'cube': 2, 'cuboid': 3, 'cylinder': 4, 'decagon': 5, 'dodecahedron': 6, 'ellipse': 7, 'heptagon': 8, 'hexagon': 9, 'nonagon': 10, 'octagon': 11, 'octahedron': 12, 'parallelogram': 13, 'pentagon': 14, 'prism': 15, 'pyramid': 16, 'rectangle': 17, 'rhombus': 18, 'sphere': 19, 'square': 20, 'tetrahedron': 21, 'trapezoid': 22, 'triangle': 23}\n"
     ]
    },
    {
     "name": "stdout",
     "output_type": "stream",
     "text": [
      "Ingresa el número de la forma correcta:  0\n"
     ]
    },
    {
     "name": "stdout",
     "output_type": "stream",
     "text": [
      "Cámara activada. Dibuja un rectángulo alrededor del objeto con el mouse y presiona 'c' para capturar.\n",
      "Forma predicha: circle\n"
     ]
    },
    {
     "name": "stdout",
     "output_type": "stream",
     "text": [
      "¿Es correcto? (s/n, o 'q' para salir):  s\n"
     ]
    },
    {
     "name": "stdout",
     "output_type": "stream",
     "text": [
      "Cámara activada. Dibuja un rectángulo alrededor del objeto con el mouse y presiona 'c' para capturar.\n",
      "Forma predicha: rhombus\n"
     ]
    },
    {
     "name": "stdout",
     "output_type": "stream",
     "text": [
      "¿Es correcto? (s/n, o 'q' para salir):  n\n"
     ]
    },
    {
     "name": "stdout",
     "output_type": "stream",
     "text": [
      "Selecciona la forma correcta (0-23): {'circle': 0, 'cone': 1, 'cube': 2, 'cuboid': 3, 'cylinder': 4, 'decagon': 5, 'dodecahedron': 6, 'ellipse': 7, 'heptagon': 8, 'hexagon': 9, 'nonagon': 10, 'octagon': 11, 'octahedron': 12, 'parallelogram': 13, 'pentagon': 14, 'prism': 15, 'pyramid': 16, 'rectangle': 17, 'rhombus': 18, 'sphere': 19, 'square': 20, 'tetrahedron': 21, 'trapezoid': 22, 'triangle': 23}\n"
     ]
    },
    {
     "name": "stdout",
     "output_type": "stream",
     "text": [
      "Ingresa el número de la forma correcta:  0\n"
     ]
    },
    {
     "name": "stdout",
     "output_type": "stream",
     "text": [
      "Cámara activada. Dibuja un rectángulo alrededor del objeto con el mouse y presiona 'c' para capturar.\n"
     ]
    }
   ],
   "source": [
    "import sys\n",
    "import os\n",
    "sys.path.append(os.path.abspath('..'))\n",
    "\n",
    "import tensorflow as tf\n",
    "from tensorflow.keras import layers, models\n",
    "from tensorflow.keras.preprocessing.image import ImageDataGenerator\n",
    "from src.utils.data_loader import load_data\n",
    "import numpy as np\n",
    "from sklearn.model_selection import train_test_split\n",
    "\n",
    "# Define la ruta de datos y del modelo\n",
    "data_dir = os.path.join(os.path.dirname(os.path.abspath('')), 'data', 'raw')\n",
    "model_path = os.path.join(os.path.dirname(os.path.abspath('')), 'data', 'models', 'modelo_formas.h5')\n",
    "\n",
    "# Carga TODAS las imágenes disponibles (sin límite)\n",
    "images, labels, forma_to_label = load_data(data_dir, max_images_per_class=None)\n",
    "print(f\"Cargadas {len(images)} imágenes de {len(forma_to_label)} clases\")\n",
    "print(\"Clases:\", forma_to_label)\n",
    "\n",
    "# Normaliza las imágenes\n",
    "images = images / 255.0\n",
    "num_classes = len(forma_to_label)\n",
    "labels = tf.keras.utils.to_categorical(labels, num_classes=num_classes)\n",
    "\n",
    "# Divide los datos (80% entrenamiento, 20% validación)\n",
    "X_train, X_val, y_train, y_val = train_test_split(images, labels, test_size=0.2, random_state=42)\n",
    "print(f\"Entrenamiento: {len(X_train)} imágenes, Validación: {len(X_val)} imágenes\")\n",
    "\n",
    "# Crea la arquitectura del modelo\n",
    "model = models.Sequential([\n",
    "    layers.Conv2D(32, (3, 3), activation='relu', input_shape=(128, 128, 3)),\n",
    "    layers.MaxPooling2D((2, 2)),\n",
    "    layers.Conv2D(64, (3, 3), activation='relu'),\n",
    "    layers.MaxPooling2D((2, 2)),\n",
    "    layers.Conv2D(128, (3, 3), activation='relu'),\n",
    "    layers.MaxPooling2D((2, 2)),\n",
    "    layers.Flatten(),\n",
    "    layers.Dense(256, activation='relu'),\n",
    "    layers.Dropout(0.5),\n",
    "    layers.Dense(num_classes, activation='softmax')\n",
    "])\n",
    "\n",
    "# Compila el modelo\n",
    "model.compile(optimizer='adam', loss='categorical_crossentropy', metrics=['accuracy'])\n",
    "\n",
    "# Augmentación de datos\n",
    "datagen = ImageDataGenerator(\n",
    "    rotation_range=20,\n",
    "    width_shift_range=0.2,\n",
    "    height_shift_range=0.2,\n",
    "    shear_range=0.2,\n",
    "    zoom_range=0.2,\n",
    "    horizontal_flip=True,\n",
    "    fill_mode='nearest'\n",
    ")\n",
    "train_generator = datagen.flow(X_train, y_train, batch_size=32)\n",
    "validation_generator = datagen.flow(X_val, y_val, batch_size=32)\n",
    "\n",
    "# Entrena el modelo desde cero\n",
    "print(\"Entrenando modelo desde cero con todas las imágenes...\")\n",
    "history = model.fit(train_generator, epochs=30, validation_data=validation_generator, verbose=1)\n",
    "\n",
    "# Crea la carpeta si no existe\n",
    "os.makedirs(os.path.dirname(model_path), exist_ok=True)\n",
    "\n",
    "# Guarda el modelo\n",
    "model.save(model_path)\n",
    "print(f\"Modelo entrenado guardado en: {model_path}\")\n",
    "print('Clases utilizadas:', forma_to_label)"
   ]
  },
  {
   "cell_type": "code",
   "execution_count": 2,
   "id": "abb9a7f2-9342-4079-8260-00adf1a08de9",
   "metadata": {},
   "outputs": [
    {
     "name": "stderr",
     "output_type": "stream",
     "text": [
      "WARNING:absl:Compiled the loaded model, but the compiled metrics have yet to be built. `model.compile_metrics` will be empty until you train or evaluate the model.\n"
     ]
    },
    {
     "name": "stdout",
     "output_type": "stream",
     "text": [
      "Modelo cargado desde: D:\\Descargas 2.0\\SEMESTREVII\\InteraccionHumanoComputador\\PrimeraTarea\\AnalisiOfSolidAndPlane\\data\\models\\modelo_formas.h5\n",
      "Cargadas 4695 imágenes de 16 clases iniciales\n",
      "Clases iniciales: {'circle': 0, 'cone': 1, 'cube': 2, 'cuboid': 3, 'cylinder': 4, 'ellipse': 5, 'hexagon': 6, 'octagon': 7, 'pentagon': 8, 'prism': 9, 'pyramid': 10, 'rectangle': 11, 'rhombus': 12, 'sphere': 13, 'square': 14, 'triangle': 15}\n",
      "Cargadas 4695 imágenes de 16 clases tras filtrado\n",
      "Clases seleccionadas: ['circle', 'cone', 'cube', 'cuboid', 'cylinder', 'ellipse', 'hexagon', 'octagon', 'pentagon', 'prism', 'pyramid', 'rectangle', 'rhombus', 'sphere', 'square', 'triangle']\n",
      "Entrenamiento: 3756 imágenes, Prueba: 939 imágenes\n",
      "\u001b[1m30/30\u001b[0m \u001b[32m━━━━━━━━━━━━━━━━━━━━\u001b[0m\u001b[37m\u001b[0m \u001b[1m6s\u001b[0m 47ms/step\n",
      "\n",
      "Evaluación del Modelo Actual:\n",
      "Accuracy: 0.87\n",
      "Precision: 0.88\n",
      "Recall: 0.87\n",
      "Matriz de Confusión:\n",
      "[[115   0   0   0   0   0   0   0   0   0   0   0   0   0   0   0]\n",
      " [  0  24   0   0   0   0   0   0   0   0   7   0   2   7   0   0]\n",
      " [  0   0  22   0   1   0   1   0   1   0   7   1   0   2   0   0]\n",
      " [  0   0   0  13   0   0   0   0   0   0   0   0   0   0   0   0]\n",
      " [  0   0   4   0  27   0   0   0   0   0   1   0   0   8   0   0]\n",
      " [  0   0   0   0   0 107   0   0   0   0   0   0   0   0   0   0]\n",
      " [  0   0   0   0   0   0   8   0   0   0   0   0   0   0   0   0]\n",
      " [  0   0   0   0   0   0   0  60  25   0   0   0   0   0   0   0]\n",
      " [  0   0   0   0   0   0   0   0 104   0   0   0   0   0   0   0]\n",
      " [  0   0   0  17   0   0   0   0   0   0   0   0   0   0   0   0]\n",
      " [  0   0   0   0   0   0   0   0   0   0  21   0   1   0   0   0]\n",
      " [  0   0   0   0   0   0   0   0   0   0   0  97   1   0   0   0]\n",
      " [  0   0   0   0   0   0   0   0  13   0   0   0  75   0   0   0]\n",
      " [ 13   0   0   0   0   0   0   0   0   0   8   0   0  14   0   0]\n",
      " [  0   0   0   0   0   0   0   0   0   0   0   0   0   0 114   0]\n",
      " [  0   0   0   0   0   0   0   0   0   0   0   0   0   0   0  18]]\n",
      "\n",
      "Comparación con el Modelo Anterior:\n",
      "Accuracy Anterior: 0.53\n",
      "Accuracy Actual: 0.87\n",
      "El modelo actual mejoró en comparación con el anterior.\n",
      "\n",
      "Precisión aceptable o datos insuficientes. No se requiere reentrenamiento.\n"
     ]
    }
   ],
   "source": [
    "import sys\n",
    "import os\n",
    "sys.path.append(os.path.abspath('..'))\n",
    "\n",
    "import tensorflow as tf\n",
    "from tensorflow.keras.preprocessing.image import ImageDataGenerator\n",
    "from src.utils.data_loader import load_data\n",
    "import numpy as np\n",
    "from sklearn.model_selection import train_test_split\n",
    "from sklearn.metrics import accuracy_score, precision_score, recall_score, confusion_matrix\n",
    "\n",
    "# Define la ruta de datos y del modelo\n",
    "data_dir = os.path.join(os.path.dirname(os.path.abspath('')), 'data', 'raw')\n",
    "model_path = os.path.join(os.path.dirname(os.path.abspath('')), 'data', 'models', 'modelo_formas.h5')\n",
    "\n",
    "# Define las clases utilizadas\n",
    "selected_classes = ['circle', 'cone', 'cube', 'cuboid', 'cylinder', 'ellipse', 'hexagon', 'octagon', 'pentagon', 'prism', 'pyramid', 'rectangle', 'rhombus', 'sphere', 'square', 'triangle']\n",
    "num_classes = len(selected_classes)\n",
    "\n",
    "# Carga el modelo\n",
    "model = tf.keras.models.load_model(model_path)\n",
    "print(f\"Modelo cargado desde: {model_path}\")\n",
    "\n",
    "# Carga todos los datos disponibles (500 imágenes por clase)\n",
    "images, labels, forma_to_label = load_data(data_dir, max_images_per_class=500)  # Usa todas las 500 por clase\n",
    "print(f\"Cargadas {len(images)} imágenes de {len(forma_to_label)} clases iniciales\")\n",
    "print(\"Clases iniciales:\", forma_to_label)\n",
    "\n",
    "# Filtra imágenes y etiquetas para las clases seleccionadas, asegurando todas las imágenes\n",
    "images_selected = []\n",
    "labels_selected = []\n",
    "for i, forma in enumerate(forma_to_label):\n",
    "    if forma in selected_classes:\n",
    "        class_indices = [j for j, label in enumerate(labels) if label == i]\n",
    "        images_selected.extend([images[j] for j in class_indices])\n",
    "        labels_selected.extend([i] * len(class_indices))\n",
    "\n",
    "# Crea un mapeo de índices originales a nuevos índices basados en selected_classes\n",
    "selected_indices = [i for i, forma in enumerate(forma_to_label) if forma in selected_classes]\n",
    "label_mapping = {i: idx for idx, i in enumerate(selected_indices)}\n",
    "labels_mapped = [label_mapping.get(label, -1) for label in labels_selected]\n",
    "labels_mapped = [label for label in labels_mapped if label != -1]\n",
    "images_selected = [img for i, img in enumerate(images_selected) if i < len(labels_mapped)]\n",
    "labels_mapped = labels_mapped[:len(images_selected)]  # Asegura misma longitud\n",
    "\n",
    "print(f\"Cargadas {len(images_selected)} imágenes de {len(selected_classes)} clases tras filtrado\")\n",
    "print(\"Clases seleccionadas:\", selected_classes)\n",
    "\n",
    "# Normaliza las imágenes\n",
    "images_selected = np.array(images_selected) / 255.0\n",
    "labels_one_hot = tf.keras.utils.to_categorical(labels_mapped, num_classes)\n",
    "\n",
    "# Divide los datos en entrenamiento y prueba (80% entrenamiento, 20% prueba)\n",
    "X_train, X_test, y_train, y_test = train_test_split(images_selected, labels_one_hot, test_size=0.2, random_state=42)\n",
    "print(f\"Entrenamiento: {len(X_train)} imágenes, Prueba: {len(X_test)} imágenes\")\n",
    "\n",
    "# Evalúa el modelo en el conjunto de prueba\n",
    "predictions = model.predict(np.array(X_test))\n",
    "predicted_classes = np.argmax(predictions, axis=1)\n",
    "true_classes = np.argmax(y_test, axis=1)\n",
    "\n",
    "# Métricas con manejo de todas las clases\n",
    "accuracy = accuracy_score(true_classes, predicted_classes)\n",
    "precision = precision_score(true_classes, predicted_classes, average='weighted', zero_division=0, labels=range(num_classes))\n",
    "recall = recall_score(true_classes, predicted_classes, average='weighted', zero_division=0, labels=range(num_classes))\n",
    "conf_matrix = confusion_matrix(true_classes, predicted_classes, labels=range(num_classes))\n",
    "\n",
    "print(f\"\\nEvaluación del Modelo Actual:\")\n",
    "print(f\"Accuracy: {accuracy:.2f}\")\n",
    "print(f\"Precision: {precision:.2f}\")\n",
    "print(f\"Recall: {recall:.2f}\")\n",
    "print(\"Matriz de Confusión:\")\n",
    "print(conf_matrix)\n",
    "\n",
    "# Comparación con el modelo anterior\n",
    "previous_accuracy = 0.53  # Valor del modelo anterior con 1000 imágenes de 20 clases\n",
    "print(f\"\\nComparación con el Modelo Anterior:\")\n",
    "print(f\"Accuracy Anterior: {previous_accuracy:.2f}\")\n",
    "print(f\"Accuracy Actual: {accuracy:.2f}\")\n",
    "if accuracy > previous_accuracy:\n",
    "    print(\"El modelo actual mejoró en comparación con el anterior.\")\n",
    "elif accuracy < previous_accuracy:\n",
    "    print(\"El modelo actual empeoró en comparación con el anterior.\")\n",
    "else:\n",
    "    print(\"El modelo actual tiene el mismo rendimiento que el anterior.\")\n",
    "\n",
    "# Mejora si la precisión es baja\n",
    "if accuracy < 0.8 and len(images_selected) > num_classes:\n",
    "    print(\"\\nPrecisión baja. Iniciando reentrenamiento...\")\n",
    "    datagen = ImageDataGenerator(\n",
    "        rotation_range=40,\n",
    "        width_shift_range=0.2,\n",
    "        height_shift_range=0.2,\n",
    "        shear_range=0.2,\n",
    "        zoom_range=0.2,\n",
    "        horizontal_flip=True,\n",
    "        fill_mode='nearest'\n",
    "    )\n",
    "    X_train, X_val, y_train, y_val = train_test_split(X_train, y_train, test_size=0.2, random_state=42)\n",
    "    train_generator = datagen.flow(np.array(X_train), y_train, batch_size=32)\n",
    "    validation_generator = datagen.flow(np.array(X_val), y_val, batch_size=32)\n",
    "\n",
    "    optimizer = tf.keras.optimizers.Adam(learning_rate=1e-5)\n",
    "    model.compile(optimizer=optimizer, loss='categorical_crossentropy', metrics=['accuracy'])\n",
    "    history = model.fit(train_generator, epochs=20, validation_data=validation_generator, verbose=1)\n",
    "\n",
    "    # Guarda el modelo mejorado\n",
    "    model.save(model_path)\n",
    "    print(f\"Modelo mejorado guardado en: {model_path}\")\n",
    "else:\n",
    "    print(\"\\nPrecisión aceptable o datos insuficientes. No se requiere reentrenamiento.\")"
   ]
  }
 ],
 "metadata": {
  "kernelspec": {
   "display_name": "Python 3 (ipykernel)",
   "language": "python",
   "name": "python3"
  },
  "language_info": {
   "codemirror_mode": {
    "name": "ipython",
    "version": 3
   },
   "file_extension": ".py",
   "mimetype": "text/x-python",
   "name": "python",
   "nbconvert_exporter": "python",
   "pygments_lexer": "ipython3",
   "version": "3.10.9"
  }
 },
 "nbformat": 4,
 "nbformat_minor": 5
}
